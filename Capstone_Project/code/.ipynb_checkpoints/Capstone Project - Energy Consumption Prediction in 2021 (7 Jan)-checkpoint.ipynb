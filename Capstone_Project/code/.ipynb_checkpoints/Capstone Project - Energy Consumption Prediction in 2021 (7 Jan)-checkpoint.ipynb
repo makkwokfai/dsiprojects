{
 "cells": [
  {
   "cell_type": "markdown",
   "metadata": {},
   "source": [
    "# DSI 18 - Capstone Project\n",
    "\n",
    "# Energy Consumption Prediction 2021"
   ]
  },
  {
   "cell_type": "markdown",
   "metadata": {},
   "source": [
    "## Contents\n",
    "\n",
    "- [1. Objective](#1.-Objective)\n",
    "    - [1.1. Problem Statement](#1.1.-Problem-Statement)\n",
    "    - [1.2. Data Sources](#1.2.-Data-Sources)\n",
    "    - [1.3. Approaches](#1.3.-Approaches)\n",
    "- [2. Analyze sector data](#2.-Analyze-sector-data)\n",
    "    - [2.1. Analyze 4 Industry-Related subsectors](#2.1.-Analyze-4-Industry-Related-subsectors)\n",
    "    - [2.2. Analyze 7 Commercial-Related subsectors](#2.2.-Analyze-7-Commercial-Related-subsectors)\n",
    "    - [2.3. Analyze Transport-Related sector](#2.3.-Analyze-Transport-Related-sector)\n",
    "    - [2.4. Analyze Households sector](#2.4.-Analyze-Households-sector)\n",
    "    - [2.5. Analyze Others sector](#2.5.-Analyze-Others-sector)\n",
    "- [3. Analyze households data](#3.-Analyze-households-data)\n",
    "\n",
    "\n",
    "\n",
    "\n",
    "- [7. Conclusions and Recommendations](#7.-Conclusions-and-Recommendations)\n",
    "\n"
   ]
  },
  {
   "cell_type": "markdown",
   "metadata": {},
   "source": [
    "## 1. Objective\n",
    "[top](#Contents)"
   ]
  },
  {
   "cell_type": "markdown",
   "metadata": {},
   "source": [
    "###### Based on the energy consumption in Singapore in 2005 -2020, we are going to predict the energy consumption in Singapore for 2021."
   ]
  },
  {
   "cell_type": "markdown",
   "metadata": {},
   "source": [
    "### 1.1. Problem Statement\n",
    "[top](#Contents)"
   ]
  },
  {
   "cell_type": "markdown",
   "metadata": {},
   "source": [
    "... to be continued ..."
   ]
  },
  {
   "cell_type": "markdown",
   "metadata": {},
   "source": [
    "### 1.2. Data Sources\n",
    "[top](#Contents)"
   ]
  },
  {
   "cell_type": "markdown",
   "metadata": {},
   "source": [
    "Past year Energy Consumption in Singapore from 2005 to 2020:\n",
    "\n",
    "https://www.kaggle.com/zyc191/energy-consumption-singapore-from-opendata"
   ]
  },
  {
   "cell_type": "markdown",
   "metadata": {},
   "source": [
    "### 1.3. Approaches\n",
    "[top](#Contents)"
   ]
  },
  {
   "cell_type": "markdown",
   "metadata": {},
   "source": [
    "... to be continued ..."
   ]
  },
  {
   "cell_type": "markdown",
   "metadata": {},
   "source": [
    "## 2. Analyze sector data\n",
    "[top](#Contents)"
   ]
  },
  {
   "cell_type": "code",
   "execution_count": 1,
   "metadata": {},
   "outputs": [],
   "source": [
    "import pandas as pd\n",
    "import matplotlib.pyplot as plt\n",
    "import seaborn as sns"
   ]
  },
  {
   "cell_type": "code",
   "execution_count": 2,
   "metadata": {},
   "outputs": [],
   "source": [
    "sec = pd.read_csv('../datasets/electricity_consumption_by_sub_sector_2005_2020.csv')"
   ]
  },
  {
   "cell_type": "code",
   "execution_count": 3,
   "metadata": {},
   "outputs": [
    {
     "data": {
      "text/html": [
       "<div>\n",
       "<style scoped>\n",
       "    .dataframe tbody tr th:only-of-type {\n",
       "        vertical-align: middle;\n",
       "    }\n",
       "\n",
       "    .dataframe tbody tr th {\n",
       "        vertical-align: top;\n",
       "    }\n",
       "\n",
       "    .dataframe thead th {\n",
       "        text-align: right;\n",
       "    }\n",
       "</style>\n",
       "<table border=\"1\" class=\"dataframe\">\n",
       "  <thead>\n",
       "    <tr style=\"text-align: right;\">\n",
       "      <th></th>\n",
       "      <th>year</th>\n",
       "      <th>sector</th>\n",
       "      <th>subsector</th>\n",
       "      <th>electricity_consumption_gwh</th>\n",
       "    </tr>\n",
       "  </thead>\n",
       "  <tbody>\n",
       "    <tr>\n",
       "      <th>0</th>\n",
       "      <td>2005</td>\n",
       "      <td>Industry-Related</td>\n",
       "      <td>Manufacturing</td>\n",
       "      <td>13836.130000</td>\n",
       "    </tr>\n",
       "    <tr>\n",
       "      <th>1</th>\n",
       "      <td>2005</td>\n",
       "      <td>Industry-Related</td>\n",
       "      <td>Construction</td>\n",
       "      <td>234.779777</td>\n",
       "    </tr>\n",
       "    <tr>\n",
       "      <th>2</th>\n",
       "      <td>2005</td>\n",
       "      <td>Industry-Related</td>\n",
       "      <td>Utilities</td>\n",
       "      <td>410.975073</td>\n",
       "    </tr>\n",
       "    <tr>\n",
       "      <th>3</th>\n",
       "      <td>2005</td>\n",
       "      <td>Industry-Related</td>\n",
       "      <td>Other Industry-Related</td>\n",
       "      <td>27.153824</td>\n",
       "    </tr>\n",
       "    <tr>\n",
       "      <th>4</th>\n",
       "      <td>2005</td>\n",
       "      <td>Commercial-Related</td>\n",
       "      <td>Wholesale and Retail Trade</td>\n",
       "      <td>2109.800000</td>\n",
       "    </tr>\n",
       "  </tbody>\n",
       "</table>\n",
       "</div>"
      ],
      "text/plain": [
       "   year              sector                   subsector  \\\n",
       "0  2005    Industry-Related               Manufacturing   \n",
       "1  2005    Industry-Related                Construction   \n",
       "2  2005    Industry-Related                   Utilities   \n",
       "3  2005    Industry-Related      Other Industry-Related   \n",
       "4  2005  Commercial-Related  Wholesale and Retail Trade   \n",
       "\n",
       "   electricity_consumption_gwh  \n",
       "0                 13836.130000  \n",
       "1                   234.779777  \n",
       "2                   410.975073  \n",
       "3                    27.153824  \n",
       "4                  2109.800000  "
      ]
     },
     "execution_count": 3,
     "metadata": {},
     "output_type": "execute_result"
    }
   ],
   "source": [
    "sec.head()"
   ]
  },
  {
   "cell_type": "code",
   "execution_count": 4,
   "metadata": {},
   "outputs": [
    {
     "data": {
      "text/plain": [
       "array(['Industry-Related', 'Commercial-Related', 'Transport-Related',\n",
       "       'Households', 'Others'], dtype=object)"
      ]
     },
     "execution_count": 4,
     "metadata": {},
     "output_type": "execute_result"
    }
   ],
   "source": [
    "sec['sector'].unique()"
   ]
  },
  {
   "cell_type": "code",
   "execution_count": 19,
   "metadata": {},
   "outputs": [
    {
     "data": {
      "image/png": "[encoded data removed]",
      "text/plain": [
       "<Figure size 864x576 with 1 Axes>"
      ]
     },
     "metadata": {
      "needs_background": "light"
     },
     "output_type": "display_data"
    }
   ],
   "source": [
    "plt.figure(figsize=(12, 8))\n",
    "\n",
    "sns.boxplot(x=sec['sector'], y=sec['electricity_consumption_gwh']);"
   ]
  },
  {
   "cell_type": "code",
   "execution_count": 6,
   "metadata": {},
   "outputs": [
    {
     "data": {
      "text/plain": [
       "Other Industry-Related    16\n",
       "Manufacturing             16\n",
       "Utilities                 16\n",
       "Construction              16\n",
       "Name: subsector, dtype: int64"
      ]
     },
     "execution_count": 6,
     "metadata": {},
     "output_type": "execute_result"
    }
   ],
   "source": [
    "sec[sec['sector'] =='Industry-Related']['subsector'].value_counts()"
   ]
  },
  {
   "cell_type": "code",
   "execution_count": 7,
   "metadata": {},
   "outputs": [
    {
     "data": {
      "text/plain": [
       "Wholesale and Retail Trade            16\n",
       "Accomodation and Food Services        16\n",
       "Professional, Scientific              16\n",
       "Real Estate Activities                16\n",
       "Other Commercial-Related              16\n",
       "Financial and Insurance Activities    16\n",
       "Information and Communications        16\n",
       "Name: subsector, dtype: int64"
      ]
     },
     "execution_count": 7,
     "metadata": {},
     "output_type": "execute_result"
    }
   ],
   "source": [
    "sec[sec['sector'] =='Commercial-Related']['subsector'].value_counts()"
   ]
  },
  {
   "cell_type": "code",
   "execution_count": 8,
   "metadata": {},
   "outputs": [
    {
     "data": {
      "text/plain": [
       "Transport-Related    16\n",
       "Name: subsector, dtype: int64"
      ]
     },
     "execution_count": 8,
     "metadata": {},
     "output_type": "execute_result"
    }
   ],
   "source": [
    "sec[sec['sector'] =='Transport-Related']['subsector'].value_counts()"
   ]
  },
  {
   "cell_type": "code",
   "execution_count": 9,
   "metadata": {},
   "outputs": [
    {
     "data": {
      "text/plain": [
       "Households    16\n",
       "Name: subsector, dtype: int64"
      ]
     },
     "execution_count": 9,
     "metadata": {},
     "output_type": "execute_result"
    }
   ],
   "source": [
    "sec[sec['sector'] =='Households']['subsector'].value_counts()"
   ]
  },
  {
   "cell_type": "code",
   "execution_count": 10,
   "metadata": {},
   "outputs": [
    {
     "data": {
      "text/plain": [
       "Others    16\n",
       "Name: subsector, dtype: int64"
      ]
     },
     "execution_count": 10,
     "metadata": {},
     "output_type": "execute_result"
    }
   ],
   "source": [
    "sec[sec['sector'] =='Others']['subsector'].value_counts()"
   ]
  },
  {
   "cell_type": "markdown",
   "metadata": {},
   "source": [
    "In energy consumption, it is seperated into different sector and subsectors:\n",
    "\n",
    "- Industry-Related\n",
    "        1. Manufacturing\n",
    "        2. Construction\n",
    "        3. Utilities\n",
    "        4. Other Industry-Related\n",
    "- Commercial-Related\n",
    "        1. Information and Communication\n",
    "        2. Financial and Insurance Activities\n",
    "        3. Wholesale and Retail Trade\n",
    "        4. Professional, Scientific\n",
    "        5. Accomodation and Food Service\n",
    "        6. Real Estate Activities\n",
    "        7. Other Commercial-Related\n",
    "- Transport Related\n",
    "- Households\n",
    "- Others\n",
    "\n",
    "We will look at the energy comsumpted by each subsector one-by-one."
   ]
  },
  {
   "cell_type": "markdown",
   "metadata": {},
   "source": [
    "### 2.1. Analyze 4 Industry-Related subsectors\n",
    "[top](#Contents)"
   ]
  },
  {
   "cell_type": "markdown",
   "metadata": {},
   "source": [
    "   1. Manufacturing\n",
    "   2. Construction\n",
    "   3. Utilities\n",
    "   4. Other Industry-Related"
   ]
  },
  {
   "cell_type": "markdown",
   "metadata": {},
   "source": [
    "#### 1. Analyze `Manufacturing` data"
   ]
  },
  {
   "cell_type": "code",
   "execution_count": 15,
   "metadata": {},
   "outputs": [
    {
     "data": {
      "text/html": [
       "<div>\n",
       "<style scoped>\n",
       "    .dataframe tbody tr th:only-of-type {\n",
       "        vertical-align: middle;\n",
       "    }\n",
       "\n",
       "    .dataframe tbody tr th {\n",
       "        vertical-align: top;\n",
       "    }\n",
       "\n",
       "    .dataframe thead th {\n",
       "        text-align: right;\n",
       "    }\n",
       "</style>\n",
       "<table border=\"1\" class=\"dataframe\">\n",
       "  <thead>\n",
       "    <tr style=\"text-align: right;\">\n",
       "      <th></th>\n",
       "      <th>year</th>\n",
       "      <th>electricity_consumption_gwh</th>\n",
       "    </tr>\n",
       "  </thead>\n",
       "  <tbody>\n",
       "    <tr>\n",
       "      <th>0</th>\n",
       "      <td>2005</td>\n",
       "      <td>13836.13000</td>\n",
       "    </tr>\n",
       "    <tr>\n",
       "      <th>14</th>\n",
       "      <td>2006</td>\n",
       "      <td>14397.16000</td>\n",
       "    </tr>\n",
       "    <tr>\n",
       "      <th>28</th>\n",
       "      <td>2007</td>\n",
       "      <td>14943.19000</td>\n",
       "    </tr>\n",
       "    <tr>\n",
       "      <th>42</th>\n",
       "      <td>2008</td>\n",
       "      <td>15032.67000</td>\n",
       "    </tr>\n",
       "    <tr>\n",
       "      <th>56</th>\n",
       "      <td>2009</td>\n",
       "      <td>14539.66000</td>\n",
       "    </tr>\n",
       "    <tr>\n",
       "      <th>70</th>\n",
       "      <td>2010</td>\n",
       "      <td>16448.03000</td>\n",
       "    </tr>\n",
       "    <tr>\n",
       "      <th>84</th>\n",
       "      <td>2011</td>\n",
       "      <td>16752.40000</td>\n",
       "    </tr>\n",
       "    <tr>\n",
       "      <th>98</th>\n",
       "      <td>2012</td>\n",
       "      <td>17112.40000</td>\n",
       "    </tr>\n",
       "    <tr>\n",
       "      <th>112</th>\n",
       "      <td>2013</td>\n",
       "      <td>17237.38000</td>\n",
       "    </tr>\n",
       "    <tr>\n",
       "      <th>126</th>\n",
       "      <td>2014</td>\n",
       "      <td>17988.95000</td>\n",
       "    </tr>\n",
       "    <tr>\n",
       "      <th>140</th>\n",
       "      <td>2015</td>\n",
       "      <td>18277.61000</td>\n",
       "    </tr>\n",
       "    <tr>\n",
       "      <th>154</th>\n",
       "      <td>2016</td>\n",
       "      <td>18370.91000</td>\n",
       "    </tr>\n",
       "    <tr>\n",
       "      <th>168</th>\n",
       "      <td>2017</td>\n",
       "      <td>19581.67000</td>\n",
       "    </tr>\n",
       "    <tr>\n",
       "      <th>182</th>\n",
       "      <td>2018</td>\n",
       "      <td>19451.50000</td>\n",
       "    </tr>\n",
       "    <tr>\n",
       "      <th>196</th>\n",
       "      <td>2019</td>\n",
       "      <td>19422.35000</td>\n",
       "    </tr>\n",
       "    <tr>\n",
       "      <th>210</th>\n",
       "      <td>2020</td>\n",
       "      <td>11097.94908</td>\n",
       "    </tr>\n",
       "  </tbody>\n",
       "</table>\n",
       "</div>"
      ],
      "text/plain": [
       "     year  electricity_consumption_gwh\n",
       "0    2005                  13836.13000\n",
       "14   2006                  14397.16000\n",
       "28   2007                  14943.19000\n",
       "42   2008                  15032.67000\n",
       "56   2009                  14539.66000\n",
       "70   2010                  16448.03000\n",
       "84   2011                  16752.40000\n",
       "98   2012                  17112.40000\n",
       "112  2013                  17237.38000\n",
       "126  2014                  17988.95000\n",
       "140  2015                  18277.61000\n",
       "154  2016                  18370.91000\n",
       "168  2017                  19581.67000\n",
       "182  2018                  19451.50000\n",
       "196  2019                  19422.35000\n",
       "210  2020                  11097.94908"
      ]
     },
     "execution_count": 15,
     "metadata": {},
     "output_type": "execute_result"
    }
   ],
   "source": [
    "manu = sec[sec['subsector'] == 'Manufacturing'][['year','electricity_consumption_gwh']]\n",
    "manu"
   ]
  },
  {
   "cell_type": "code",
   "execution_count": 22,
   "metadata": {},
   "outputs": [
    {
     "data": {
      "text/plain": [
       "[<matplotlib.lines.Line2D at 0x7fe7fa700670>]"
      ]
     },
     "execution_count": 22,
     "metadata": {},
     "output_type": "execute_result"
    },
    {
     "data": {
      "image/png": "[encoded data removed]",
      "text/plain": [
       "<Figure size 648x432 with 1 Axes>"
      ]
     },
     "metadata": {
      "needs_background": "light"
     },
     "output_type": "display_data"
    }
   ],
   "source": [
    "plt.figure(figsize=(9, 6))\n",
    "plt.plot(manu['year'],manu['electricity_consumption_gwh'])"
   ]
  },
  {
   "cell_type": "markdown",
   "metadata": {},
   "source": [
    "#### 2. Analyze `Construction` data"
   ]
  },
  {
   "cell_type": "code",
   "execution_count": 24,
   "metadata": {},
   "outputs": [
    {
     "data": {
      "text/html": [
       "<div>\n",
       "<style scoped>\n",
       "    .dataframe tbody tr th:only-of-type {\n",
       "        vertical-align: middle;\n",
       "    }\n",
       "\n",
       "    .dataframe tbody tr th {\n",
       "        vertical-align: top;\n",
       "    }\n",
       "\n",
       "    .dataframe thead th {\n",
       "        text-align: right;\n",
       "    }\n",
       "</style>\n",
       "<table border=\"1\" class=\"dataframe\">\n",
       "  <thead>\n",
       "    <tr style=\"text-align: right;\">\n",
       "      <th></th>\n",
       "      <th>year</th>\n",
       "      <th>electricity_consumption_gwh</th>\n",
       "    </tr>\n",
       "  </thead>\n",
       "  <tbody>\n",
       "    <tr>\n",
       "      <th>1</th>\n",
       "      <td>2005</td>\n",
       "      <td>234.779777</td>\n",
       "    </tr>\n",
       "    <tr>\n",
       "      <th>15</th>\n",
       "      <td>2006</td>\n",
       "      <td>250.523342</td>\n",
       "    </tr>\n",
       "    <tr>\n",
       "      <th>29</th>\n",
       "      <td>2007</td>\n",
       "      <td>279.127954</td>\n",
       "    </tr>\n",
       "    <tr>\n",
       "      <th>43</th>\n",
       "      <td>2008</td>\n",
       "      <td>300.876531</td>\n",
       "    </tr>\n",
       "    <tr>\n",
       "      <th>57</th>\n",
       "      <td>2009</td>\n",
       "      <td>308.295349</td>\n",
       "    </tr>\n",
       "    <tr>\n",
       "      <th>71</th>\n",
       "      <td>2010</td>\n",
       "      <td>337.839214</td>\n",
       "    </tr>\n",
       "    <tr>\n",
       "      <th>85</th>\n",
       "      <td>2011</td>\n",
       "      <td>362.967932</td>\n",
       "    </tr>\n",
       "    <tr>\n",
       "      <th>99</th>\n",
       "      <td>2012</td>\n",
       "      <td>443.689138</td>\n",
       "    </tr>\n",
       "    <tr>\n",
       "      <th>113</th>\n",
       "      <td>2013</td>\n",
       "      <td>490.536354</td>\n",
       "    </tr>\n",
       "    <tr>\n",
       "      <th>127</th>\n",
       "      <td>2014</td>\n",
       "      <td>527.117294</td>\n",
       "    </tr>\n",
       "    <tr>\n",
       "      <th>141</th>\n",
       "      <td>2015</td>\n",
       "      <td>531.036041</td>\n",
       "    </tr>\n",
       "    <tr>\n",
       "      <th>155</th>\n",
       "      <td>2016</td>\n",
       "      <td>551.571126</td>\n",
       "    </tr>\n",
       "    <tr>\n",
       "      <th>169</th>\n",
       "      <td>2017</td>\n",
       "      <td>484.348768</td>\n",
       "    </tr>\n",
       "    <tr>\n",
       "      <th>183</th>\n",
       "      <td>2018</td>\n",
       "      <td>432.290238</td>\n",
       "    </tr>\n",
       "    <tr>\n",
       "      <th>197</th>\n",
       "      <td>2019</td>\n",
       "      <td>395.161306</td>\n",
       "    </tr>\n",
       "    <tr>\n",
       "      <th>211</th>\n",
       "      <td>2020</td>\n",
       "      <td>211.601846</td>\n",
       "    </tr>\n",
       "  </tbody>\n",
       "</table>\n",
       "</div>"
      ],
      "text/plain": [
       "     year  electricity_consumption_gwh\n",
       "1    2005                   234.779777\n",
       "15   2006                   250.523342\n",
       "29   2007                   279.127954\n",
       "43   2008                   300.876531\n",
       "57   2009                   308.295349\n",
       "71   2010                   337.839214\n",
       "85   2011                   362.967932\n",
       "99   2012                   443.689138\n",
       "113  2013                   490.536354\n",
       "127  2014                   527.117294\n",
       "141  2015                   531.036041\n",
       "155  2016                   551.571126\n",
       "169  2017                   484.348768\n",
       "183  2018                   432.290238\n",
       "197  2019                   395.161306\n",
       "211  2020                   211.601846"
      ]
     },
     "execution_count": 24,
     "metadata": {},
     "output_type": "execute_result"
    }
   ],
   "source": [
    "cons = sec[sec['subsector'] == 'Construction'][['year','electricity_consumption_gwh']]\n",
    "cons"
   ]
  },
  {
   "cell_type": "code",
   "execution_count": 25,
   "metadata": {},
   "outputs": [
    {
     "data": {
      "text/plain": [
       "[<matplotlib.lines.Line2D at 0x7fe7fa931670>]"
      ]
     },
     "execution_count": 25,
     "metadata": {},
     "output_type": "execute_result"
    },
    {
     "data": {
      "image/png": "[encoded data removed]",
      "text/plain": [
       "<Figure size 648x432 with 1 Axes>"
      ]
     },
     "metadata": {
      "needs_background": "light"
     },
     "output_type": "display_data"
    }
   ],
   "source": [
    "plt.figure(figsize=(9, 6))\n",
    "plt.plot(cons['year'],cons['electricity_consumption_gwh'])"
   ]
  },
  {
   "cell_type": "markdown",
   "metadata": {},
   "source": [
    "#### 3. Analyze `Utilities` data"
   ]
  },
  {
   "cell_type": "code",
   "execution_count": 26,
   "metadata": {},
   "outputs": [
    {
     "data": {
      "text/html": [
       "<div>\n",
       "<style scoped>\n",
       "    .dataframe tbody tr th:only-of-type {\n",
       "        vertical-align: middle;\n",
       "    }\n",
       "\n",
       "    .dataframe tbody tr th {\n",
       "        vertical-align: top;\n",
       "    }\n",
       "\n",
       "    .dataframe thead th {\n",
       "        text-align: right;\n",
       "    }\n",
       "</style>\n",
       "<table border=\"1\" class=\"dataframe\">\n",
       "  <thead>\n",
       "    <tr style=\"text-align: right;\">\n",
       "      <th></th>\n",
       "      <th>year</th>\n",
       "      <th>electricity_consumption_gwh</th>\n",
       "    </tr>\n",
       "  </thead>\n",
       "  <tbody>\n",
       "    <tr>\n",
       "      <th>2</th>\n",
       "      <td>2005</td>\n",
       "      <td>410.975073</td>\n",
       "    </tr>\n",
       "    <tr>\n",
       "      <th>16</th>\n",
       "      <td>2006</td>\n",
       "      <td>441.814820</td>\n",
       "    </tr>\n",
       "    <tr>\n",
       "      <th>30</th>\n",
       "      <td>2007</td>\n",
       "      <td>569.155943</td>\n",
       "    </tr>\n",
       "    <tr>\n",
       "      <th>44</th>\n",
       "      <td>2008</td>\n",
       "      <td>668.361899</td>\n",
       "    </tr>\n",
       "    <tr>\n",
       "      <th>58</th>\n",
       "      <td>2009</td>\n",
       "      <td>691.876136</td>\n",
       "    </tr>\n",
       "    <tr>\n",
       "      <th>72</th>\n",
       "      <td>2010</td>\n",
       "      <td>843.397507</td>\n",
       "    </tr>\n",
       "    <tr>\n",
       "      <th>86</th>\n",
       "      <td>2011</td>\n",
       "      <td>928.504886</td>\n",
       "    </tr>\n",
       "    <tr>\n",
       "      <th>100</th>\n",
       "      <td>2012</td>\n",
       "      <td>978.915046</td>\n",
       "    </tr>\n",
       "    <tr>\n",
       "      <th>114</th>\n",
       "      <td>2013</td>\n",
       "      <td>1074.840000</td>\n",
       "    </tr>\n",
       "    <tr>\n",
       "      <th>128</th>\n",
       "      <td>2014</td>\n",
       "      <td>1197.960000</td>\n",
       "    </tr>\n",
       "    <tr>\n",
       "      <th>142</th>\n",
       "      <td>2015</td>\n",
       "      <td>1237.160000</td>\n",
       "    </tr>\n",
       "    <tr>\n",
       "      <th>156</th>\n",
       "      <td>2016</td>\n",
       "      <td>1450.140000</td>\n",
       "    </tr>\n",
       "    <tr>\n",
       "      <th>170</th>\n",
       "      <td>2017</td>\n",
       "      <td>1402.620000</td>\n",
       "    </tr>\n",
       "    <tr>\n",
       "      <th>184</th>\n",
       "      <td>2018</td>\n",
       "      <td>1518.680000</td>\n",
       "    </tr>\n",
       "    <tr>\n",
       "      <th>198</th>\n",
       "      <td>2019</td>\n",
       "      <td>1573.640000</td>\n",
       "    </tr>\n",
       "    <tr>\n",
       "      <th>212</th>\n",
       "      <td>2020</td>\n",
       "      <td>1685.917726</td>\n",
       "    </tr>\n",
       "  </tbody>\n",
       "</table>\n",
       "</div>"
      ],
      "text/plain": [
       "     year  electricity_consumption_gwh\n",
       "2    2005                   410.975073\n",
       "16   2006                   441.814820\n",
       "30   2007                   569.155943\n",
       "44   2008                   668.361899\n",
       "58   2009                   691.876136\n",
       "72   2010                   843.397507\n",
       "86   2011                   928.504886\n",
       "100  2012                   978.915046\n",
       "114  2013                  1074.840000\n",
       "128  2014                  1197.960000\n",
       "142  2015                  1237.160000\n",
       "156  2016                  1450.140000\n",
       "170  2017                  1402.620000\n",
       "184  2018                  1518.680000\n",
       "198  2019                  1573.640000\n",
       "212  2020                  1685.917726"
      ]
     },
     "execution_count": 26,
     "metadata": {},
     "output_type": "execute_result"
    }
   ],
   "source": [
    "util = sec[sec['subsector'] == 'Utilities'][['year','electricity_consumption_gwh']]\n",
    "util"
   ]
  },
  {
   "cell_type": "code",
   "execution_count": 27,
   "metadata": {},
   "outputs": [
    {
     "data": {
      "text/plain": [
       "[<matplotlib.lines.Line2D at 0x7fe7fa9940a0>]"
      ]
     },
     "execution_count": 27,
     "metadata": {},
     "output_type": "execute_result"
    },
    {
     "data": {
      "image/png": "[encoded data removed]",
      "text/plain": [
       "<Figure size 648x432 with 1 Axes>"
      ]
     },
     "metadata": {
      "needs_background": "light"
     },
     "output_type": "display_data"
    }
   ],
   "source": [
    "plt.figure(figsize=(9, 6))\n",
    "plt.plot(util['year'],util['electricity_consumption_gwh'])"
   ]
  },
  {
   "cell_type": "markdown",
   "metadata": {},
   "source": [
    "#### 4. Analyze `Other-Industry Related` data"
   ]
  },
  {
   "cell_type": "code",
   "execution_count": 31,
   "metadata": {},
   "outputs": [
    {
     "data": {
      "text/html": [
       "<div>\n",
       "<style scoped>\n",
       "    .dataframe tbody tr th:only-of-type {\n",
       "        vertical-align: middle;\n",
       "    }\n",
       "\n",
       "    .dataframe tbody tr th {\n",
       "        vertical-align: top;\n",
       "    }\n",
       "\n",
       "    .dataframe thead th {\n",
       "        text-align: right;\n",
       "    }\n",
       "</style>\n",
       "<table border=\"1\" class=\"dataframe\">\n",
       "  <thead>\n",
       "    <tr style=\"text-align: right;\">\n",
       "      <th></th>\n",
       "      <th>year</th>\n",
       "      <th>electricity_consumption_gwh</th>\n",
       "    </tr>\n",
       "  </thead>\n",
       "  <tbody>\n",
       "    <tr>\n",
       "      <th>3</th>\n",
       "      <td>2005</td>\n",
       "      <td>27.153824</td>\n",
       "    </tr>\n",
       "    <tr>\n",
       "      <th>17</th>\n",
       "      <td>2006</td>\n",
       "      <td>25.878581</td>\n",
       "    </tr>\n",
       "    <tr>\n",
       "      <th>31</th>\n",
       "      <td>2007</td>\n",
       "      <td>27.491121</td>\n",
       "    </tr>\n",
       "    <tr>\n",
       "      <th>45</th>\n",
       "      <td>2008</td>\n",
       "      <td>28.967587</td>\n",
       "    </tr>\n",
       "    <tr>\n",
       "      <th>59</th>\n",
       "      <td>2009</td>\n",
       "      <td>30.427884</td>\n",
       "    </tr>\n",
       "    <tr>\n",
       "      <th>73</th>\n",
       "      <td>2010</td>\n",
       "      <td>33.309514</td>\n",
       "    </tr>\n",
       "    <tr>\n",
       "      <th>87</th>\n",
       "      <td>2011</td>\n",
       "      <td>33.633632</td>\n",
       "    </tr>\n",
       "    <tr>\n",
       "      <th>101</th>\n",
       "      <td>2012</td>\n",
       "      <td>37.527046</td>\n",
       "    </tr>\n",
       "    <tr>\n",
       "      <th>115</th>\n",
       "      <td>2013</td>\n",
       "      <td>40.063731</td>\n",
       "    </tr>\n",
       "    <tr>\n",
       "      <th>129</th>\n",
       "      <td>2014</td>\n",
       "      <td>39.168698</td>\n",
       "    </tr>\n",
       "    <tr>\n",
       "      <th>143</th>\n",
       "      <td>2015</td>\n",
       "      <td>42.195917</td>\n",
       "    </tr>\n",
       "    <tr>\n",
       "      <th>157</th>\n",
       "      <td>2016</td>\n",
       "      <td>45.818303</td>\n",
       "    </tr>\n",
       "    <tr>\n",
       "      <th>171</th>\n",
       "      <td>2017</td>\n",
       "      <td>47.684552</td>\n",
       "    </tr>\n",
       "    <tr>\n",
       "      <th>185</th>\n",
       "      <td>2018</td>\n",
       "      <td>48.260496</td>\n",
       "    </tr>\n",
       "    <tr>\n",
       "      <th>199</th>\n",
       "      <td>2019</td>\n",
       "      <td>53.297950</td>\n",
       "    </tr>\n",
       "    <tr>\n",
       "      <th>213</th>\n",
       "      <td>2020</td>\n",
       "      <td>29.415484</td>\n",
       "    </tr>\n",
       "  </tbody>\n",
       "</table>\n",
       "</div>"
      ],
      "text/plain": [
       "     year  electricity_consumption_gwh\n",
       "3    2005                    27.153824\n",
       "17   2006                    25.878581\n",
       "31   2007                    27.491121\n",
       "45   2008                    28.967587\n",
       "59   2009                    30.427884\n",
       "73   2010                    33.309514\n",
       "87   2011                    33.633632\n",
       "101  2012                    37.527046\n",
       "115  2013                    40.063731\n",
       "129  2014                    39.168698\n",
       "143  2015                    42.195917\n",
       "157  2016                    45.818303\n",
       "171  2017                    47.684552\n",
       "185  2018                    48.260496\n",
       "199  2019                    53.297950\n",
       "213  2020                    29.415484"
      ]
     },
     "execution_count": 31,
     "metadata": {},
     "output_type": "execute_result"
    }
   ],
   "source": [
    "other1 = sec[sec['subsector'] == 'Other Industry-Related'][['year','electricity_consumption_gwh']]\n",
    "other1"
   ]
  },
  {
   "cell_type": "code",
   "execution_count": 32,
   "metadata": {},
   "outputs": [
    {
     "data": {
      "text/plain": [
       "[<matplotlib.lines.Line2D at 0x7fe7fa9654f0>]"
      ]
     },
     "execution_count": 32,
     "metadata": {},
     "output_type": "execute_result"
    },
    {
     "data": {
      "image/png": "[encoded data removed]",
      "text/plain": [
       "<Figure size 648x432 with 1 Axes>"
      ]
     },
     "metadata": {
      "needs_background": "light"
     },
     "output_type": "display_data"
    }
   ],
   "source": [
    "plt.figure(figsize=(9, 6))\n",
    "plt.plot(other1['year'],other1['electricity_consumption_gwh'])"
   ]
  },
  {
   "cell_type": "markdown",
   "metadata": {},
   "source": [
    "### 2.2. Analyze 7 Commercial-Related subsectors\n",
    "[top](#Contents)"
   ]
  },
  {
   "cell_type": "markdown",
   "metadata": {},
   "source": [
    "   1. Information and Communication\n",
    "   2. Financial and Insurance Activities\n",
    "   3. Wholesale and Retail Trade\n",
    "   4. Professional, Scientific\n",
    "   5. Accomodation and Food Services\n",
    "   6. Real Estate Activities\n",
    "   7. Other Commercial-Related"
   ]
  },
  {
   "cell_type": "markdown",
   "metadata": {},
   "source": [
    "#### 1. Analyze `Information and Communications` data"
   ]
  },
  {
   "cell_type": "code",
   "execution_count": 33,
   "metadata": {},
   "outputs": [
    {
     "data": {
      "text/html": [
       "<div>\n",
       "<style scoped>\n",
       "    .dataframe tbody tr th:only-of-type {\n",
       "        vertical-align: middle;\n",
       "    }\n",
       "\n",
       "    .dataframe tbody tr th {\n",
       "        vertical-align: top;\n",
       "    }\n",
       "\n",
       "    .dataframe thead th {\n",
       "        text-align: right;\n",
       "    }\n",
       "</style>\n",
       "<table border=\"1\" class=\"dataframe\">\n",
       "  <thead>\n",
       "    <tr style=\"text-align: right;\">\n",
       "      <th></th>\n",
       "      <th>year</th>\n",
       "      <th>electricity_consumption_gwh</th>\n",
       "    </tr>\n",
       "  </thead>\n",
       "  <tbody>\n",
       "    <tr>\n",
       "      <th>6</th>\n",
       "      <td>2005</td>\n",
       "      <td>667.191619</td>\n",
       "    </tr>\n",
       "    <tr>\n",
       "      <th>20</th>\n",
       "      <td>2006</td>\n",
       "      <td>708.707222</td>\n",
       "    </tr>\n",
       "    <tr>\n",
       "      <th>34</th>\n",
       "      <td>2007</td>\n",
       "      <td>761.249485</td>\n",
       "    </tr>\n",
       "    <tr>\n",
       "      <th>48</th>\n",
       "      <td>2008</td>\n",
       "      <td>844.527343</td>\n",
       "    </tr>\n",
       "    <tr>\n",
       "      <th>62</th>\n",
       "      <td>2009</td>\n",
       "      <td>865.984950</td>\n",
       "    </tr>\n",
       "    <tr>\n",
       "      <th>76</th>\n",
       "      <td>2010</td>\n",
       "      <td>925.483041</td>\n",
       "    </tr>\n",
       "    <tr>\n",
       "      <th>90</th>\n",
       "      <td>2011</td>\n",
       "      <td>988.648652</td>\n",
       "    </tr>\n",
       "    <tr>\n",
       "      <th>104</th>\n",
       "      <td>2012</td>\n",
       "      <td>1084.420000</td>\n",
       "    </tr>\n",
       "    <tr>\n",
       "      <th>118</th>\n",
       "      <td>2013</td>\n",
       "      <td>1149.090000</td>\n",
       "    </tr>\n",
       "    <tr>\n",
       "      <th>132</th>\n",
       "      <td>2014</td>\n",
       "      <td>1294.520000</td>\n",
       "    </tr>\n",
       "    <tr>\n",
       "      <th>146</th>\n",
       "      <td>2015</td>\n",
       "      <td>1426.750000</td>\n",
       "    </tr>\n",
       "    <tr>\n",
       "      <th>160</th>\n",
       "      <td>2016</td>\n",
       "      <td>1847.970000</td>\n",
       "    </tr>\n",
       "    <tr>\n",
       "      <th>174</th>\n",
       "      <td>2017</td>\n",
       "      <td>1873.470000</td>\n",
       "    </tr>\n",
       "    <tr>\n",
       "      <th>188</th>\n",
       "      <td>2018</td>\n",
       "      <td>2230.460000</td>\n",
       "    </tr>\n",
       "    <tr>\n",
       "      <th>202</th>\n",
       "      <td>2019</td>\n",
       "      <td>2491.810000</td>\n",
       "    </tr>\n",
       "    <tr>\n",
       "      <th>216</th>\n",
       "      <td>2020</td>\n",
       "      <td>1661.960142</td>\n",
       "    </tr>\n",
       "  </tbody>\n",
       "</table>\n",
       "</div>"
      ],
      "text/plain": [
       "     year  electricity_consumption_gwh\n",
       "6    2005                   667.191619\n",
       "20   2006                   708.707222\n",
       "34   2007                   761.249485\n",
       "48   2008                   844.527343\n",
       "62   2009                   865.984950\n",
       "76   2010                   925.483041\n",
       "90   2011                   988.648652\n",
       "104  2012                  1084.420000\n",
       "118  2013                  1149.090000\n",
       "132  2014                  1294.520000\n",
       "146  2015                  1426.750000\n",
       "160  2016                  1847.970000\n",
       "174  2017                  1873.470000\n",
       "188  2018                  2230.460000\n",
       "202  2019                  2491.810000\n",
       "216  2020                  1661.960142"
      ]
     },
     "execution_count": 33,
     "metadata": {},
     "output_type": "execute_result"
    }
   ],
   "source": [
    "ic = sec[sec['subsector'] == 'Information and Communications'][['year','electricity_consumption_gwh']]\n",
    "ic"
   ]
  },
  {
   "cell_type": "code",
   "execution_count": 34,
   "metadata": {},
   "outputs": [
    {
     "data": {
      "text/plain": [
       "[<matplotlib.lines.Line2D at 0x7fe7f9e7f670>]"
      ]
     },
     "execution_count": 34,
     "metadata": {},
     "output_type": "execute_result"
    },
    {
     "data": {
      "image/png": "[encoded data removed]",
      "text/plain": [
       "<Figure size 648x432 with 1 Axes>"
      ]
     },
     "metadata": {
      "needs_background": "light"
     },
     "output_type": "display_data"
    }
   ],
   "source": [
    "plt.figure(figsize=(9, 6))\n",
    "plt.plot(ic['year'],ic['electricity_consumption_gwh'])"
   ]
  },
  {
   "cell_type": "markdown",
   "metadata": {},
   "source": [
    "#### 2. Analyze `Financial and Insurance Activities` data"
   ]
  },
  {
   "cell_type": "code",
   "execution_count": 36,
   "metadata": {},
   "outputs": [
    {
     "data": {
      "text/html": [
       "<div>\n",
       "<style scoped>\n",
       "    .dataframe tbody tr th:only-of-type {\n",
       "        vertical-align: middle;\n",
       "    }\n",
       "\n",
       "    .dataframe tbody tr th {\n",
       "        vertical-align: top;\n",
       "    }\n",
       "\n",
       "    .dataframe thead th {\n",
       "        text-align: right;\n",
       "    }\n",
       "</style>\n",
       "<table border=\"1\" class=\"dataframe\">\n",
       "  <thead>\n",
       "    <tr style=\"text-align: right;\">\n",
       "      <th></th>\n",
       "      <th>year</th>\n",
       "      <th>electricity_consumption_gwh</th>\n",
       "    </tr>\n",
       "  </thead>\n",
       "  <tbody>\n",
       "    <tr>\n",
       "      <th>7</th>\n",
       "      <td>2005</td>\n",
       "      <td>1291.940000</td>\n",
       "    </tr>\n",
       "    <tr>\n",
       "      <th>21</th>\n",
       "      <td>2006</td>\n",
       "      <td>1659.680000</td>\n",
       "    </tr>\n",
       "    <tr>\n",
       "      <th>35</th>\n",
       "      <td>2007</td>\n",
       "      <td>2014.580000</td>\n",
       "    </tr>\n",
       "    <tr>\n",
       "      <th>49</th>\n",
       "      <td>2008</td>\n",
       "      <td>2014.860000</td>\n",
       "    </tr>\n",
       "    <tr>\n",
       "      <th>63</th>\n",
       "      <td>2009</td>\n",
       "      <td>1865.430000</td>\n",
       "    </tr>\n",
       "    <tr>\n",
       "      <th>77</th>\n",
       "      <td>2010</td>\n",
       "      <td>1926.990000</td>\n",
       "    </tr>\n",
       "    <tr>\n",
       "      <th>91</th>\n",
       "      <td>2011</td>\n",
       "      <td>2003.170000</td>\n",
       "    </tr>\n",
       "    <tr>\n",
       "      <th>105</th>\n",
       "      <td>2012</td>\n",
       "      <td>2204.200000</td>\n",
       "    </tr>\n",
       "    <tr>\n",
       "      <th>119</th>\n",
       "      <td>2013</td>\n",
       "      <td>2257.940000</td>\n",
       "    </tr>\n",
       "    <tr>\n",
       "      <th>133</th>\n",
       "      <td>2014</td>\n",
       "      <td>2574.100000</td>\n",
       "    </tr>\n",
       "    <tr>\n",
       "      <th>147</th>\n",
       "      <td>2015</td>\n",
       "      <td>2718.120000</td>\n",
       "    </tr>\n",
       "    <tr>\n",
       "      <th>161</th>\n",
       "      <td>2016</td>\n",
       "      <td>2361.690000</td>\n",
       "    </tr>\n",
       "    <tr>\n",
       "      <th>175</th>\n",
       "      <td>2017</td>\n",
       "      <td>2342.850000</td>\n",
       "    </tr>\n",
       "    <tr>\n",
       "      <th>189</th>\n",
       "      <td>2018</td>\n",
       "      <td>2358.950000</td>\n",
       "    </tr>\n",
       "    <tr>\n",
       "      <th>203</th>\n",
       "      <td>2019</td>\n",
       "      <td>2379.330000</td>\n",
       "    </tr>\n",
       "    <tr>\n",
       "      <th>217</th>\n",
       "      <td>2020</td>\n",
       "      <td>1281.910013</td>\n",
       "    </tr>\n",
       "  </tbody>\n",
       "</table>\n",
       "</div>"
      ],
      "text/plain": [
       "     year  electricity_consumption_gwh\n",
       "7    2005                  1291.940000\n",
       "21   2006                  1659.680000\n",
       "35   2007                  2014.580000\n",
       "49   2008                  2014.860000\n",
       "63   2009                  1865.430000\n",
       "77   2010                  1926.990000\n",
       "91   2011                  2003.170000\n",
       "105  2012                  2204.200000\n",
       "119  2013                  2257.940000\n",
       "133  2014                  2574.100000\n",
       "147  2015                  2718.120000\n",
       "161  2016                  2361.690000\n",
       "175  2017                  2342.850000\n",
       "189  2018                  2358.950000\n",
       "203  2019                  2379.330000\n",
       "217  2020                  1281.910013"
      ]
     },
     "execution_count": 36,
     "metadata": {},
     "output_type": "execute_result"
    }
   ],
   "source": [
    "fia = sec[sec['subsector'] == 'Financial and Insurance Activities'][['year','electricity_consumption_gwh']]\n",
    "fia"
   ]
  },
  {
   "cell_type": "code",
   "execution_count": 37,
   "metadata": {},
   "outputs": [
    {
     "data": {
      "text/plain": [
       "[<matplotlib.lines.Line2D at 0x7fe7f9961070>]"
      ]
     },
     "execution_count": 37,
     "metadata": {},
     "output_type": "execute_result"
    },
    {
     "data": {
      "image/png": "[encoded data removed]",
      "text/plain": [
       "<Figure size 648x432 with 1 Axes>"
      ]
     },
     "metadata": {
      "needs_background": "light"
     },
     "output_type": "display_data"
    }
   ],
   "source": [
    "plt.figure(figsize=(9, 6))\n",
    "plt.plot(fia['year'],fia['electricity_consumption_gwh'])"
   ]
  },
  {
   "cell_type": "markdown",
   "metadata": {},
   "source": [
    "#### 3. Analyze `Wholesale and Retail Trade` data"
   ]
  },
  {
   "cell_type": "code",
   "execution_count": 38,
   "metadata": {
    "scrolled": true
   },
   "outputs": [
    {
     "data": {
      "text/html": [
       "<div>\n",
       "<style scoped>\n",
       "    .dataframe tbody tr th:only-of-type {\n",
       "        vertical-align: middle;\n",
       "    }\n",
       "\n",
       "    .dataframe tbody tr th {\n",
       "        vertical-align: top;\n",
       "    }\n",
       "\n",
       "    .dataframe thead th {\n",
       "        text-align: right;\n",
       "    }\n",
       "</style>\n",
       "<table border=\"1\" class=\"dataframe\">\n",
       "  <thead>\n",
       "    <tr style=\"text-align: right;\">\n",
       "      <th></th>\n",
       "      <th>year</th>\n",
       "      <th>electricity_consumption_gwh</th>\n",
       "    </tr>\n",
       "  </thead>\n",
       "  <tbody>\n",
       "    <tr>\n",
       "      <th>4</th>\n",
       "      <td>2005</td>\n",
       "      <td>2109.800000</td>\n",
       "    </tr>\n",
       "    <tr>\n",
       "      <th>18</th>\n",
       "      <td>2006</td>\n",
       "      <td>1977.240000</td>\n",
       "    </tr>\n",
       "    <tr>\n",
       "      <th>32</th>\n",
       "      <td>2007</td>\n",
       "      <td>1891.930000</td>\n",
       "    </tr>\n",
       "    <tr>\n",
       "      <th>46</th>\n",
       "      <td>2008</td>\n",
       "      <td>1924.690000</td>\n",
       "    </tr>\n",
       "    <tr>\n",
       "      <th>60</th>\n",
       "      <td>2009</td>\n",
       "      <td>1821.370000</td>\n",
       "    </tr>\n",
       "    <tr>\n",
       "      <th>74</th>\n",
       "      <td>2010</td>\n",
       "      <td>1922.970000</td>\n",
       "    </tr>\n",
       "    <tr>\n",
       "      <th>88</th>\n",
       "      <td>2011</td>\n",
       "      <td>1898.850000</td>\n",
       "    </tr>\n",
       "    <tr>\n",
       "      <th>102</th>\n",
       "      <td>2012</td>\n",
       "      <td>1909.360000</td>\n",
       "    </tr>\n",
       "    <tr>\n",
       "      <th>116</th>\n",
       "      <td>2013</td>\n",
       "      <td>1967.080000</td>\n",
       "    </tr>\n",
       "    <tr>\n",
       "      <th>130</th>\n",
       "      <td>2014</td>\n",
       "      <td>2020.500000</td>\n",
       "    </tr>\n",
       "    <tr>\n",
       "      <th>144</th>\n",
       "      <td>2015</td>\n",
       "      <td>2107.420000</td>\n",
       "    </tr>\n",
       "    <tr>\n",
       "      <th>158</th>\n",
       "      <td>2016</td>\n",
       "      <td>2073.370000</td>\n",
       "    </tr>\n",
       "    <tr>\n",
       "      <th>172</th>\n",
       "      <td>2017</td>\n",
       "      <td>1994.500000</td>\n",
       "    </tr>\n",
       "    <tr>\n",
       "      <th>186</th>\n",
       "      <td>2018</td>\n",
       "      <td>2292.900000</td>\n",
       "    </tr>\n",
       "    <tr>\n",
       "      <th>200</th>\n",
       "      <td>2019</td>\n",
       "      <td>2265.490000</td>\n",
       "    </tr>\n",
       "    <tr>\n",
       "      <th>214</th>\n",
       "      <td>2020</td>\n",
       "      <td>1249.003823</td>\n",
       "    </tr>\n",
       "  </tbody>\n",
       "</table>\n",
       "</div>"
      ],
      "text/plain": [
       "     year  electricity_consumption_gwh\n",
       "4    2005                  2109.800000\n",
       "18   2006                  1977.240000\n",
       "32   2007                  1891.930000\n",
       "46   2008                  1924.690000\n",
       "60   2009                  1821.370000\n",
       "74   2010                  1922.970000\n",
       "88   2011                  1898.850000\n",
       "102  2012                  1909.360000\n",
       "116  2013                  1967.080000\n",
       "130  2014                  2020.500000\n",
       "144  2015                  2107.420000\n",
       "158  2016                  2073.370000\n",
       "172  2017                  1994.500000\n",
       "186  2018                  2292.900000\n",
       "200  2019                  2265.490000\n",
       "214  2020                  1249.003823"
      ]
     },
     "execution_count": 38,
     "metadata": {},
     "output_type": "execute_result"
    }
   ],
   "source": [
    "wrt = sec[sec['subsector'] == 'Wholesale and Retail Trade'][['year','electricity_consumption_gwh']]\n",
    "wrt"
   ]
  },
  {
   "cell_type": "code",
   "execution_count": 39,
   "metadata": {
    "scrolled": true
   },
   "outputs": [
    {
     "data": {
      "text/plain": [
       "[<matplotlib.lines.Line2D at 0x7fe7f9148130>]"
      ]
     },
     "execution_count": 39,
     "metadata": {},
     "output_type": "execute_result"
    },
    {
     "data": {
      "image/png": "[encoded data removed]",
      "text/plain": [
       "<Figure size 648x432 with 1 Axes>"
      ]
     },
     "metadata": {
      "needs_background": "light"
     },
     "output_type": "display_data"
    }
   ],
   "source": [
    "plt.figure(figsize=(9, 6))\n",
    "plt.plot(wrt['year'],wrt['electricity_consumption_gwh'])"
   ]
  },
  {
   "cell_type": "markdown",
   "metadata": {},
   "source": [
    "#### 4. Analyze `Professional, Scientific` data"
   ]
  },
  {
   "cell_type": "code",
   "execution_count": 40,
   "metadata": {},
   "outputs": [
    {
     "data": {
      "text/html": [
       "<div>\n",
       "<style scoped>\n",
       "    .dataframe tbody tr th:only-of-type {\n",
       "        vertical-align: middle;\n",
       "    }\n",
       "\n",
       "    .dataframe tbody tr th {\n",
       "        vertical-align: top;\n",
       "    }\n",
       "\n",
       "    .dataframe thead th {\n",
       "        text-align: right;\n",
       "    }\n",
       "</style>\n",
       "<table border=\"1\" class=\"dataframe\">\n",
       "  <thead>\n",
       "    <tr style=\"text-align: right;\">\n",
       "      <th></th>\n",
       "      <th>year</th>\n",
       "      <th>electricity_consumption_gwh</th>\n",
       "    </tr>\n",
       "  </thead>\n",
       "  <tbody>\n",
       "    <tr>\n",
       "      <th>9</th>\n",
       "      <td>2005</td>\n",
       "      <td>650.226630</td>\n",
       "    </tr>\n",
       "    <tr>\n",
       "      <th>23</th>\n",
       "      <td>2006</td>\n",
       "      <td>740.457071</td>\n",
       "    </tr>\n",
       "    <tr>\n",
       "      <th>37</th>\n",
       "      <td>2007</td>\n",
       "      <td>834.239319</td>\n",
       "    </tr>\n",
       "    <tr>\n",
       "      <th>51</th>\n",
       "      <td>2008</td>\n",
       "      <td>841.987238</td>\n",
       "    </tr>\n",
       "    <tr>\n",
       "      <th>65</th>\n",
       "      <td>2009</td>\n",
       "      <td>778.429362</td>\n",
       "    </tr>\n",
       "    <tr>\n",
       "      <th>79</th>\n",
       "      <td>2010</td>\n",
       "      <td>885.769581</td>\n",
       "    </tr>\n",
       "    <tr>\n",
       "      <th>93</th>\n",
       "      <td>2011</td>\n",
       "      <td>934.083686</td>\n",
       "    </tr>\n",
       "    <tr>\n",
       "      <th>107</th>\n",
       "      <td>2012</td>\n",
       "      <td>930.788114</td>\n",
       "    </tr>\n",
       "    <tr>\n",
       "      <th>121</th>\n",
       "      <td>2013</td>\n",
       "      <td>932.742640</td>\n",
       "    </tr>\n",
       "    <tr>\n",
       "      <th>135</th>\n",
       "      <td>2014</td>\n",
       "      <td>680.959329</td>\n",
       "    </tr>\n",
       "    <tr>\n",
       "      <th>149</th>\n",
       "      <td>2015</td>\n",
       "      <td>713.701674</td>\n",
       "    </tr>\n",
       "    <tr>\n",
       "      <th>163</th>\n",
       "      <td>2016</td>\n",
       "      <td>683.431053</td>\n",
       "    </tr>\n",
       "    <tr>\n",
       "      <th>177</th>\n",
       "      <td>2017</td>\n",
       "      <td>703.776397</td>\n",
       "    </tr>\n",
       "    <tr>\n",
       "      <th>191</th>\n",
       "      <td>2018</td>\n",
       "      <td>719.892865</td>\n",
       "    </tr>\n",
       "    <tr>\n",
       "      <th>205</th>\n",
       "      <td>2019</td>\n",
       "      <td>807.388472</td>\n",
       "    </tr>\n",
       "    <tr>\n",
       "      <th>219</th>\n",
       "      <td>2020</td>\n",
       "      <td>448.195719</td>\n",
       "    </tr>\n",
       "  </tbody>\n",
       "</table>\n",
       "</div>"
      ],
      "text/plain": [
       "     year  electricity_consumption_gwh\n",
       "9    2005                   650.226630\n",
       "23   2006                   740.457071\n",
       "37   2007                   834.239319\n",
       "51   2008                   841.987238\n",
       "65   2009                   778.429362\n",
       "79   2010                   885.769581\n",
       "93   2011                   934.083686\n",
       "107  2012                   930.788114\n",
       "121  2013                   932.742640\n",
       "135  2014                   680.959329\n",
       "149  2015                   713.701674\n",
       "163  2016                   683.431053\n",
       "177  2017                   703.776397\n",
       "191  2018                   719.892865\n",
       "205  2019                   807.388472\n",
       "219  2020                   448.195719"
      ]
     },
     "execution_count": 40,
     "metadata": {},
     "output_type": "execute_result"
    }
   ],
   "source": [
    "ps = sec[sec['subsector'] == 'Professional, Scientific'][['year','electricity_consumption_gwh']]\n",
    "ps"
   ]
  },
  {
   "cell_type": "code",
   "execution_count": 41,
   "metadata": {},
   "outputs": [
    {
     "data": {
      "text/plain": [
       "[<matplotlib.lines.Line2D at 0x7fe7fa994400>]"
      ]
     },
     "execution_count": 41,
     "metadata": {},
     "output_type": "execute_result"
    },
    {
     "data": {
      "image/png": "[encoded data removed]",
      "text/plain": [
       "<Figure size 648x432 with 1 Axes>"
      ]
     },
     "metadata": {
      "needs_background": "light"
     },
     "output_type": "display_data"
    }
   ],
   "source": [
    "plt.figure(figsize=(9, 6))\n",
    "plt.plot(ps['year'],ps['electricity_consumption_gwh'])"
   ]
  },
  {
   "cell_type": "markdown",
   "metadata": {},
   "source": [
    "#### 5. Analyze `Accomodation and Food Services` data"
   ]
  },
  {
   "cell_type": "code",
   "execution_count": 43,
   "metadata": {},
   "outputs": [
    {
     "data": {
      "text/html": [
       "<div>\n",
       "<style scoped>\n",
       "    .dataframe tbody tr th:only-of-type {\n",
       "        vertical-align: middle;\n",
       "    }\n",
       "\n",
       "    .dataframe tbody tr th {\n",
       "        vertical-align: top;\n",
       "    }\n",
       "\n",
       "    .dataframe thead th {\n",
       "        text-align: right;\n",
       "    }\n",
       "</style>\n",
       "<table border=\"1\" class=\"dataframe\">\n",
       "  <thead>\n",
       "    <tr style=\"text-align: right;\">\n",
       "      <th></th>\n",
       "      <th>year</th>\n",
       "      <th>electricity_consumption_gwh</th>\n",
       "    </tr>\n",
       "  </thead>\n",
       "  <tbody>\n",
       "    <tr>\n",
       "      <th>5</th>\n",
       "      <td>2005</td>\n",
       "      <td>1031.330000</td>\n",
       "    </tr>\n",
       "    <tr>\n",
       "      <th>19</th>\n",
       "      <td>2006</td>\n",
       "      <td>1087.050000</td>\n",
       "    </tr>\n",
       "    <tr>\n",
       "      <th>33</th>\n",
       "      <td>2007</td>\n",
       "      <td>1131.450000</td>\n",
       "    </tr>\n",
       "    <tr>\n",
       "      <th>47</th>\n",
       "      <td>2008</td>\n",
       "      <td>1171.670000</td>\n",
       "    </tr>\n",
       "    <tr>\n",
       "      <th>61</th>\n",
       "      <td>2009</td>\n",
       "      <td>1169.190000</td>\n",
       "    </tr>\n",
       "    <tr>\n",
       "      <th>75</th>\n",
       "      <td>2010</td>\n",
       "      <td>1219.620000</td>\n",
       "    </tr>\n",
       "    <tr>\n",
       "      <th>89</th>\n",
       "      <td>2011</td>\n",
       "      <td>1251.370000</td>\n",
       "    </tr>\n",
       "    <tr>\n",
       "      <th>103</th>\n",
       "      <td>2012</td>\n",
       "      <td>1275.140000</td>\n",
       "    </tr>\n",
       "    <tr>\n",
       "      <th>117</th>\n",
       "      <td>2013</td>\n",
       "      <td>1326.570000</td>\n",
       "    </tr>\n",
       "    <tr>\n",
       "      <th>131</th>\n",
       "      <td>2014</td>\n",
       "      <td>1332.270000</td>\n",
       "    </tr>\n",
       "    <tr>\n",
       "      <th>145</th>\n",
       "      <td>2015</td>\n",
       "      <td>1350.200000</td>\n",
       "    </tr>\n",
       "    <tr>\n",
       "      <th>159</th>\n",
       "      <td>2016</td>\n",
       "      <td>1453.240000</td>\n",
       "    </tr>\n",
       "    <tr>\n",
       "      <th>173</th>\n",
       "      <td>2017</td>\n",
       "      <td>1444.900000</td>\n",
       "    </tr>\n",
       "    <tr>\n",
       "      <th>187</th>\n",
       "      <td>2018</td>\n",
       "      <td>1463.950000</td>\n",
       "    </tr>\n",
       "    <tr>\n",
       "      <th>201</th>\n",
       "      <td>2019</td>\n",
       "      <td>1523.350000</td>\n",
       "    </tr>\n",
       "    <tr>\n",
       "      <th>215</th>\n",
       "      <td>2020</td>\n",
       "      <td>753.094006</td>\n",
       "    </tr>\n",
       "  </tbody>\n",
       "</table>\n",
       "</div>"
      ],
      "text/plain": [
       "     year  electricity_consumption_gwh\n",
       "5    2005                  1031.330000\n",
       "19   2006                  1087.050000\n",
       "33   2007                  1131.450000\n",
       "47   2008                  1171.670000\n",
       "61   2009                  1169.190000\n",
       "75   2010                  1219.620000\n",
       "89   2011                  1251.370000\n",
       "103  2012                  1275.140000\n",
       "117  2013                  1326.570000\n",
       "131  2014                  1332.270000\n",
       "145  2015                  1350.200000\n",
       "159  2016                  1453.240000\n",
       "173  2017                  1444.900000\n",
       "187  2018                  1463.950000\n",
       "201  2019                  1523.350000\n",
       "215  2020                   753.094006"
      ]
     },
     "execution_count": 43,
     "metadata": {},
     "output_type": "execute_result"
    }
   ],
   "source": [
    "afs = sec[sec['subsector'] == 'Accomodation and Food Services'][['year','electricity_consumption_gwh']]\n",
    "afs"
   ]
  },
  {
   "cell_type": "code",
   "execution_count": 44,
   "metadata": {},
   "outputs": [
    {
     "data": {
      "text/plain": [
       "[<matplotlib.lines.Line2D at 0x7fe7f92f89a0>]"
      ]
     },
     "execution_count": 44,
     "metadata": {},
     "output_type": "execute_result"
    },
    {
     "data": {
      "image/png": "[encoded data removed]",
      "text/plain": [
       "<Figure size 648x432 with 1 Axes>"
      ]
     },
     "metadata": {
      "needs_background": "light"
     },
     "output_type": "display_data"
    }
   ],
   "source": [
    "plt.figure(figsize=(9, 6))\n",
    "plt.plot(afs['year'],afs['electricity_consumption_gwh'])"
   ]
  },
  {
   "cell_type": "markdown",
   "metadata": {},
   "source": [
    "#### 6. Analyze `Real Estate Activities` data"
   ]
  },
  {
   "cell_type": "code",
   "execution_count": 45,
   "metadata": {},
   "outputs": [
    {
     "data": {
      "text/html": [
       "<div>\n",
       "<style scoped>\n",
       "    .dataframe tbody tr th:only-of-type {\n",
       "        vertical-align: middle;\n",
       "    }\n",
       "\n",
       "    .dataframe tbody tr th {\n",
       "        vertical-align: top;\n",
       "    }\n",
       "\n",
       "    .dataframe thead th {\n",
       "        text-align: right;\n",
       "    }\n",
       "</style>\n",
       "<table border=\"1\" class=\"dataframe\">\n",
       "  <thead>\n",
       "    <tr style=\"text-align: right;\">\n",
       "      <th></th>\n",
       "      <th>year</th>\n",
       "      <th>electricity_consumption_gwh</th>\n",
       "    </tr>\n",
       "  </thead>\n",
       "  <tbody>\n",
       "    <tr>\n",
       "      <th>8</th>\n",
       "      <td>2005</td>\n",
       "      <td>3712.420000</td>\n",
       "    </tr>\n",
       "    <tr>\n",
       "      <th>22</th>\n",
       "      <td>2006</td>\n",
       "      <td>3780.780000</td>\n",
       "    </tr>\n",
       "    <tr>\n",
       "      <th>36</th>\n",
       "      <td>2007</td>\n",
       "      <td>3809.960000</td>\n",
       "    </tr>\n",
       "    <tr>\n",
       "      <th>50</th>\n",
       "      <td>2008</td>\n",
       "      <td>3931.230000</td>\n",
       "    </tr>\n",
       "    <tr>\n",
       "      <th>64</th>\n",
       "      <td>2009</td>\n",
       "      <td>4050.850000</td>\n",
       "    </tr>\n",
       "    <tr>\n",
       "      <th>78</th>\n",
       "      <td>2010</td>\n",
       "      <td>4346.160000</td>\n",
       "    </tr>\n",
       "    <tr>\n",
       "      <th>92</th>\n",
       "      <td>2011</td>\n",
       "      <td>4454.690000</td>\n",
       "    </tr>\n",
       "    <tr>\n",
       "      <th>106</th>\n",
       "      <td>2012</td>\n",
       "      <td>4522.600000</td>\n",
       "    </tr>\n",
       "    <tr>\n",
       "      <th>120</th>\n",
       "      <td>2013</td>\n",
       "      <td>4532.390000</td>\n",
       "    </tr>\n",
       "    <tr>\n",
       "      <th>134</th>\n",
       "      <td>2014</td>\n",
       "      <td>4485.740000</td>\n",
       "    </tr>\n",
       "    <tr>\n",
       "      <th>148</th>\n",
       "      <td>2015</td>\n",
       "      <td>4454.570000</td>\n",
       "    </tr>\n",
       "    <tr>\n",
       "      <th>162</th>\n",
       "      <td>2016</td>\n",
       "      <td>4497.020000</td>\n",
       "    </tr>\n",
       "    <tr>\n",
       "      <th>176</th>\n",
       "      <td>2017</td>\n",
       "      <td>4700.880000</td>\n",
       "    </tr>\n",
       "    <tr>\n",
       "      <th>190</th>\n",
       "      <td>2018</td>\n",
       "      <td>4636.180000</td>\n",
       "    </tr>\n",
       "    <tr>\n",
       "      <th>204</th>\n",
       "      <td>2019</td>\n",
       "      <td>4865.360000</td>\n",
       "    </tr>\n",
       "    <tr>\n",
       "      <th>218</th>\n",
       "      <td>2020</td>\n",
       "      <td>2514.581896</td>\n",
       "    </tr>\n",
       "  </tbody>\n",
       "</table>\n",
       "</div>"
      ],
      "text/plain": [
       "     year  electricity_consumption_gwh\n",
       "8    2005                  3712.420000\n",
       "22   2006                  3780.780000\n",
       "36   2007                  3809.960000\n",
       "50   2008                  3931.230000\n",
       "64   2009                  4050.850000\n",
       "78   2010                  4346.160000\n",
       "92   2011                  4454.690000\n",
       "106  2012                  4522.600000\n",
       "120  2013                  4532.390000\n",
       "134  2014                  4485.740000\n",
       "148  2015                  4454.570000\n",
       "162  2016                  4497.020000\n",
       "176  2017                  4700.880000\n",
       "190  2018                  4636.180000\n",
       "204  2019                  4865.360000\n",
       "218  2020                  2514.581896"
      ]
     },
     "execution_count": 45,
     "metadata": {},
     "output_type": "execute_result"
    }
   ],
   "source": [
    "rea = sec[sec['subsector'] == 'Real Estate Activities'][['year','electricity_consumption_gwh']]\n",
    "rea"
   ]
  },
  {
   "cell_type": "code",
   "execution_count": 46,
   "metadata": {},
   "outputs": [
    {
     "data": {
      "text/plain": [
       "[<matplotlib.lines.Line2D at 0x7fe7fa1448b0>]"
      ]
     },
     "execution_count": 46,
     "metadata": {},
     "output_type": "execute_result"
    },
    {
     "data": {
      "image/png": "[encoded data removed]",
      "text/plain": [
       "<Figure size 648x432 with 1 Axes>"
      ]
     },
     "metadata": {
      "needs_background": "light"
     },
     "output_type": "display_data"
    }
   ],
   "source": [
    "plt.figure(figsize=(9, 6))\n",
    "plt.plot(rea['year'],rea['electricity_consumption_gwh'])"
   ]
  },
  {
   "cell_type": "markdown",
   "metadata": {},
   "source": [
    "#### 7. Analyze `Other Commercial-Related` data"
   ]
  },
  {
   "cell_type": "code",
   "execution_count": 48,
   "metadata": {},
   "outputs": [
    {
     "data": {
      "text/html": [
       "<div>\n",
       "<style scoped>\n",
       "    .dataframe tbody tr th:only-of-type {\n",
       "        vertical-align: middle;\n",
       "    }\n",
       "\n",
       "    .dataframe tbody tr th {\n",
       "        vertical-align: top;\n",
       "    }\n",
       "\n",
       "    .dataframe thead th {\n",
       "        text-align: right;\n",
       "    }\n",
       "</style>\n",
       "<table border=\"1\" class=\"dataframe\">\n",
       "  <thead>\n",
       "    <tr style=\"text-align: right;\">\n",
       "      <th></th>\n",
       "      <th>year</th>\n",
       "      <th>electricity_consumption_gwh</th>\n",
       "    </tr>\n",
       "  </thead>\n",
       "  <tbody>\n",
       "    <tr>\n",
       "      <th>10</th>\n",
       "      <td>2005</td>\n",
       "      <td>3612.700000</td>\n",
       "    </tr>\n",
       "    <tr>\n",
       "      <th>24</th>\n",
       "      <td>2006</td>\n",
       "      <td>3831.810000</td>\n",
       "    </tr>\n",
       "    <tr>\n",
       "      <th>38</th>\n",
       "      <td>2007</td>\n",
       "      <td>4077.170000</td>\n",
       "    </tr>\n",
       "    <tr>\n",
       "      <th>52</th>\n",
       "      <td>2008</td>\n",
       "      <td>4275.670000</td>\n",
       "    </tr>\n",
       "    <tr>\n",
       "      <th>66</th>\n",
       "      <td>2009</td>\n",
       "      <td>4248.810000</td>\n",
       "    </tr>\n",
       "    <tr>\n",
       "      <th>80</th>\n",
       "      <td>2010</td>\n",
       "      <td>4242.730000</td>\n",
       "    </tr>\n",
       "    <tr>\n",
       "      <th>94</th>\n",
       "      <td>2011</td>\n",
       "      <td>4345.440000</td>\n",
       "    </tr>\n",
       "    <tr>\n",
       "      <th>108</th>\n",
       "      <td>2012</td>\n",
       "      <td>4439.580000</td>\n",
       "    </tr>\n",
       "    <tr>\n",
       "      <th>122</th>\n",
       "      <td>2013</td>\n",
       "      <td>4552.800000</td>\n",
       "    </tr>\n",
       "    <tr>\n",
       "      <th>136</th>\n",
       "      <td>2014</td>\n",
       "      <td>4658.540000</td>\n",
       "    </tr>\n",
       "    <tr>\n",
       "      <th>150</th>\n",
       "      <td>2015</td>\n",
       "      <td>4710.280000</td>\n",
       "    </tr>\n",
       "    <tr>\n",
       "      <th>164</th>\n",
       "      <td>2016</td>\n",
       "      <td>4782.600000</td>\n",
       "    </tr>\n",
       "    <tr>\n",
       "      <th>178</th>\n",
       "      <td>2017</td>\n",
       "      <td>4743.890000</td>\n",
       "    </tr>\n",
       "    <tr>\n",
       "      <th>192</th>\n",
       "      <td>2018</td>\n",
       "      <td>4860.080000</td>\n",
       "    </tr>\n",
       "    <tr>\n",
       "      <th>206</th>\n",
       "      <td>2019</td>\n",
       "      <td>4982.240000</td>\n",
       "    </tr>\n",
       "    <tr>\n",
       "      <th>220</th>\n",
       "      <td>2020</td>\n",
       "      <td>2558.787853</td>\n",
       "    </tr>\n",
       "  </tbody>\n",
       "</table>\n",
       "</div>"
      ],
      "text/plain": [
       "     year  electricity_consumption_gwh\n",
       "10   2005                  3612.700000\n",
       "24   2006                  3831.810000\n",
       "38   2007                  4077.170000\n",
       "52   2008                  4275.670000\n",
       "66   2009                  4248.810000\n",
       "80   2010                  4242.730000\n",
       "94   2011                  4345.440000\n",
       "108  2012                  4439.580000\n",
       "122  2013                  4552.800000\n",
       "136  2014                  4658.540000\n",
       "150  2015                  4710.280000\n",
       "164  2016                  4782.600000\n",
       "178  2017                  4743.890000\n",
       "192  2018                  4860.080000\n",
       "206  2019                  4982.240000\n",
       "220  2020                  2558.787853"
      ]
     },
     "execution_count": 48,
     "metadata": {},
     "output_type": "execute_result"
    }
   ],
   "source": [
    "other2 = sec[sec['subsector'] == 'Other Commercial-Related'][['year','electricity_consumption_gwh']]\n",
    "other2"
   ]
  },
  {
   "cell_type": "code",
   "execution_count": 49,
   "metadata": {},
   "outputs": [
    {
     "data": {
      "text/plain": [
       "[<matplotlib.lines.Line2D at 0x7fe7fa181640>]"
      ]
     },
     "execution_count": 49,
     "metadata": {},
     "output_type": "execute_result"
    },
    {
     "data": {
      "image/png": "[encoded data removed]",
      "text/plain": [
       "<Figure size 648x432 with 1 Axes>"
      ]
     },
     "metadata": {
      "needs_background": "light"
     },
     "output_type": "display_data"
    }
   ],
   "source": [
    "plt.figure(figsize=(9, 6))\n",
    "plt.plot(other2['year'],other2['electricity_consumption_gwh'])"
   ]
  },
  {
   "cell_type": "markdown",
   "metadata": {},
   "source": [
    "### 2.3. Analyze Transport-Related sector\n",
    "[top](#Contents)"
   ]
  },
  {
   "cell_type": "code",
   "execution_count": 54,
   "metadata": {},
   "outputs": [
    {
     "data": {
      "text/html": [
       "<div>\n",
       "<style scoped>\n",
       "    .dataframe tbody tr th:only-of-type {\n",
       "        vertical-align: middle;\n",
       "    }\n",
       "\n",
       "    .dataframe tbody tr th {\n",
       "        vertical-align: top;\n",
       "    }\n",
       "\n",
       "    .dataframe thead th {\n",
       "        text-align: right;\n",
       "    }\n",
       "</style>\n",
       "<table border=\"1\" class=\"dataframe\">\n",
       "  <thead>\n",
       "    <tr style=\"text-align: right;\">\n",
       "      <th></th>\n",
       "      <th>year</th>\n",
       "      <th>electricity_consumption_gwh</th>\n",
       "    </tr>\n",
       "  </thead>\n",
       "  <tbody>\n",
       "    <tr>\n",
       "      <th>11</th>\n",
       "      <td>2005</td>\n",
       "      <td>1200.010000</td>\n",
       "    </tr>\n",
       "    <tr>\n",
       "      <th>25</th>\n",
       "      <td>2006</td>\n",
       "      <td>1245.390000</td>\n",
       "    </tr>\n",
       "    <tr>\n",
       "      <th>39</th>\n",
       "      <td>2007</td>\n",
       "      <td>1300.160000</td>\n",
       "    </tr>\n",
       "    <tr>\n",
       "      <th>53</th>\n",
       "      <td>2008</td>\n",
       "      <td>1399.830000</td>\n",
       "    </tr>\n",
       "    <tr>\n",
       "      <th>67</th>\n",
       "      <td>2009</td>\n",
       "      <td>1607.810000</td>\n",
       "    </tr>\n",
       "    <tr>\n",
       "      <th>81</th>\n",
       "      <td>2010</td>\n",
       "      <td>2098.680000</td>\n",
       "    </tr>\n",
       "    <tr>\n",
       "      <th>95</th>\n",
       "      <td>2011</td>\n",
       "      <td>2224.170000</td>\n",
       "    </tr>\n",
       "    <tr>\n",
       "      <th>109</th>\n",
       "      <td>2012</td>\n",
       "      <td>2328.590000</td>\n",
       "    </tr>\n",
       "    <tr>\n",
       "      <th>123</th>\n",
       "      <td>2013</td>\n",
       "      <td>2369.090000</td>\n",
       "    </tr>\n",
       "    <tr>\n",
       "      <th>137</th>\n",
       "      <td>2014</td>\n",
       "      <td>2441.030000</td>\n",
       "    </tr>\n",
       "    <tr>\n",
       "      <th>151</th>\n",
       "      <td>2015</td>\n",
       "      <td>2444.830000</td>\n",
       "    </tr>\n",
       "    <tr>\n",
       "      <th>165</th>\n",
       "      <td>2016</td>\n",
       "      <td>2639.370000</td>\n",
       "    </tr>\n",
       "    <tr>\n",
       "      <th>179</th>\n",
       "      <td>2017</td>\n",
       "      <td>2750.760000</td>\n",
       "    </tr>\n",
       "    <tr>\n",
       "      <th>193</th>\n",
       "      <td>2018</td>\n",
       "      <td>2943.620000</td>\n",
       "    </tr>\n",
       "    <tr>\n",
       "      <th>207</th>\n",
       "      <td>2019</td>\n",
       "      <td>3020.930000</td>\n",
       "    </tr>\n",
       "    <tr>\n",
       "      <th>221</th>\n",
       "      <td>2020</td>\n",
       "      <td>1608.405576</td>\n",
       "    </tr>\n",
       "  </tbody>\n",
       "</table>\n",
       "</div>"
      ],
      "text/plain": [
       "     year  electricity_consumption_gwh\n",
       "11   2005                  1200.010000\n",
       "25   2006                  1245.390000\n",
       "39   2007                  1300.160000\n",
       "53   2008                  1399.830000\n",
       "67   2009                  1607.810000\n",
       "81   2010                  2098.680000\n",
       "95   2011                  2224.170000\n",
       "109  2012                  2328.590000\n",
       "123  2013                  2369.090000\n",
       "137  2014                  2441.030000\n",
       "151  2015                  2444.830000\n",
       "165  2016                  2639.370000\n",
       "179  2017                  2750.760000\n",
       "193  2018                  2943.620000\n",
       "207  2019                  3020.930000\n",
       "221  2020                  1608.405576"
      ]
     },
     "execution_count": 54,
     "metadata": {},
     "output_type": "execute_result"
    }
   ],
   "source": [
    "tran = sec[sec['sector'] == 'Transport-Related'][['year','electricity_consumption_gwh']]\n",
    "tran"
   ]
  },
  {
   "cell_type": "code",
   "execution_count": 51,
   "metadata": {},
   "outputs": [
    {
     "data": {
      "text/plain": [
       "[<matplotlib.lines.Line2D at 0x7fe7f9743a30>]"
      ]
     },
     "execution_count": 51,
     "metadata": {},
     "output_type": "execute_result"
    },
    {
     "data": {
      "image/png": "[encoded data removed]",
      "text/plain": [
       "<Figure size 648x432 with 1 Axes>"
      ]
     },
     "metadata": {
      "needs_background": "light"
     },
     "output_type": "display_data"
    }
   ],
   "source": [
    "plt.figure(figsize=(9, 6))\n",
    "plt.plot(tran['year'],tran['electricity_consumption_gwh'])"
   ]
  },
  {
   "cell_type": "markdown",
   "metadata": {},
   "source": [
    "### 2.4. Analyze Households sector\n",
    "[top](#Contents)"
   ]
  },
  {
   "cell_type": "code",
   "execution_count": 52,
   "metadata": {},
   "outputs": [
    {
     "data": {
      "text/html": [
       "<div>\n",
       "<style scoped>\n",
       "    .dataframe tbody tr th:only-of-type {\n",
       "        vertical-align: middle;\n",
       "    }\n",
       "\n",
       "    .dataframe tbody tr th {\n",
       "        vertical-align: top;\n",
       "    }\n",
       "\n",
       "    .dataframe thead th {\n",
       "        text-align: right;\n",
       "    }\n",
       "</style>\n",
       "<table border=\"1\" class=\"dataframe\">\n",
       "  <thead>\n",
       "    <tr style=\"text-align: right;\">\n",
       "      <th></th>\n",
       "      <th>year</th>\n",
       "      <th>electricity_consumption_gwh</th>\n",
       "    </tr>\n",
       "  </thead>\n",
       "  <tbody>\n",
       "    <tr>\n",
       "      <th>12</th>\n",
       "      <td>2005</td>\n",
       "      <td>6092.460000</td>\n",
       "    </tr>\n",
       "    <tr>\n",
       "      <th>26</th>\n",
       "      <td>2006</td>\n",
       "      <td>6109.130000</td>\n",
       "    </tr>\n",
       "    <tr>\n",
       "      <th>40</th>\n",
       "      <td>2007</td>\n",
       "      <td>6163.740000</td>\n",
       "    </tr>\n",
       "    <tr>\n",
       "      <th>54</th>\n",
       "      <td>2008</td>\n",
       "      <td>6094.030000</td>\n",
       "    </tr>\n",
       "    <tr>\n",
       "      <th>68</th>\n",
       "      <td>2009</td>\n",
       "      <td>6430.800000</td>\n",
       "    </tr>\n",
       "    <tr>\n",
       "      <th>82</th>\n",
       "      <td>2010</td>\n",
       "      <td>6635.970000</td>\n",
       "    </tr>\n",
       "    <tr>\n",
       "      <th>96</th>\n",
       "      <td>2011</td>\n",
       "      <td>6482.700000</td>\n",
       "    </tr>\n",
       "    <tr>\n",
       "      <th>110</th>\n",
       "      <td>2012</td>\n",
       "      <td>6629.530000</td>\n",
       "    </tr>\n",
       "    <tr>\n",
       "      <th>124</th>\n",
       "      <td>2013</td>\n",
       "      <td>6754.910000</td>\n",
       "    </tr>\n",
       "    <tr>\n",
       "      <th>138</th>\n",
       "      <td>2014</td>\n",
       "      <td>6924.390000</td>\n",
       "    </tr>\n",
       "    <tr>\n",
       "      <th>152</th>\n",
       "      <td>2015</td>\n",
       "      <td>7220.930000</td>\n",
       "    </tr>\n",
       "    <tr>\n",
       "      <th>166</th>\n",
       "      <td>2016</td>\n",
       "      <td>7589.440000</td>\n",
       "    </tr>\n",
       "    <tr>\n",
       "      <th>180</th>\n",
       "      <td>2017</td>\n",
       "      <td>7295.820000</td>\n",
       "    </tr>\n",
       "    <tr>\n",
       "      <th>194</th>\n",
       "      <td>2018</td>\n",
       "      <td>7221.430000</td>\n",
       "    </tr>\n",
       "    <tr>\n",
       "      <th>208</th>\n",
       "      <td>2019</td>\n",
       "      <td>7688.010000</td>\n",
       "    </tr>\n",
       "    <tr>\n",
       "      <th>222</th>\n",
       "      <td>2020</td>\n",
       "      <td>4861.229678</td>\n",
       "    </tr>\n",
       "  </tbody>\n",
       "</table>\n",
       "</div>"
      ],
      "text/plain": [
       "     year  electricity_consumption_gwh\n",
       "12   2005                  6092.460000\n",
       "26   2006                  6109.130000\n",
       "40   2007                  6163.740000\n",
       "54   2008                  6094.030000\n",
       "68   2009                  6430.800000\n",
       "82   2010                  6635.970000\n",
       "96   2011                  6482.700000\n",
       "110  2012                  6629.530000\n",
       "124  2013                  6754.910000\n",
       "138  2014                  6924.390000\n",
       "152  2015                  7220.930000\n",
       "166  2016                  7589.440000\n",
       "180  2017                  7295.820000\n",
       "194  2018                  7221.430000\n",
       "208  2019                  7688.010000\n",
       "222  2020                  4861.229678"
      ]
     },
     "execution_count": 52,
     "metadata": {},
     "output_type": "execute_result"
    }
   ],
   "source": [
    "house = sec[sec['sector'] == 'Households'][['year','electricity_consumption_gwh']]\n",
    "house"
   ]
  },
  {
   "cell_type": "code",
   "execution_count": 53,
   "metadata": {},
   "outputs": [
    {
     "data": {
      "text/plain": [
       "[<matplotlib.lines.Line2D at 0x7fe7f9b1e640>]"
      ]
     },
     "execution_count": 53,
     "metadata": {},
     "output_type": "execute_result"
    },
    {
     "data": {
      "image/png": "[encoded data removed]",
      "text/plain": [
       "<Figure size 648x432 with 1 Axes>"
      ]
     },
     "metadata": {
      "needs_background": "light"
     },
     "output_type": "display_data"
    }
   ],
   "source": [
    "plt.figure(figsize=(9, 6))\n",
    "plt.plot(house['year'],house['electricity_consumption_gwh'])"
   ]
  },
  {
   "cell_type": "markdown",
   "metadata": {},
   "source": [
    "### 2.5. Analyze Others sector\n",
    "[top](#Contents)"
   ]
  },
  {
   "cell_type": "code",
   "execution_count": 55,
   "metadata": {},
   "outputs": [
    {
     "data": {
      "text/html": [
       "<div>\n",
       "<style scoped>\n",
       "    .dataframe tbody tr th:only-of-type {\n",
       "        vertical-align: middle;\n",
       "    }\n",
       "\n",
       "    .dataframe tbody tr th {\n",
       "        vertical-align: top;\n",
       "    }\n",
       "\n",
       "    .dataframe thead th {\n",
       "        text-align: right;\n",
       "    }\n",
       "</style>\n",
       "<table border=\"1\" class=\"dataframe\">\n",
       "  <thead>\n",
       "    <tr style=\"text-align: right;\">\n",
       "      <th></th>\n",
       "      <th>year</th>\n",
       "      <th>electricity_consumption_gwh</th>\n",
       "    </tr>\n",
       "  </thead>\n",
       "  <tbody>\n",
       "    <tr>\n",
       "      <th>13</th>\n",
       "      <td>2005</td>\n",
       "      <td>612.139760</td>\n",
       "    </tr>\n",
       "    <tr>\n",
       "      <th>27</th>\n",
       "      <td>2006</td>\n",
       "      <td>546.186656</td>\n",
       "    </tr>\n",
       "    <tr>\n",
       "      <th>41</th>\n",
       "      <td>2007</td>\n",
       "      <td>501.469327</td>\n",
       "    </tr>\n",
       "    <tr>\n",
       "      <th>55</th>\n",
       "      <td>2008</td>\n",
       "      <td>457.585496</td>\n",
       "    </tr>\n",
       "    <tr>\n",
       "      <th>69</th>\n",
       "      <td>2009</td>\n",
       "      <td>413.940564</td>\n",
       "    </tr>\n",
       "    <tr>\n",
       "      <th>83</th>\n",
       "      <td>2010</td>\n",
       "      <td>384.805705</td>\n",
       "    </tr>\n",
       "    <tr>\n",
       "      <th>97</th>\n",
       "      <td>2011</td>\n",
       "      <td>346.507704</td>\n",
       "    </tr>\n",
       "    <tr>\n",
       "      <th>111</th>\n",
       "      <td>2012</td>\n",
       "      <td>303.968869</td>\n",
       "    </tr>\n",
       "    <tr>\n",
       "      <th>125</th>\n",
       "      <td>2013</td>\n",
       "      <td>263.382732</td>\n",
       "    </tr>\n",
       "    <tr>\n",
       "      <th>139</th>\n",
       "      <td>2014</td>\n",
       "      <td>237.700663</td>\n",
       "    </tr>\n",
       "    <tr>\n",
       "      <th>153</th>\n",
       "      <td>2015</td>\n",
       "      <td>279.139058</td>\n",
       "    </tr>\n",
       "    <tr>\n",
       "      <th>167</th>\n",
       "      <td>2016</td>\n",
       "      <td>280.065965</td>\n",
       "    </tr>\n",
       "    <tr>\n",
       "      <th>181</th>\n",
       "      <td>2017</td>\n",
       "      <td>276.482275</td>\n",
       "    </tr>\n",
       "    <tr>\n",
       "      <th>195</th>\n",
       "      <td>2018</td>\n",
       "      <td>270.703648</td>\n",
       "    </tr>\n",
       "    <tr>\n",
       "      <th>209</th>\n",
       "      <td>2019</td>\n",
       "      <td>251.670277</td>\n",
       "    </tr>\n",
       "    <tr>\n",
       "      <th>223</th>\n",
       "      <td>2020</td>\n",
       "      <td>129.865103</td>\n",
       "    </tr>\n",
       "  </tbody>\n",
       "</table>\n",
       "</div>"
      ],
      "text/plain": [
       "     year  electricity_consumption_gwh\n",
       "13   2005                   612.139760\n",
       "27   2006                   546.186656\n",
       "41   2007                   501.469327\n",
       "55   2008                   457.585496\n",
       "69   2009                   413.940564\n",
       "83   2010                   384.805705\n",
       "97   2011                   346.507704\n",
       "111  2012                   303.968869\n",
       "125  2013                   263.382732\n",
       "139  2014                   237.700663\n",
       "153  2015                   279.139058\n",
       "167  2016                   280.065965\n",
       "181  2017                   276.482275\n",
       "195  2018                   270.703648\n",
       "209  2019                   251.670277\n",
       "223  2020                   129.865103"
      ]
     },
     "execution_count": 55,
     "metadata": {},
     "output_type": "execute_result"
    }
   ],
   "source": [
    "oth = sec[sec['sector'] == 'Others'][['year','electricity_consumption_gwh']]\n",
    "oth"
   ]
  },
  {
   "cell_type": "code",
   "execution_count": 56,
   "metadata": {},
   "outputs": [
    {
     "data": {
      "text/plain": [
       "[<matplotlib.lines.Line2D at 0x7fe7f16f3a00>]"
      ]
     },
     "execution_count": 56,
     "metadata": {},
     "output_type": "execute_result"
    },
    {
     "data": {
      "image/png": "[encoded data removed]",
      "text/plain": [
       "<Figure size 648x432 with 1 Axes>"
      ]
     },
     "metadata": {
      "needs_background": "light"
     },
     "output_type": "display_data"
    }
   ],
   "source": [
    "plt.figure(figsize=(9, 6))\n",
    "plt.plot(oth['year'],oth['electricity_consumption_gwh'])"
   ]
  },
  {
   "cell_type": "markdown",
   "metadata": {},
   "source": [
    "## 3. Analyze households data\n",
    "[top](#Contents)"
   ]
  },
  {
   "cell_type": "code",
   "execution_count": 57,
   "metadata": {},
   "outputs": [],
   "source": [
    "households = pd.read_csv('../datasets/total_household_electricity_consumption_2005_2020.csv')"
   ]
  },
  {
   "cell_type": "code",
   "execution_count": 58,
   "metadata": {},
   "outputs": [
    {
     "data": {
      "text/html": [
       "<div>\n",
       "<style scoped>\n",
       "    .dataframe tbody tr th:only-of-type {\n",
       "        vertical-align: middle;\n",
       "    }\n",
       "\n",
       "    .dataframe tbody tr th {\n",
       "        vertical-align: top;\n",
       "    }\n",
       "\n",
       "    .dataframe thead th {\n",
       "        text-align: right;\n",
       "    }\n",
       "</style>\n",
       "<table border=\"1\" class=\"dataframe\">\n",
       "  <thead>\n",
       "    <tr style=\"text-align: right;\">\n",
       "      <th></th>\n",
       "      <th>month</th>\n",
       "      <th>overall</th>\n",
       "      <th>public_housing</th>\n",
       "      <th>1-room_2-room</th>\n",
       "      <th>3-room</th>\n",
       "      <th>4-room</th>\n",
       "      <th>5-room_and_executive</th>\n",
       "      <th>private_housing</th>\n",
       "      <th>private_apts_and_condo</th>\n",
       "      <th>landed_properties</th>\n",
       "      <th>others</th>\n",
       "    </tr>\n",
       "  </thead>\n",
       "  <tbody>\n",
       "    <tr>\n",
       "      <th>0</th>\n",
       "      <td>2019-01</td>\n",
       "      <td>594.1</td>\n",
       "      <td>343.4</td>\n",
       "      <td>11.5</td>\n",
       "      <td>61.1</td>\n",
       "      <td>143.3</td>\n",
       "      <td>127.4</td>\n",
       "      <td>249.8</td>\n",
       "      <td>163.0</td>\n",
       "      <td>86.9</td>\n",
       "      <td>0.8</td>\n",
       "    </tr>\n",
       "    <tr>\n",
       "      <th>1</th>\n",
       "      <td>2019-02</td>\n",
       "      <td>613.6</td>\n",
       "      <td>356.0</td>\n",
       "      <td>11.7</td>\n",
       "      <td>62.3</td>\n",
       "      <td>148.5</td>\n",
       "      <td>133.4</td>\n",
       "      <td>256.7</td>\n",
       "      <td>167.6</td>\n",
       "      <td>89.1</td>\n",
       "      <td>0.8</td>\n",
       "    </tr>\n",
       "    <tr>\n",
       "      <th>2</th>\n",
       "      <td>2019-03</td>\n",
       "      <td>598.2</td>\n",
       "      <td>340.9</td>\n",
       "      <td>11.2</td>\n",
       "      <td>59.6</td>\n",
       "      <td>142.0</td>\n",
       "      <td>128.0</td>\n",
       "      <td>256.5</td>\n",
       "      <td>167.8</td>\n",
       "      <td>88.7</td>\n",
       "      <td>0.8</td>\n",
       "    </tr>\n",
       "    <tr>\n",
       "      <th>3</th>\n",
       "      <td>2019-04</td>\n",
       "      <td>653.1</td>\n",
       "      <td>374.6</td>\n",
       "      <td>12.3</td>\n",
       "      <td>66.2</td>\n",
       "      <td>155.9</td>\n",
       "      <td>140.2</td>\n",
       "      <td>277.6</td>\n",
       "      <td>183.6</td>\n",
       "      <td>94.0</td>\n",
       "      <td>0.9</td>\n",
       "    </tr>\n",
       "    <tr>\n",
       "      <th>4</th>\n",
       "      <td>2019-05</td>\n",
       "      <td>670.5</td>\n",
       "      <td>385.9</td>\n",
       "      <td>12.8</td>\n",
       "      <td>68.3</td>\n",
       "      <td>160.7</td>\n",
       "      <td>144.0</td>\n",
       "      <td>283.7</td>\n",
       "      <td>190.0</td>\n",
       "      <td>93.7</td>\n",
       "      <td>0.9</td>\n",
       "    </tr>\n",
       "  </tbody>\n",
       "</table>\n",
       "</div>"
      ],
      "text/plain": [
       "     month  overall  public_housing  1-room_2-room  3-room  4-room  \\\n",
       "0  2019-01    594.1           343.4           11.5    61.1   143.3   \n",
       "1  2019-02    613.6           356.0           11.7    62.3   148.5   \n",
       "2  2019-03    598.2           340.9           11.2    59.6   142.0   \n",
       "3  2019-04    653.1           374.6           12.3    66.2   155.9   \n",
       "4  2019-05    670.5           385.9           12.8    68.3   160.7   \n",
       "\n",
       "   5-room_and_executive  private_housing  private_apts_and_condo  \\\n",
       "0                 127.4            249.8                   163.0   \n",
       "1                 133.4            256.7                   167.6   \n",
       "2                 128.0            256.5                   167.8   \n",
       "3                 140.2            277.6                   183.6   \n",
       "4                 144.0            283.7                   190.0   \n",
       "\n",
       "   landed_properties  others  \n",
       "0               86.9     0.8  \n",
       "1               89.1     0.8  \n",
       "2               88.7     0.8  \n",
       "3               94.0     0.9  \n",
       "4               93.7     0.9  "
      ]
     },
     "execution_count": 58,
     "metadata": {},
     "output_type": "execute_result"
    }
   ],
   "source": [
    "households.head()"
   ]
  },
  {
   "cell_type": "code",
   "execution_count": 59,
   "metadata": {
    "scrolled": true
   },
   "outputs": [
    {
     "data": {
      "text/html": [
       "<div>\n",
       "<style scoped>\n",
       "    .dataframe tbody tr th:only-of-type {\n",
       "        vertical-align: middle;\n",
       "    }\n",
       "\n",
       "    .dataframe tbody tr th {\n",
       "        vertical-align: top;\n",
       "    }\n",
       "\n",
       "    .dataframe thead th {\n",
       "        text-align: right;\n",
       "    }\n",
       "</style>\n",
       "<table border=\"1\" class=\"dataframe\">\n",
       "  <thead>\n",
       "    <tr style=\"text-align: right;\">\n",
       "      <th></th>\n",
       "      <th>month</th>\n",
       "      <th>overall</th>\n",
       "      <th>public_housing</th>\n",
       "      <th>1-room_2-room</th>\n",
       "      <th>3-room</th>\n",
       "      <th>4-room</th>\n",
       "      <th>5-room_and_executive</th>\n",
       "      <th>private_housing</th>\n",
       "      <th>private_apts_and_condo</th>\n",
       "      <th>landed_properties</th>\n",
       "      <th>others</th>\n",
       "    </tr>\n",
       "  </thead>\n",
       "  <tbody>\n",
       "    <tr>\n",
       "      <th>182</th>\n",
       "      <td>2020-03</td>\n",
       "      <td>620.6</td>\n",
       "      <td>354.6</td>\n",
       "      <td>12.3</td>\n",
       "      <td>62.0</td>\n",
       "      <td>148.2</td>\n",
       "      <td>132.1</td>\n",
       "      <td>265.2</td>\n",
       "      <td>175.3</td>\n",
       "      <td>90.0</td>\n",
       "      <td>0.8</td>\n",
       "    </tr>\n",
       "    <tr>\n",
       "      <th>183</th>\n",
       "      <td>2020-04</td>\n",
       "      <td>669.9</td>\n",
       "      <td>383.4</td>\n",
       "      <td>13.3</td>\n",
       "      <td>66.8</td>\n",
       "      <td>160.6</td>\n",
       "      <td>142.6</td>\n",
       "      <td>285.7</td>\n",
       "      <td>187.7</td>\n",
       "      <td>97.9</td>\n",
       "      <td>0.9</td>\n",
       "    </tr>\n",
       "    <tr>\n",
       "      <th>184</th>\n",
       "      <td>2020-05</td>\n",
       "      <td>663.3</td>\n",
       "      <td>381.9</td>\n",
       "      <td>13.7</td>\n",
       "      <td>67.4</td>\n",
       "      <td>160.2</td>\n",
       "      <td>140.6</td>\n",
       "      <td>280.5</td>\n",
       "      <td>183.9</td>\n",
       "      <td>96.6</td>\n",
       "      <td>1.0</td>\n",
       "    </tr>\n",
       "    <tr>\n",
       "      <th>185</th>\n",
       "      <td>2020-06</td>\n",
       "      <td>869.7</td>\n",
       "      <td>501.6</td>\n",
       "      <td>17.3</td>\n",
       "      <td>86.8</td>\n",
       "      <td>209.3</td>\n",
       "      <td>188.2</td>\n",
       "      <td>367.0</td>\n",
       "      <td>253.3</td>\n",
       "      <td>113.7</td>\n",
       "      <td>1.1</td>\n",
       "    </tr>\n",
       "    <tr>\n",
       "      <th>186</th>\n",
       "      <td>2020-07</td>\n",
       "      <td>886.7</td>\n",
       "      <td>515.2</td>\n",
       "      <td>18.1</td>\n",
       "      <td>87.1</td>\n",
       "      <td>215.2</td>\n",
       "      <td>194.8</td>\n",
       "      <td>370.6</td>\n",
       "      <td>259.6</td>\n",
       "      <td>111.0</td>\n",
       "      <td>1.0</td>\n",
       "    </tr>\n",
       "  </tbody>\n",
       "</table>\n",
       "</div>"
      ],
      "text/plain": [
       "       month  overall  public_housing  1-room_2-room  3-room  4-room  \\\n",
       "182  2020-03    620.6           354.6           12.3    62.0   148.2   \n",
       "183  2020-04    669.9           383.4           13.3    66.8   160.6   \n",
       "184  2020-05    663.3           381.9           13.7    67.4   160.2   \n",
       "185  2020-06    869.7           501.6           17.3    86.8   209.3   \n",
       "186  2020-07    886.7           515.2           18.1    87.1   215.2   \n",
       "\n",
       "     5-room_and_executive  private_housing  private_apts_and_condo  \\\n",
       "182                 132.1            265.2                   175.3   \n",
       "183                 142.6            285.7                   187.7   \n",
       "184                 140.6            280.5                   183.9   \n",
       "185                 188.2            367.0                   253.3   \n",
       "186                 194.8            370.6                   259.6   \n",
       "\n",
       "     landed_properties  others  \n",
       "182               90.0     0.8  \n",
       "183               97.9     0.9  \n",
       "184               96.6     1.0  \n",
       "185              113.7     1.1  \n",
       "186              111.0     1.0  "
      ]
     },
     "execution_count": 59,
     "metadata": {},
     "output_type": "execute_result"
    }
   ],
   "source": [
    "households.tail()"
   ]
  },
  {
   "cell_type": "code",
   "execution_count": 60,
   "metadata": {},
   "outputs": [
    {
     "data": {
      "text/plain": [
       "(187, 11)"
      ]
     },
     "execution_count": 60,
     "metadata": {},
     "output_type": "execute_result"
    }
   ],
   "source": [
    "households.shape"
   ]
  },
  {
   "cell_type": "code",
   "execution_count": 62,
   "metadata": {},
   "outputs": [
    {
     "data": {
      "text/plain": [
       "array(['2019-01', '2019-02', '2019-03', '2019-04', '2019-05', '2019-06',\n",
       "       '2019-07', '2019-08', '2019-09', '2019-10', '2019-11', '2019-12',\n",
       "       '2005-01', '2005-02', '2005-03', '2005-04', '2005-05', '2005-06',\n",
       "       '2005-07', '2005-08', '2005-09', '2005-10', '2005-11', '2005-12',\n",
       "       '2006-01', '2006-02', '2006-03', '2006-04', '2006-05', '2006-06',\n",
       "       '2006-07', '2006-08', '2006-09', '2006-10', '2006-11', '2006-12',\n",
       "       '2007-01', '2007-02', '2007-03', '2007-04', '2007-05', '2007-06',\n",
       "       '2007-07', '2007-08', '2007-09', '2007-10', '2007-11', '2007-12',\n",
       "       '2008-01', '2008-02', '2008-03', '2008-04', '2008-05', '2008-06',\n",
       "       '2008-07', '2008-08', '2008-09', '2008-10', '2008-11', '2008-12',\n",
       "       '2009-01', '2009-02', '2009-03', '2009-04', '2009-05', '2009-06',\n",
       "       '2009-07', '2009-08', '2009-09', '2009-10', '2009-11', '2009-12',\n",
       "       '2010-01', '2010-02', '2010-03', '2010-04', '2010-05', '2010-06',\n",
       "       '2010-07', '2010-08', '2010-09', '2010-10', '2010-11', '2010-12',\n",
       "       '2011-01', '2011-02', '2011-03', '2011-04', '2011-05', '2011-06',\n",
       "       '2011-07', '2011-08', '2011-09', '2011-10', '2011-11', '2011-12',\n",
       "       '2012-01', '2012-02', '2012-03', '2012-04', '2012-05', '2012-06',\n",
       "       '2012-07', '2012-08', '2012-09', '2012-10', '2012-11', '2012-12',\n",
       "       '2013-01', '2013-02', '2013-03', '2013-04', '2013-05', '2013-06',\n",
       "       '2013-07', '2013-08', '2013-09', '2013-10', '2013-11', '2013-12',\n",
       "       '2014-01', '2014-02', '2014-03', '2014-04', '2014-05', '2014-06',\n",
       "       '2014-07', '2014-08', '2014-09', '2014-10', '2014-11', '2014-12',\n",
       "       '2015-01', '2015-02', '2015-03', '2015-04', '2015-05', '2015-06',\n",
       "       '2015-07', '2015-08', '2015-09', '2015-10', '2015-11', '2015-12',\n",
       "       '2016-01', '2016-02', '2016-03', '2016-04', '2016-05', '2016-06',\n",
       "       '2016-07', '2016-08', '2016-09', '2016-10', '2016-11', '2016-12',\n",
       "       '2017-01', '2017-02', '2017-03', '2017-04', '2017-05', '2017-06',\n",
       "       '2017-07', '2017-08', '2017-09', '2017-10', '2017-11', '2017-12',\n",
       "       '2018-01', '2018-02', '2018-03', '2018-04', '2018-05', '2018-06',\n",
       "       '2018-07', '2018-08', '2018-09', '2018-10', '2018-11', '2018-12',\n",
       "       '2020-01', '2020-02', '2020-03', '2020-04', '2020-05', '2020-06',\n",
       "       '2020-07'], dtype=object)"
      ]
     },
     "execution_count": 62,
     "metadata": {},
     "output_type": "execute_result"
    }
   ],
   "source": [
    "households['month'].unique()"
   ]
  },
  {
   "cell_type": "code",
   "execution_count": 63,
   "metadata": {},
   "outputs": [
    {
     "data": {
      "text/plain": [
       "pandas.core.series.Series"
      ]
     },
     "execution_count": 63,
     "metadata": {},
     "output_type": "execute_result"
    }
   ],
   "source": [
    "type(households['month'])"
   ]
  },
  {
   "cell_type": "code",
   "execution_count": 64,
   "metadata": {},
   "outputs": [
    {
     "data": {
      "text/plain": [
       "'2019-02'"
      ]
     },
     "execution_count": 64,
     "metadata": {},
     "output_type": "execute_result"
    }
   ],
   "source": [
    "households['month'][1]"
   ]
  },
  {
   "cell_type": "code",
   "execution_count": 65,
   "metadata": {},
   "outputs": [
    {
     "data": {
      "text/plain": [
       "0     2019-01-01\n",
       "1     2019-02-01\n",
       "2     2019-03-01\n",
       "3     2019-04-01\n",
       "4     2019-05-01\n",
       "         ...    \n",
       "182   2020-03-01\n",
       "183   2020-04-01\n",
       "184   2020-05-01\n",
       "185   2020-06-01\n",
       "186   2020-07-01\n",
       "Name: month, Length: 187, dtype: datetime64[ns]"
      ]
     },
     "execution_count": 65,
     "metadata": {},
     "output_type": "execute_result"
    }
   ],
   "source": [
    "pd.to_datetime(households['month'])"
   ]
  },
  {
   "cell_type": "code",
   "execution_count": 66,
   "metadata": {},
   "outputs": [
    {
     "data": {
      "text/plain": [
       "0      2019-01\n",
       "1      2019-02\n",
       "2      2019-03\n",
       "3      2019-04\n",
       "4      2019-05\n",
       "        ...   \n",
       "182    2020-03\n",
       "183    2020-04\n",
       "184    2020-05\n",
       "185    2020-06\n",
       "186    2020-07\n",
       "Name: month, Length: 187, dtype: object"
      ]
     },
     "execution_count": 66,
     "metadata": {},
     "output_type": "execute_result"
    }
   ],
   "source": [
    "households['month']"
   ]
  },
  {
   "cell_type": "code",
   "execution_count": null,
   "metadata": {},
   "outputs": [],
   "source": []
  },
  {
   "cell_type": "code",
   "execution_count": null,
   "metadata": {},
   "outputs": [],
   "source": []
  },
  {
   "cell_type": "code",
   "execution_count": 67,
   "metadata": {},
   "outputs": [],
   "source": [
    "households['month'] = pd.to_datetime(households['month'])"
   ]
  },
  {
   "cell_type": "code",
   "execution_count": 71,
   "metadata": {},
   "outputs": [],
   "source": [
    "households.set_index('month', inplace=True)"
   ]
  },
  {
   "cell_type": "code",
   "execution_count": 72,
   "metadata": {},
   "outputs": [
    {
     "data": {
      "text/html": [
       "<div>\n",
       "<style scoped>\n",
       "    .dataframe tbody tr th:only-of-type {\n",
       "        vertical-align: middle;\n",
       "    }\n",
       "\n",
       "    .dataframe tbody tr th {\n",
       "        vertical-align: top;\n",
       "    }\n",
       "\n",
       "    .dataframe thead th {\n",
       "        text-align: right;\n",
       "    }\n",
       "</style>\n",
       "<table border=\"1\" class=\"dataframe\">\n",
       "  <thead>\n",
       "    <tr style=\"text-align: right;\">\n",
       "      <th></th>\n",
       "      <th>overall</th>\n",
       "      <th>public_housing</th>\n",
       "      <th>1-room_2-room</th>\n",
       "      <th>3-room</th>\n",
       "      <th>4-room</th>\n",
       "      <th>5-room_and_executive</th>\n",
       "      <th>private_housing</th>\n",
       "      <th>private_apts_and_condo</th>\n",
       "      <th>landed_properties</th>\n",
       "      <th>others</th>\n",
       "    </tr>\n",
       "    <tr>\n",
       "      <th>month</th>\n",
       "      <th></th>\n",
       "      <th></th>\n",
       "      <th></th>\n",
       "      <th></th>\n",
       "      <th></th>\n",
       "      <th></th>\n",
       "      <th></th>\n",
       "      <th></th>\n",
       "      <th></th>\n",
       "      <th></th>\n",
       "    </tr>\n",
       "  </thead>\n",
       "  <tbody>\n",
       "    <tr>\n",
       "      <th>2005-12-31</th>\n",
       "      <td>6092.5</td>\n",
       "      <td>3777.4</td>\n",
       "      <td>78.5</td>\n",
       "      <td>703.6</td>\n",
       "      <td>1498.1</td>\n",
       "      <td>1497.3</td>\n",
       "      <td>2303.2</td>\n",
       "      <td>1349.6</td>\n",
       "      <td>953.6</td>\n",
       "      <td>12.1</td>\n",
       "    </tr>\n",
       "    <tr>\n",
       "      <th>2006-12-31</th>\n",
       "      <td>6109.0</td>\n",
       "      <td>3747.0</td>\n",
       "      <td>70.7</td>\n",
       "      <td>690.1</td>\n",
       "      <td>1486.1</td>\n",
       "      <td>1499.8</td>\n",
       "      <td>2350.2</td>\n",
       "      <td>1396.0</td>\n",
       "      <td>954.3</td>\n",
       "      <td>12.2</td>\n",
       "    </tr>\n",
       "    <tr>\n",
       "      <th>2007-12-31</th>\n",
       "      <td>6163.8</td>\n",
       "      <td>3767.5</td>\n",
       "      <td>72.0</td>\n",
       "      <td>695.1</td>\n",
       "      <td>1490.0</td>\n",
       "      <td>1510.4</td>\n",
       "      <td>2383.9</td>\n",
       "      <td>1422.8</td>\n",
       "      <td>960.8</td>\n",
       "      <td>12.5</td>\n",
       "    </tr>\n",
       "    <tr>\n",
       "      <th>2008-12-31</th>\n",
       "      <td>6094.0</td>\n",
       "      <td>3723.9</td>\n",
       "      <td>72.0</td>\n",
       "      <td>690.6</td>\n",
       "      <td>1475.4</td>\n",
       "      <td>1486.1</td>\n",
       "      <td>2357.6</td>\n",
       "      <td>1403.5</td>\n",
       "      <td>954.1</td>\n",
       "      <td>12.5</td>\n",
       "    </tr>\n",
       "    <tr>\n",
       "      <th>2009-12-31</th>\n",
       "      <td>6430.7</td>\n",
       "      <td>3902.4</td>\n",
       "      <td>76.5</td>\n",
       "      <td>722.8</td>\n",
       "      <td>1548.5</td>\n",
       "      <td>1554.5</td>\n",
       "      <td>2515.3</td>\n",
       "      <td>1508.1</td>\n",
       "      <td>1007.1</td>\n",
       "      <td>13.1</td>\n",
       "    </tr>\n",
       "    <tr>\n",
       "      <th>2010-12-31</th>\n",
       "      <td>6636.1</td>\n",
       "      <td>4011.1</td>\n",
       "      <td>81.3</td>\n",
       "      <td>744.7</td>\n",
       "      <td>1596.5</td>\n",
       "      <td>1588.6</td>\n",
       "      <td>2611.4</td>\n",
       "      <td>1580.6</td>\n",
       "      <td>1030.9</td>\n",
       "      <td>13.6</td>\n",
       "    </tr>\n",
       "    <tr>\n",
       "      <th>2011-12-31</th>\n",
       "      <td>6482.9</td>\n",
       "      <td>3911.5</td>\n",
       "      <td>84.9</td>\n",
       "      <td>726.8</td>\n",
       "      <td>1564.2</td>\n",
       "      <td>1535.6</td>\n",
       "      <td>2557.9</td>\n",
       "      <td>1560.3</td>\n",
       "      <td>997.8</td>\n",
       "      <td>13.0</td>\n",
       "    </tr>\n",
       "    <tr>\n",
       "      <th>2012-12-31</th>\n",
       "      <td>6629.5</td>\n",
       "      <td>3970.0</td>\n",
       "      <td>90.4</td>\n",
       "      <td>729.1</td>\n",
       "      <td>1597.9</td>\n",
       "      <td>1552.7</td>\n",
       "      <td>2647.2</td>\n",
       "      <td>1629.3</td>\n",
       "      <td>1017.7</td>\n",
       "      <td>12.4</td>\n",
       "    </tr>\n",
       "    <tr>\n",
       "      <th>2013-12-31</th>\n",
       "      <td>6755.0</td>\n",
       "      <td>4038.7</td>\n",
       "      <td>98.0</td>\n",
       "      <td>733.9</td>\n",
       "      <td>1633.0</td>\n",
       "      <td>1573.8</td>\n",
       "      <td>2703.7</td>\n",
       "      <td>1676.0</td>\n",
       "      <td>1027.7</td>\n",
       "      <td>12.3</td>\n",
       "    </tr>\n",
       "    <tr>\n",
       "      <th>2014-12-31</th>\n",
       "      <td>6924.5</td>\n",
       "      <td>4125.6</td>\n",
       "      <td>108.3</td>\n",
       "      <td>748.2</td>\n",
       "      <td>1675.8</td>\n",
       "      <td>1593.2</td>\n",
       "      <td>2787.2</td>\n",
       "      <td>1742.7</td>\n",
       "      <td>1044.4</td>\n",
       "      <td>11.7</td>\n",
       "    </tr>\n",
       "    <tr>\n",
       "      <th>2015-12-31</th>\n",
       "      <td>7221.0</td>\n",
       "      <td>4284.2</td>\n",
       "      <td>120.8</td>\n",
       "      <td>770.1</td>\n",
       "      <td>1748.8</td>\n",
       "      <td>1644.6</td>\n",
       "      <td>2925.8</td>\n",
       "      <td>1859.9</td>\n",
       "      <td>1065.9</td>\n",
       "      <td>10.9</td>\n",
       "    </tr>\n",
       "    <tr>\n",
       "      <th>2016-12-31</th>\n",
       "      <td>7589.4</td>\n",
       "      <td>4480.3</td>\n",
       "      <td>130.8</td>\n",
       "      <td>801.9</td>\n",
       "      <td>1839.4</td>\n",
       "      <td>1708.0</td>\n",
       "      <td>3098.7</td>\n",
       "      <td>2000.8</td>\n",
       "      <td>1098.1</td>\n",
       "      <td>10.5</td>\n",
       "    </tr>\n",
       "    <tr>\n",
       "      <th>2017-12-31</th>\n",
       "      <td>7295.8</td>\n",
       "      <td>4287.1</td>\n",
       "      <td>132.6</td>\n",
       "      <td>761.9</td>\n",
       "      <td>1772.5</td>\n",
       "      <td>1620.2</td>\n",
       "      <td>2999.3</td>\n",
       "      <td>1959.3</td>\n",
       "      <td>1040.2</td>\n",
       "      <td>9.4</td>\n",
       "    </tr>\n",
       "    <tr>\n",
       "      <th>2018-12-31</th>\n",
       "      <td>7221.4</td>\n",
       "      <td>4221.5</td>\n",
       "      <td>135.6</td>\n",
       "      <td>747.2</td>\n",
       "      <td>1755.1</td>\n",
       "      <td>1583.9</td>\n",
       "      <td>2990.6</td>\n",
       "      <td>1974.7</td>\n",
       "      <td>1016.1</td>\n",
       "      <td>9.1</td>\n",
       "    </tr>\n",
       "    <tr>\n",
       "      <th>2019-12-31</th>\n",
       "      <td>7718.5</td>\n",
       "      <td>4455.0</td>\n",
       "      <td>150.0</td>\n",
       "      <td>783.7</td>\n",
       "      <td>1858.0</td>\n",
       "      <td>1662.5</td>\n",
       "      <td>3253.2</td>\n",
       "      <td>2154.9</td>\n",
       "      <td>1098.4</td>\n",
       "      <td>10.2</td>\n",
       "    </tr>\n",
       "    <tr>\n",
       "      <th>2020-12-31</th>\n",
       "      <td>4875.2</td>\n",
       "      <td>2811.8</td>\n",
       "      <td>98.5</td>\n",
       "      <td>489.4</td>\n",
       "      <td>1176.2</td>\n",
       "      <td>1047.7</td>\n",
       "      <td>2057.2</td>\n",
       "      <td>1378.7</td>\n",
       "      <td>678.5</td>\n",
       "      <td>6.3</td>\n",
       "    </tr>\n",
       "  </tbody>\n",
       "</table>\n",
       "</div>"
      ],
      "text/plain": [
       "            overall  public_housing  1-room_2-room  3-room  4-room  \\\n",
       "month                                                                \n",
       "2005-12-31   6092.5          3777.4           78.5   703.6  1498.1   \n",
       "2006-12-31   6109.0          3747.0           70.7   690.1  1486.1   \n",
       "2007-12-31   6163.8          3767.5           72.0   695.1  1490.0   \n",
       "2008-12-31   6094.0          3723.9           72.0   690.6  1475.4   \n",
       "2009-12-31   6430.7          3902.4           76.5   722.8  1548.5   \n",
       "2010-12-31   6636.1          4011.1           81.3   744.7  1596.5   \n",
       "2011-12-31   6482.9          3911.5           84.9   726.8  1564.2   \n",
       "2012-12-31   6629.5          3970.0           90.4   729.1  1597.9   \n",
       "2013-12-31   6755.0          4038.7           98.0   733.9  1633.0   \n",
       "2014-12-31   6924.5          4125.6          108.3   748.2  1675.8   \n",
       "2015-12-31   7221.0          4284.2          120.8   770.1  1748.8   \n",
       "2016-12-31   7589.4          4480.3          130.8   801.9  1839.4   \n",
       "2017-12-31   7295.8          4287.1          132.6   761.9  1772.5   \n",
       "2018-12-31   7221.4          4221.5          135.6   747.2  1755.1   \n",
       "2019-12-31   7718.5          4455.0          150.0   783.7  1858.0   \n",
       "2020-12-31   4875.2          2811.8           98.5   489.4  1176.2   \n",
       "\n",
       "            5-room_and_executive  private_housing  private_apts_and_condo  \\\n",
       "month                                                                       \n",
       "2005-12-31                1497.3           2303.2                  1349.6   \n",
       "2006-12-31                1499.8           2350.2                  1396.0   \n",
       "2007-12-31                1510.4           2383.9                  1422.8   \n",
       "2008-12-31                1486.1           2357.6                  1403.5   \n",
       "2009-12-31                1554.5           2515.3                  1508.1   \n",
       "2010-12-31                1588.6           2611.4                  1580.6   \n",
       "2011-12-31                1535.6           2557.9                  1560.3   \n",
       "2012-12-31                1552.7           2647.2                  1629.3   \n",
       "2013-12-31                1573.8           2703.7                  1676.0   \n",
       "2014-12-31                1593.2           2787.2                  1742.7   \n",
       "2015-12-31                1644.6           2925.8                  1859.9   \n",
       "2016-12-31                1708.0           3098.7                  2000.8   \n",
       "2017-12-31                1620.2           2999.3                  1959.3   \n",
       "2018-12-31                1583.9           2990.6                  1974.7   \n",
       "2019-12-31                1662.5           3253.2                  2154.9   \n",
       "2020-12-31                1047.7           2057.2                  1378.7   \n",
       "\n",
       "            landed_properties  others  \n",
       "month                                  \n",
       "2005-12-31              953.6    12.1  \n",
       "2006-12-31              954.3    12.2  \n",
       "2007-12-31              960.8    12.5  \n",
       "2008-12-31              954.1    12.5  \n",
       "2009-12-31             1007.1    13.1  \n",
       "2010-12-31             1030.9    13.6  \n",
       "2011-12-31              997.8    13.0  \n",
       "2012-12-31             1017.7    12.4  \n",
       "2013-12-31             1027.7    12.3  \n",
       "2014-12-31             1044.4    11.7  \n",
       "2015-12-31             1065.9    10.9  \n",
       "2016-12-31             1098.1    10.5  \n",
       "2017-12-31             1040.2     9.4  \n",
       "2018-12-31             1016.1     9.1  \n",
       "2019-12-31             1098.4    10.2  \n",
       "2020-12-31              678.5     6.3  "
      ]
     },
     "execution_count": 72,
     "metadata": {},
     "output_type": "execute_result"
    }
   ],
   "source": [
    "households.resample('Y').sum()"
   ]
  },
  {
   "cell_type": "code",
   "execution_count": null,
   "metadata": {},
   "outputs": [],
   "source": []
  },
  {
   "cell_type": "code",
   "execution_count": 73,
   "metadata": {},
   "outputs": [
    {
     "data": {
      "text/html": [
       "<div>\n",
       "<style scoped>\n",
       "    .dataframe tbody tr th:only-of-type {\n",
       "        vertical-align: middle;\n",
       "    }\n",
       "\n",
       "    .dataframe tbody tr th {\n",
       "        vertical-align: top;\n",
       "    }\n",
       "\n",
       "    .dataframe thead th {\n",
       "        text-align: right;\n",
       "    }\n",
       "</style>\n",
       "<table border=\"1\" class=\"dataframe\">\n",
       "  <thead>\n",
       "    <tr style=\"text-align: right;\">\n",
       "      <th></th>\n",
       "      <th>overall</th>\n",
       "      <th>public_housing</th>\n",
       "      <th>1-room_2-room</th>\n",
       "      <th>3-room</th>\n",
       "      <th>4-room</th>\n",
       "      <th>5-room_and_executive</th>\n",
       "      <th>private_housing</th>\n",
       "      <th>private_apts_and_condo</th>\n",
       "      <th>landed_properties</th>\n",
       "      <th>others</th>\n",
       "    </tr>\n",
       "    <tr>\n",
       "      <th>month</th>\n",
       "      <th></th>\n",
       "      <th></th>\n",
       "      <th></th>\n",
       "      <th></th>\n",
       "      <th></th>\n",
       "      <th></th>\n",
       "      <th></th>\n",
       "      <th></th>\n",
       "      <th></th>\n",
       "      <th></th>\n",
       "    </tr>\n",
       "  </thead>\n",
       "  <tbody>\n",
       "    <tr>\n",
       "      <th>2005-12-31</th>\n",
       "      <td>6092.5</td>\n",
       "      <td>3777.4</td>\n",
       "      <td>78.5</td>\n",
       "      <td>703.6</td>\n",
       "      <td>1498.1</td>\n",
       "      <td>1497.3</td>\n",
       "      <td>2303.2</td>\n",
       "      <td>1349.6</td>\n",
       "      <td>953.6</td>\n",
       "      <td>12.1</td>\n",
       "    </tr>\n",
       "    <tr>\n",
       "      <th>2006-12-31</th>\n",
       "      <td>6109.0</td>\n",
       "      <td>3747.0</td>\n",
       "      <td>70.7</td>\n",
       "      <td>690.1</td>\n",
       "      <td>1486.1</td>\n",
       "      <td>1499.8</td>\n",
       "      <td>2350.2</td>\n",
       "      <td>1396.0</td>\n",
       "      <td>954.3</td>\n",
       "      <td>12.2</td>\n",
       "    </tr>\n",
       "    <tr>\n",
       "      <th>2007-12-31</th>\n",
       "      <td>6163.8</td>\n",
       "      <td>3767.5</td>\n",
       "      <td>72.0</td>\n",
       "      <td>695.1</td>\n",
       "      <td>1490.0</td>\n",
       "      <td>1510.4</td>\n",
       "      <td>2383.9</td>\n",
       "      <td>1422.8</td>\n",
       "      <td>960.8</td>\n",
       "      <td>12.5</td>\n",
       "    </tr>\n",
       "    <tr>\n",
       "      <th>2008-12-31</th>\n",
       "      <td>6094.0</td>\n",
       "      <td>3723.9</td>\n",
       "      <td>72.0</td>\n",
       "      <td>690.6</td>\n",
       "      <td>1475.4</td>\n",
       "      <td>1486.1</td>\n",
       "      <td>2357.6</td>\n",
       "      <td>1403.5</td>\n",
       "      <td>954.1</td>\n",
       "      <td>12.5</td>\n",
       "    </tr>\n",
       "    <tr>\n",
       "      <th>2009-12-31</th>\n",
       "      <td>6430.7</td>\n",
       "      <td>3902.4</td>\n",
       "      <td>76.5</td>\n",
       "      <td>722.8</td>\n",
       "      <td>1548.5</td>\n",
       "      <td>1554.5</td>\n",
       "      <td>2515.3</td>\n",
       "      <td>1508.1</td>\n",
       "      <td>1007.1</td>\n",
       "      <td>13.1</td>\n",
       "    </tr>\n",
       "    <tr>\n",
       "      <th>2010-12-31</th>\n",
       "      <td>6636.1</td>\n",
       "      <td>4011.1</td>\n",
       "      <td>81.3</td>\n",
       "      <td>744.7</td>\n",
       "      <td>1596.5</td>\n",
       "      <td>1588.6</td>\n",
       "      <td>2611.4</td>\n",
       "      <td>1580.6</td>\n",
       "      <td>1030.9</td>\n",
       "      <td>13.6</td>\n",
       "    </tr>\n",
       "    <tr>\n",
       "      <th>2011-12-31</th>\n",
       "      <td>6482.9</td>\n",
       "      <td>3911.5</td>\n",
       "      <td>84.9</td>\n",
       "      <td>726.8</td>\n",
       "      <td>1564.2</td>\n",
       "      <td>1535.6</td>\n",
       "      <td>2557.9</td>\n",
       "      <td>1560.3</td>\n",
       "      <td>997.8</td>\n",
       "      <td>13.0</td>\n",
       "    </tr>\n",
       "    <tr>\n",
       "      <th>2012-12-31</th>\n",
       "      <td>6629.5</td>\n",
       "      <td>3970.0</td>\n",
       "      <td>90.4</td>\n",
       "      <td>729.1</td>\n",
       "      <td>1597.9</td>\n",
       "      <td>1552.7</td>\n",
       "      <td>2647.2</td>\n",
       "      <td>1629.3</td>\n",
       "      <td>1017.7</td>\n",
       "      <td>12.4</td>\n",
       "    </tr>\n",
       "    <tr>\n",
       "      <th>2013-12-31</th>\n",
       "      <td>6755.0</td>\n",
       "      <td>4038.7</td>\n",
       "      <td>98.0</td>\n",
       "      <td>733.9</td>\n",
       "      <td>1633.0</td>\n",
       "      <td>1573.8</td>\n",
       "      <td>2703.7</td>\n",
       "      <td>1676.0</td>\n",
       "      <td>1027.7</td>\n",
       "      <td>12.3</td>\n",
       "    </tr>\n",
       "    <tr>\n",
       "      <th>2014-12-31</th>\n",
       "      <td>6924.5</td>\n",
       "      <td>4125.6</td>\n",
       "      <td>108.3</td>\n",
       "      <td>748.2</td>\n",
       "      <td>1675.8</td>\n",
       "      <td>1593.2</td>\n",
       "      <td>2787.2</td>\n",
       "      <td>1742.7</td>\n",
       "      <td>1044.4</td>\n",
       "      <td>11.7</td>\n",
       "    </tr>\n",
       "    <tr>\n",
       "      <th>2015-12-31</th>\n",
       "      <td>7221.0</td>\n",
       "      <td>4284.2</td>\n",
       "      <td>120.8</td>\n",
       "      <td>770.1</td>\n",
       "      <td>1748.8</td>\n",
       "      <td>1644.6</td>\n",
       "      <td>2925.8</td>\n",
       "      <td>1859.9</td>\n",
       "      <td>1065.9</td>\n",
       "      <td>10.9</td>\n",
       "    </tr>\n",
       "    <tr>\n",
       "      <th>2016-12-31</th>\n",
       "      <td>7589.4</td>\n",
       "      <td>4480.3</td>\n",
       "      <td>130.8</td>\n",
       "      <td>801.9</td>\n",
       "      <td>1839.4</td>\n",
       "      <td>1708.0</td>\n",
       "      <td>3098.7</td>\n",
       "      <td>2000.8</td>\n",
       "      <td>1098.1</td>\n",
       "      <td>10.5</td>\n",
       "    </tr>\n",
       "    <tr>\n",
       "      <th>2017-12-31</th>\n",
       "      <td>7295.8</td>\n",
       "      <td>4287.1</td>\n",
       "      <td>132.6</td>\n",
       "      <td>761.9</td>\n",
       "      <td>1772.5</td>\n",
       "      <td>1620.2</td>\n",
       "      <td>2999.3</td>\n",
       "      <td>1959.3</td>\n",
       "      <td>1040.2</td>\n",
       "      <td>9.4</td>\n",
       "    </tr>\n",
       "    <tr>\n",
       "      <th>2018-12-31</th>\n",
       "      <td>7221.4</td>\n",
       "      <td>4221.5</td>\n",
       "      <td>135.6</td>\n",
       "      <td>747.2</td>\n",
       "      <td>1755.1</td>\n",
       "      <td>1583.9</td>\n",
       "      <td>2990.6</td>\n",
       "      <td>1974.7</td>\n",
       "      <td>1016.1</td>\n",
       "      <td>9.1</td>\n",
       "    </tr>\n",
       "    <tr>\n",
       "      <th>2019-12-31</th>\n",
       "      <td>7718.5</td>\n",
       "      <td>4455.0</td>\n",
       "      <td>150.0</td>\n",
       "      <td>783.7</td>\n",
       "      <td>1858.0</td>\n",
       "      <td>1662.5</td>\n",
       "      <td>3253.2</td>\n",
       "      <td>2154.9</td>\n",
       "      <td>1098.4</td>\n",
       "      <td>10.2</td>\n",
       "    </tr>\n",
       "    <tr>\n",
       "      <th>2020-12-31</th>\n",
       "      <td>4875.2</td>\n",
       "      <td>2811.8</td>\n",
       "      <td>98.5</td>\n",
       "      <td>489.4</td>\n",
       "      <td>1176.2</td>\n",
       "      <td>1047.7</td>\n",
       "      <td>2057.2</td>\n",
       "      <td>1378.7</td>\n",
       "      <td>678.5</td>\n",
       "      <td>6.3</td>\n",
       "    </tr>\n",
       "  </tbody>\n",
       "</table>\n",
       "</div>"
      ],
      "text/plain": [
       "            overall  public_housing  1-room_2-room  3-room  4-room  \\\n",
       "month                                                                \n",
       "2005-12-31   6092.5          3777.4           78.5   703.6  1498.1   \n",
       "2006-12-31   6109.0          3747.0           70.7   690.1  1486.1   \n",
       "2007-12-31   6163.8          3767.5           72.0   695.1  1490.0   \n",
       "2008-12-31   6094.0          3723.9           72.0   690.6  1475.4   \n",
       "2009-12-31   6430.7          3902.4           76.5   722.8  1548.5   \n",
       "2010-12-31   6636.1          4011.1           81.3   744.7  1596.5   \n",
       "2011-12-31   6482.9          3911.5           84.9   726.8  1564.2   \n",
       "2012-12-31   6629.5          3970.0           90.4   729.1  1597.9   \n",
       "2013-12-31   6755.0          4038.7           98.0   733.9  1633.0   \n",
       "2014-12-31   6924.5          4125.6          108.3   748.2  1675.8   \n",
       "2015-12-31   7221.0          4284.2          120.8   770.1  1748.8   \n",
       "2016-12-31   7589.4          4480.3          130.8   801.9  1839.4   \n",
       "2017-12-31   7295.8          4287.1          132.6   761.9  1772.5   \n",
       "2018-12-31   7221.4          4221.5          135.6   747.2  1755.1   \n",
       "2019-12-31   7718.5          4455.0          150.0   783.7  1858.0   \n",
       "2020-12-31   4875.2          2811.8           98.5   489.4  1176.2   \n",
       "\n",
       "            5-room_and_executive  private_housing  private_apts_and_condo  \\\n",
       "month                                                                       \n",
       "2005-12-31                1497.3           2303.2                  1349.6   \n",
       "2006-12-31                1499.8           2350.2                  1396.0   \n",
       "2007-12-31                1510.4           2383.9                  1422.8   \n",
       "2008-12-31                1486.1           2357.6                  1403.5   \n",
       "2009-12-31                1554.5           2515.3                  1508.1   \n",
       "2010-12-31                1588.6           2611.4                  1580.6   \n",
       "2011-12-31                1535.6           2557.9                  1560.3   \n",
       "2012-12-31                1552.7           2647.2                  1629.3   \n",
       "2013-12-31                1573.8           2703.7                  1676.0   \n",
       "2014-12-31                1593.2           2787.2                  1742.7   \n",
       "2015-12-31                1644.6           2925.8                  1859.9   \n",
       "2016-12-31                1708.0           3098.7                  2000.8   \n",
       "2017-12-31                1620.2           2999.3                  1959.3   \n",
       "2018-12-31                1583.9           2990.6                  1974.7   \n",
       "2019-12-31                1662.5           3253.2                  2154.9   \n",
       "2020-12-31                1047.7           2057.2                  1378.7   \n",
       "\n",
       "            landed_properties  others  \n",
       "month                                  \n",
       "2005-12-31              953.6    12.1  \n",
       "2006-12-31              954.3    12.2  \n",
       "2007-12-31              960.8    12.5  \n",
       "2008-12-31              954.1    12.5  \n",
       "2009-12-31             1007.1    13.1  \n",
       "2010-12-31             1030.9    13.6  \n",
       "2011-12-31              997.8    13.0  \n",
       "2012-12-31             1017.7    12.4  \n",
       "2013-12-31             1027.7    12.3  \n",
       "2014-12-31             1044.4    11.7  \n",
       "2015-12-31             1065.9    10.9  \n",
       "2016-12-31             1098.1    10.5  \n",
       "2017-12-31             1040.2     9.4  \n",
       "2018-12-31             1016.1     9.1  \n",
       "2019-12-31             1098.4    10.2  \n",
       "2020-12-31              678.5     6.3  "
      ]
     },
     "execution_count": 73,
     "metadata": {},
     "output_type": "execute_result"
    }
   ],
   "source": [
    "house = households.resample('Y').sum()\n",
    "house"
   ]
  },
  {
   "cell_type": "code",
   "execution_count": 77,
   "metadata": {},
   "outputs": [
    {
     "data": {
      "text/plain": [
       "Index(['overall', 'public_housing', '1-room_2-room', '3-room', '4-room',\n",
       "       '5-room_and_executive', 'private_housing', 'private_apts_and_condo',\n",
       "       'landed_properties', 'others'],\n",
       "      dtype='object')"
      ]
     },
     "execution_count": 77,
     "metadata": {},
     "output_type": "execute_result"
    }
   ],
   "source": [
    "house.columns"
   ]
  },
  {
   "cell_type": "code",
   "execution_count": 78,
   "metadata": {},
   "outputs": [
    {
     "data": {
      "text/plain": [
       "[<matplotlib.lines.Line2D at 0x7fe7fc08df70>]"
      ]
     },
     "execution_count": 78,
     "metadata": {},
     "output_type": "execute_result"
    },
    {
     "data": {
      "image/png": "[encoded data removed]",
      "text/plain": [
       "<Figure size 648x432 with 1 Axes>"
      ]
     },
     "metadata": {
      "needs_background": "light"
     },
     "output_type": "display_data"
    }
   ],
   "source": [
    "plt.figure(figsize=(9, 6))\n",
    "plt.plot(house['1-room_2-room'])"
   ]
  },
  {
   "cell_type": "code",
   "execution_count": 75,
   "metadata": {},
   "outputs": [
    {
     "data": {
      "text/plain": [
       "[<matplotlib.lines.Line2D at 0x7fe7fc025430>]"
      ]
     },
     "execution_count": 75,
     "metadata": {},
     "output_type": "execute_result"
    },
    {
     "data": {
      "image/png": "[encoded data removed]",
      "text/plain": [
       "<Figure size 648x432 with 1 Axes>"
      ]
     },
     "metadata": {
      "needs_background": "light"
     },
     "output_type": "display_data"
    }
   ],
   "source": [
    "plt.figure(figsize=(9, 6))\n",
    "plt.plot(house['3-room'])"
   ]
  },
  {
   "cell_type": "code",
   "execution_count": 79,
   "metadata": {},
   "outputs": [
    {
     "data": {
      "text/plain": [
       "[<matplotlib.lines.Line2D at 0x7fe7fc1da2b0>]"
      ]
     },
     "execution_count": 79,
     "metadata": {},
     "output_type": "execute_result"
    },
    {
     "data": {
      "image/png": "[encoded data removed]",
      "text/plain": [
       "<Figure size 648x432 with 1 Axes>"
      ]
     },
     "metadata": {
      "needs_background": "light"
     },
     "output_type": "display_data"
    }
   ],
   "source": [
    "plt.figure(figsize=(9, 6))\n",
    "plt.plot(house['4-room'])"
   ]
  },
  {
   "cell_type": "code",
   "execution_count": 80,
   "metadata": {},
   "outputs": [
    {
     "data": {
      "text/plain": [
       "[<matplotlib.lines.Line2D at 0x7fe7fc2d8520>]"
      ]
     },
     "execution_count": 80,
     "metadata": {},
     "output_type": "execute_result"
    },
    {
     "data": {
      "image/png": "[encoded data removed]",
      "text/plain": [
       "<Figure size 648x432 with 1 Axes>"
      ]
     },
     "metadata": {
      "needs_background": "light"
     },
     "output_type": "display_data"
    }
   ],
   "source": [
    "plt.figure(figsize=(9, 6))\n",
    "plt.plot(house['5-room_and_executive'])"
   ]
  },
  {
   "cell_type": "code",
   "execution_count": 81,
   "metadata": {},
   "outputs": [
    {
     "data": {
      "text/plain": [
       "[<matplotlib.lines.Line2D at 0x7fe7fc1d8310>]"
      ]
     },
     "execution_count": 81,
     "metadata": {},
     "output_type": "execute_result"
    },
    {
     "data": {
      "image/png": "[encoded data removed]",
      "text/plain": [
       "<Figure size 648x432 with 1 Axes>"
      ]
     },
     "metadata": {
      "needs_background": "light"
     },
     "output_type": "display_data"
    }
   ],
   "source": [
    "plt.figure(figsize=(9, 6))\n",
    "plt.plot(house['private_apts_and_condo'])"
   ]
  },
  {
   "cell_type": "code",
   "execution_count": 82,
   "metadata": {},
   "outputs": [
    {
     "data": {
      "text/plain": [
       "[<matplotlib.lines.Line2D at 0x7fe7fc54d640>]"
      ]
     },
     "execution_count": 82,
     "metadata": {},
     "output_type": "execute_result"
    },
    {
     "data": {
      "image/png": "[encoded data removed]",
      "text/plain": [
       "<Figure size 648x432 with 1 Axes>"
      ]
     },
     "metadata": {
      "needs_background": "light"
     },
     "output_type": "display_data"
    }
   ],
   "source": [
    "plt.figure(figsize=(9, 6))\n",
    "plt.plot(house['landed_properties'])"
   ]
  },
  {
   "cell_type": "code",
   "execution_count": 83,
   "metadata": {},
   "outputs": [
    {
     "data": {
      "text/plain": [
       "[<matplotlib.lines.Line2D at 0x7fe7fc670af0>]"
      ]
     },
     "execution_count": 83,
     "metadata": {},
     "output_type": "execute_result"
    },
    {
     "data": {
      "image/png": "[encoded data removed]",
      "text/plain": [
       "<Figure size 648x432 with 1 Axes>"
      ]
     },
     "metadata": {
      "needs_background": "light"
     },
     "output_type": "display_data"
    }
   ],
   "source": [
    "plt.figure(figsize=(9, 6))\n",
    "plt.plot(house['others'])"
   ]
  },
  {
   "cell_type": "code",
   "execution_count": null,
   "metadata": {},
   "outputs": [],
   "source": []
  },
  {
   "cell_type": "code",
   "execution_count": null,
   "metadata": {},
   "outputs": [],
   "source": []
  },
  {
   "cell_type": "markdown",
   "metadata": {},
   "source": [
    "## 4. Analyze sunshine data\n",
    "[top](#Contents)"
   ]
  },
  {
   "cell_type": "code",
   "execution_count": 84,
   "metadata": {},
   "outputs": [],
   "source": [
    "sunshine = pd.read_csv('../datasets/sunshine_duration_monthly_mean_daily_duration.csv')"
   ]
  },
  {
   "cell_type": "code",
   "execution_count": 85,
   "metadata": {},
   "outputs": [
    {
     "data": {
      "text/html": [
       "<div>\n",
       "<style scoped>\n",
       "    .dataframe tbody tr th:only-of-type {\n",
       "        vertical-align: middle;\n",
       "    }\n",
       "\n",
       "    .dataframe tbody tr th {\n",
       "        vertical-align: top;\n",
       "    }\n",
       "\n",
       "    .dataframe thead th {\n",
       "        text-align: right;\n",
       "    }\n",
       "</style>\n",
       "<table border=\"1\" class=\"dataframe\">\n",
       "  <thead>\n",
       "    <tr style=\"text-align: right;\">\n",
       "      <th></th>\n",
       "      <th>month</th>\n",
       "      <th>mean_sunshine_hrs</th>\n",
       "    </tr>\n",
       "  </thead>\n",
       "  <tbody>\n",
       "    <tr>\n",
       "      <th>0</th>\n",
       "      <td>1982-01</td>\n",
       "      <td>5.6</td>\n",
       "    </tr>\n",
       "    <tr>\n",
       "      <th>1</th>\n",
       "      <td>1982-02</td>\n",
       "      <td>7.6</td>\n",
       "    </tr>\n",
       "    <tr>\n",
       "      <th>2</th>\n",
       "      <td>1982-03</td>\n",
       "      <td>5.1</td>\n",
       "    </tr>\n",
       "    <tr>\n",
       "      <th>3</th>\n",
       "      <td>1982-04</td>\n",
       "      <td>4.7</td>\n",
       "    </tr>\n",
       "    <tr>\n",
       "      <th>4</th>\n",
       "      <td>1982-05</td>\n",
       "      <td>5.8</td>\n",
       "    </tr>\n",
       "  </tbody>\n",
       "</table>\n",
       "</div>"
      ],
      "text/plain": [
       "     month  mean_sunshine_hrs\n",
       "0  1982-01                5.6\n",
       "1  1982-02                7.6\n",
       "2  1982-03                5.1\n",
       "3  1982-04                4.7\n",
       "4  1982-05                5.8"
      ]
     },
     "execution_count": 85,
     "metadata": {},
     "output_type": "execute_result"
    }
   ],
   "source": [
    "sunshine.head()"
   ]
  },
  {
   "cell_type": "code",
   "execution_count": 87,
   "metadata": {},
   "outputs": [
    {
     "data": {
      "text/plain": [
       "array(['1982-01', '1982-02', '1982-03', '1982-04', '1982-05', '1982-06',\n",
       "       '1982-07', '1982-08', '1982-09', '1982-10', '1982-11', '1982-12',\n",
       "       '1983-01', '1983-02', '1983-03', '1983-04', '1983-05', '1983-06',\n",
       "       '1983-07', '1983-08', '1983-09', '1983-10', '1983-11', '1983-12',\n",
       "       '1984-01', '1984-02', '1984-03', '1984-04', '1984-05', '1984-06',\n",
       "       '1984-07', '1984-08', '1984-09', '1984-10', '1984-11', '1984-12',\n",
       "       '1985-01', '1985-02', '1985-03', '1985-04', '1985-05', '1985-06',\n",
       "       '1985-07', '1985-08', '1985-09', '1985-10', '1985-11', '1985-12',\n",
       "       '1986-01', '1986-02', '1986-03', '1986-04', '1986-05', '1986-06',\n",
       "       '1986-07', '1986-08', '1986-09', '1986-10', '1986-11', '1986-12',\n",
       "       '1987-01', '1987-02', '1987-03', '1987-04', '1987-05', '1987-06',\n",
       "       '1987-07', '1987-08', '1987-09', '1987-10', '1987-11', '1987-12',\n",
       "       '1988-01', '1988-02', '1988-03', '1988-04', '1988-05', '1988-06',\n",
       "       '1988-07', '1988-08', '1988-09', '1988-10', '1988-11', '1988-12',\n",
       "       '1989-01', '1989-02', '1989-03', '1989-04', '1989-05', '1989-06',\n",
       "       '1989-07', '1989-08', '1989-09', '1989-10', '1989-11', '1989-12',\n",
       "       '1990-01', '1990-02', '1990-03', '1990-04', '1990-05', '1990-06',\n",
       "       '1990-07', '1990-08', '1990-09', '1990-10', '1990-11', '1990-12',\n",
       "       '1991-01', '1991-02', '1991-03', '1991-04', '1991-05', '1991-06',\n",
       "       '1991-07', '1991-08', '1991-09', '1991-10', '1991-11', '1991-12',\n",
       "       '1992-01', '1992-02', '1992-03', '1992-04', '1992-05', '1992-06',\n",
       "       '1992-07', '1992-08', '1992-09', '1992-10', '1992-11', '1992-12',\n",
       "       '1993-01', '1993-02', '1993-03', '1993-04', '1993-05', '1993-06',\n",
       "       '1993-07', '1993-08', '1993-09', '1993-10', '1993-11', '1993-12',\n",
       "       '1994-01', '1994-02', '1994-03', '1994-04', '1994-05', '1994-06',\n",
       "       '1994-07', '1994-08', '1994-09', '1994-10', '1994-11', '1994-12',\n",
       "       '1995-01', '1995-02', '1995-03', '1995-04', '1995-05', '1995-06',\n",
       "       '1995-07', '1995-08', '1995-09', '1995-10', '1995-11', '1995-12',\n",
       "       '1996-01', '1996-02', '1996-03', '1996-04', '1996-05', '1996-06',\n",
       "       '1996-07', '1996-08', '1996-09', '1996-10', '1996-11', '1996-12',\n",
       "       '1997-01', '1997-02', '1997-03', '1997-04', '1997-05', '1997-06',\n",
       "       '1997-07', '1997-08', '1997-09', '1997-10', '1997-11', '1997-12',\n",
       "       '1998-01', '1998-02', '1998-03', '1998-04', '1998-05', '1998-06',\n",
       "       '1998-07', '1998-08', '1998-09', '1998-10', '1998-11', '1998-12',\n",
       "       '1999-01', '1999-02', '1999-03', '1999-04', '1999-05', '1999-06',\n",
       "       '1999-07', '1999-08', '1999-09', '1999-10', '1999-11', '1999-12',\n",
       "       '2000-01', '2000-02', '2000-03', '2000-04', '2000-05', '2000-06',\n",
       "       '2000-07', '2000-08', '2000-09', '2000-10', '2000-11', '2000-12',\n",
       "       '2001-01', '2001-02', '2001-03', '2001-04', '2001-05', '2001-06',\n",
       "       '2001-07', '2001-08', '2001-09', '2001-10', '2001-11', '2001-12',\n",
       "       '2002-01', '2002-02', '2002-03', '2002-04', '2002-05', '2002-06',\n",
       "       '2002-07', '2002-08', '2002-09', '2002-10', '2002-11', '2002-12',\n",
       "       '2003-01', '2003-02', '2003-03', '2003-04', '2003-05', '2003-06',\n",
       "       '2003-07', '2003-08', '2003-09', '2003-10', '2003-11', '2003-12',\n",
       "       '2004-01', '2004-02', '2004-03', '2004-04', '2004-05', '2004-06',\n",
       "       '2004-07', '2004-08', '2004-09', '2004-10', '2004-11', '2004-12',\n",
       "       '2005-01', '2005-02', '2005-03', '2005-04', '2005-05', '2005-06',\n",
       "       '2005-07', '2005-08', '2005-09', '2005-10', '2005-11', '2005-12',\n",
       "       '2006-01', '2006-02', '2006-03', '2006-04', '2006-05', '2006-06',\n",
       "       '2006-07', '2006-08', '2006-09', '2006-10', '2006-11', '2006-12',\n",
       "       '2007-01', '2007-02', '2007-03', '2007-04', '2007-05', '2007-06',\n",
       "       '2007-07', '2007-08', '2007-09', '2007-10', '2007-11', '2007-12',\n",
       "       '2008-01', '2008-02', '2008-03', '2008-04', '2008-05', '2008-06',\n",
       "       '2008-07', '2008-08', '2008-09', '2008-10', '2008-11', '2008-12',\n",
       "       '2009-01', '2009-02', '2009-03', '2009-04', '2009-05', '2009-06',\n",
       "       '2009-07', '2009-08', '2009-09', '2009-10', '2009-11', '2009-12',\n",
       "       '2010-01', '2010-02', '2010-03', '2010-04', '2010-05', '2010-06',\n",
       "       '2010-07', '2010-08', '2010-09', '2010-10', '2010-11', '2010-12',\n",
       "       '2011-01', '2011-02', '2011-03', '2011-04', '2011-05', '2011-06',\n",
       "       '2011-07', '2011-08', '2011-09', '2011-10', '2011-11', '2011-12',\n",
       "       '2012-01', '2012-02', '2012-03', '2012-04', '2012-05', '2012-06',\n",
       "       '2012-07', '2012-08', '2012-09', '2012-10', '2012-11', '2012-12',\n",
       "       '2013-01', '2013-02', '2013-03', '2013-04', '2013-05', '2013-06',\n",
       "       '2013-07', '2013-08', '2013-09', '2013-10', '2013-11', '2013-12',\n",
       "       '2014-01', '2014-02', '2014-03', '2014-04', '2014-05', '2014-06',\n",
       "       '2014-07', '2014-08', '2014-09', '2014-10', '2014-11', '2014-12',\n",
       "       '2015-01', '2015-02', '2015-03', '2015-04', '2015-05', '2015-06',\n",
       "       '2015-07', '2015-08', '2015-09', '2015-10', '2015-11', '2015-12',\n",
       "       '2016-01', '2016-02', '2016-03', '2016-04', '2016-05', '2016-06',\n",
       "       '2016-07', '2016-08', '2016-09', '2016-10', '2016-11', '2016-12',\n",
       "       '2017-01', '2017-02', '2017-03', '2017-04', '2017-05', '2017-06',\n",
       "       '2017-07', '2017-08', '2017-09', '2017-10', '2017-11', '2017-12',\n",
       "       '2018-01', '2018-02', '2018-03', '2018-04', '2018-05', '2018-06',\n",
       "       '2018-07', '2018-08', '2018-09', '2018-10', '2018-11', '2018-12',\n",
       "       '2019-01', '2019-02', '2019-03', '2019-04', '2019-05', '2019-06',\n",
       "       '2019-07', '2019-08', '2019-09', '2019-10', '2019-11', '2019-12',\n",
       "       '2020-01', '2020-02', '2020-03', '2020-04', '2020-05', '2020-06',\n",
       "       '2020-07', '2020-08', '2020-09', '2020-10'], dtype=object)"
      ]
     },
     "execution_count": 87,
     "metadata": {},
     "output_type": "execute_result"
    }
   ],
   "source": [
    "sunshine['month'].unique()"
   ]
  },
  {
   "cell_type": "code",
   "execution_count": 88,
   "metadata": {},
   "outputs": [],
   "source": [
    "sunshine['year'] = pd.to_datetime(sunshine['month'])"
   ]
  },
  {
   "cell_type": "code",
   "execution_count": 89,
   "metadata": {},
   "outputs": [],
   "source": [
    "sunshine.set_index('year', inplace=True)"
   ]
  },
  {
   "cell_type": "code",
   "execution_count": 90,
   "metadata": {},
   "outputs": [
    {
     "data": {
      "text/html": [
       "<div>\n",
       "<style scoped>\n",
       "    .dataframe tbody tr th:only-of-type {\n",
       "        vertical-align: middle;\n",
       "    }\n",
       "\n",
       "    .dataframe tbody tr th {\n",
       "        vertical-align: top;\n",
       "    }\n",
       "\n",
       "    .dataframe thead th {\n",
       "        text-align: right;\n",
       "    }\n",
       "</style>\n",
       "<table border=\"1\" class=\"dataframe\">\n",
       "  <thead>\n",
       "    <tr style=\"text-align: right;\">\n",
       "      <th></th>\n",
       "      <th>mean_sunshine_hrs</th>\n",
       "    </tr>\n",
       "    <tr>\n",
       "      <th>year</th>\n",
       "      <th></th>\n",
       "    </tr>\n",
       "  </thead>\n",
       "  <tbody>\n",
       "    <tr>\n",
       "      <th>1982-12-31</th>\n",
       "      <td>5.750000</td>\n",
       "    </tr>\n",
       "    <tr>\n",
       "      <th>1983-12-31</th>\n",
       "      <td>5.625000</td>\n",
       "    </tr>\n",
       "    <tr>\n",
       "      <th>1984-12-31</th>\n",
       "      <td>5.083333</td>\n",
       "    </tr>\n",
       "    <tr>\n",
       "      <th>1985-12-31</th>\n",
       "      <td>5.591667</td>\n",
       "    </tr>\n",
       "    <tr>\n",
       "      <th>1986-12-31</th>\n",
       "      <td>5.525000</td>\n",
       "    </tr>\n",
       "    <tr>\n",
       "      <th>1987-12-31</th>\n",
       "      <td>5.916667</td>\n",
       "    </tr>\n",
       "    <tr>\n",
       "      <th>1988-12-31</th>\n",
       "      <td>5.375000</td>\n",
       "    </tr>\n",
       "    <tr>\n",
       "      <th>1989-12-31</th>\n",
       "      <td>5.533333</td>\n",
       "    </tr>\n",
       "    <tr>\n",
       "      <th>1990-12-31</th>\n",
       "      <td>6.200000</td>\n",
       "    </tr>\n",
       "    <tr>\n",
       "      <th>1991-12-31</th>\n",
       "      <td>5.375000</td>\n",
       "    </tr>\n",
       "    <tr>\n",
       "      <th>1992-12-31</th>\n",
       "      <td>5.525000</td>\n",
       "    </tr>\n",
       "    <tr>\n",
       "      <th>1993-12-31</th>\n",
       "      <td>5.883333</td>\n",
       "    </tr>\n",
       "    <tr>\n",
       "      <th>1994-12-31</th>\n",
       "      <td>5.416667</td>\n",
       "    </tr>\n",
       "    <tr>\n",
       "      <th>1995-12-31</th>\n",
       "      <td>5.050000</td>\n",
       "    </tr>\n",
       "    <tr>\n",
       "      <th>1996-12-31</th>\n",
       "      <td>5.558333</td>\n",
       "    </tr>\n",
       "    <tr>\n",
       "      <th>1997-12-31</th>\n",
       "      <td>5.708333</td>\n",
       "    </tr>\n",
       "    <tr>\n",
       "      <th>1998-12-31</th>\n",
       "      <td>5.725000</td>\n",
       "    </tr>\n",
       "    <tr>\n",
       "      <th>1999-12-31</th>\n",
       "      <td>5.408333</td>\n",
       "    </tr>\n",
       "    <tr>\n",
       "      <th>2000-12-31</th>\n",
       "      <td>5.166667</td>\n",
       "    </tr>\n",
       "    <tr>\n",
       "      <th>2001-12-31</th>\n",
       "      <td>5.216667</td>\n",
       "    </tr>\n",
       "    <tr>\n",
       "      <th>2002-12-31</th>\n",
       "      <td>6.300000</td>\n",
       "    </tr>\n",
       "    <tr>\n",
       "      <th>2003-12-31</th>\n",
       "      <td>5.433333</td>\n",
       "    </tr>\n",
       "    <tr>\n",
       "      <th>2004-12-31</th>\n",
       "      <td>5.966667</td>\n",
       "    </tr>\n",
       "    <tr>\n",
       "      <th>2005-12-31</th>\n",
       "      <td>6.066667</td>\n",
       "    </tr>\n",
       "    <tr>\n",
       "      <th>2006-12-31</th>\n",
       "      <td>5.633333</td>\n",
       "    </tr>\n",
       "    <tr>\n",
       "      <th>2007-12-31</th>\n",
       "      <td>5.316667</td>\n",
       "    </tr>\n",
       "    <tr>\n",
       "      <th>2008-12-31</th>\n",
       "      <td>5.241667</td>\n",
       "    </tr>\n",
       "    <tr>\n",
       "      <th>2009-12-31</th>\n",
       "      <td>5.950000</td>\n",
       "    </tr>\n",
       "    <tr>\n",
       "      <th>2010-12-31</th>\n",
       "      <td>5.691667</td>\n",
       "    </tr>\n",
       "    <tr>\n",
       "      <th>2011-12-31</th>\n",
       "      <td>5.575000</td>\n",
       "    </tr>\n",
       "    <tr>\n",
       "      <th>2012-12-31</th>\n",
       "      <td>5.533333</td>\n",
       "    </tr>\n",
       "    <tr>\n",
       "      <th>2013-12-31</th>\n",
       "      <td>5.433333</td>\n",
       "    </tr>\n",
       "    <tr>\n",
       "      <th>2014-12-31</th>\n",
       "      <td>5.975000</td>\n",
       "    </tr>\n",
       "    <tr>\n",
       "      <th>2015-12-31</th>\n",
       "      <td>6.166667</td>\n",
       "    </tr>\n",
       "    <tr>\n",
       "      <th>2016-12-31</th>\n",
       "      <td>6.000000</td>\n",
       "    </tr>\n",
       "    <tr>\n",
       "      <th>2017-12-31</th>\n",
       "      <td>5.800000</td>\n",
       "    </tr>\n",
       "    <tr>\n",
       "      <th>2018-12-31</th>\n",
       "      <td>5.750000</td>\n",
       "    </tr>\n",
       "    <tr>\n",
       "      <th>2019-12-31</th>\n",
       "      <td>6.783333</td>\n",
       "    </tr>\n",
       "    <tr>\n",
       "      <th>2020-12-31</th>\n",
       "      <td>6.130000</td>\n",
       "    </tr>\n",
       "  </tbody>\n",
       "</table>\n",
       "</div>"
      ],
      "text/plain": [
       "            mean_sunshine_hrs\n",
       "year                         \n",
       "1982-12-31           5.750000\n",
       "1983-12-31           5.625000\n",
       "1984-12-31           5.083333\n",
       "1985-12-31           5.591667\n",
       "1986-12-31           5.525000\n",
       "1987-12-31           5.916667\n",
       "1988-12-31           5.375000\n",
       "1989-12-31           5.533333\n",
       "1990-12-31           6.200000\n",
       "1991-12-31           5.375000\n",
       "1992-12-31           5.525000\n",
       "1993-12-31           5.883333\n",
       "1994-12-31           5.416667\n",
       "1995-12-31           5.050000\n",
       "1996-12-31           5.558333\n",
       "1997-12-31           5.708333\n",
       "1998-12-31           5.725000\n",
       "1999-12-31           5.408333\n",
       "2000-12-31           5.166667\n",
       "2001-12-31           5.216667\n",
       "2002-12-31           6.300000\n",
       "2003-12-31           5.433333\n",
       "2004-12-31           5.966667\n",
       "2005-12-31           6.066667\n",
       "2006-12-31           5.633333\n",
       "2007-12-31           5.316667\n",
       "2008-12-31           5.241667\n",
       "2009-12-31           5.950000\n",
       "2010-12-31           5.691667\n",
       "2011-12-31           5.575000\n",
       "2012-12-31           5.533333\n",
       "2013-12-31           5.433333\n",
       "2014-12-31           5.975000\n",
       "2015-12-31           6.166667\n",
       "2016-12-31           6.000000\n",
       "2017-12-31           5.800000\n",
       "2018-12-31           5.750000\n",
       "2019-12-31           6.783333\n",
       "2020-12-31           6.130000"
      ]
     },
     "execution_count": 90,
     "metadata": {},
     "output_type": "execute_result"
    }
   ],
   "source": [
    "sunshine.resample('Y').mean()"
   ]
  },
  {
   "cell_type": "code",
   "execution_count": 91,
   "metadata": {},
   "outputs": [
    {
     "data": {
      "text/plain": [
       "[<matplotlib.lines.Line2D at 0x7fe7fc8c79a0>]"
      ]
     },
     "execution_count": 91,
     "metadata": {},
     "output_type": "execute_result"
    },
    {
     "data": {
      "image/png": "[encoded data removed]",
      "text/plain": [
       "<Figure size 648x432 with 1 Axes>"
      ]
     },
     "metadata": {
      "needs_background": "light"
     },
     "output_type": "display_data"
    }
   ],
   "source": [
    "plt.figure(figsize=(9, 6))\n",
    "plt.plot(sunshine['mean_sunshine_hrs'])"
   ]
  },
  {
   "cell_type": "code",
   "execution_count": null,
   "metadata": {},
   "outputs": [],
   "source": []
  },
  {
   "cell_type": "code",
   "execution_count": null,
   "metadata": {},
   "outputs": [],
   "source": []
  },
  {
   "cell_type": "markdown",
   "metadata": {},
   "source": [
    "## 7. Conclusions and Recommendations \n",
    "[top](#Contents)"
   ]
  },
  {
   "cell_type": "markdown",
   "metadata": {},
   "source": [
    "As Singapore enters phase 3, the pace of economic recovery is slow as many people still Work from Home and the Home-Based Learning.\n",
    "\n",
    "We foresee the rate of energy-consumption of 2021 is lower than usual, and it is quite difficult to predict the actual energy-consumption because of the amount of Industry-related activities and the amount of Commerical-related activities is lower than usual. "
   ]
  },
  {
   "cell_type": "code",
   "execution_count": null,
   "metadata": {},
   "outputs": [],
   "source": []
  },
  {
   "cell_type": "code",
   "execution_count": 14,
   "metadata": {},
   "outputs": [
    {
     "data": {
      "text/html": [
       "<div>\n",
       "<style scoped>\n",
       "    .dataframe tbody tr th:only-of-type {\n",
       "        vertical-align: middle;\n",
       "    }\n",
       "\n",
       "    .dataframe tbody tr th {\n",
       "        vertical-align: top;\n",
       "    }\n",
       "\n",
       "    .dataframe thead th {\n",
       "        text-align: right;\n",
       "    }\n",
       "</style>\n",
       "<table border=\"1\" class=\"dataframe\">\n",
       "  <thead>\n",
       "    <tr style=\"text-align: right;\">\n",
       "      <th></th>\n",
       "      <th>year</th>\n",
       "      <th>subsector</th>\n",
       "      <th>electricity_consumption_gwh</th>\n",
       "    </tr>\n",
       "  </thead>\n",
       "  <tbody>\n",
       "    <tr>\n",
       "      <th>4</th>\n",
       "      <td>2005</td>\n",
       "      <td>Wholesale and Retail Trade</td>\n",
       "      <td>2109.800000</td>\n",
       "    </tr>\n",
       "    <tr>\n",
       "      <th>5</th>\n",
       "      <td>2005</td>\n",
       "      <td>Accomodation and Food Services</td>\n",
       "      <td>1031.330000</td>\n",
       "    </tr>\n",
       "    <tr>\n",
       "      <th>6</th>\n",
       "      <td>2005</td>\n",
       "      <td>Information and Communications</td>\n",
       "      <td>667.191619</td>\n",
       "    </tr>\n",
       "    <tr>\n",
       "      <th>7</th>\n",
       "      <td>2005</td>\n",
       "      <td>Financial and Insurance Activities</td>\n",
       "      <td>1291.940000</td>\n",
       "    </tr>\n",
       "    <tr>\n",
       "      <th>8</th>\n",
       "      <td>2005</td>\n",
       "      <td>Real Estate Activities</td>\n",
       "      <td>3712.420000</td>\n",
       "    </tr>\n",
       "    <tr>\n",
       "      <th>...</th>\n",
       "      <td>...</td>\n",
       "      <td>...</td>\n",
       "      <td>...</td>\n",
       "    </tr>\n",
       "    <tr>\n",
       "      <th>216</th>\n",
       "      <td>2020</td>\n",
       "      <td>Information and Communications</td>\n",
       "      <td>1661.960142</td>\n",
       "    </tr>\n",
       "    <tr>\n",
       "      <th>217</th>\n",
       "      <td>2020</td>\n",
       "      <td>Financial and Insurance Activities</td>\n",
       "      <td>1281.910013</td>\n",
       "    </tr>\n",
       "    <tr>\n",
       "      <th>218</th>\n",
       "      <td>2020</td>\n",
       "      <td>Real Estate Activities</td>\n",
       "      <td>2514.581896</td>\n",
       "    </tr>\n",
       "    <tr>\n",
       "      <th>219</th>\n",
       "      <td>2020</td>\n",
       "      <td>Professional, Scientific</td>\n",
       "      <td>448.195719</td>\n",
       "    </tr>\n",
       "    <tr>\n",
       "      <th>220</th>\n",
       "      <td>2020</td>\n",
       "      <td>Other Commercial-Related</td>\n",
       "      <td>2558.787853</td>\n",
       "    </tr>\n",
       "  </tbody>\n",
       "</table>\n",
       "<p>112 rows × 3 columns</p>\n",
       "</div>"
      ],
      "text/plain": [
       "     year                           subsector  electricity_consumption_gwh\n",
       "4    2005          Wholesale and Retail Trade                  2109.800000\n",
       "5    2005      Accomodation and Food Services                  1031.330000\n",
       "6    2005      Information and Communications                   667.191619\n",
       "7    2005  Financial and Insurance Activities                  1291.940000\n",
       "8    2005              Real Estate Activities                  3712.420000\n",
       "..    ...                                 ...                          ...\n",
       "216  2020      Information and Communications                  1661.960142\n",
       "217  2020  Financial and Insurance Activities                  1281.910013\n",
       "218  2020              Real Estate Activities                  2514.581896\n",
       "219  2020            Professional, Scientific                   448.195719\n",
       "220  2020            Other Commercial-Related                  2558.787853\n",
       "\n",
       "[112 rows x 3 columns]"
      ]
     },
     "execution_count": 14,
     "metadata": {},
     "output_type": "execute_result"
    }
   ],
   "source": [
    "sec[sec['sector'] == 'Commercial-Related'][['year','subsector','electricity_consumption_gwh']]"
   ]
  },
  {
   "cell_type": "code",
   "execution_count": null,
   "metadata": {},
   "outputs": [],
   "source": []
  }
 ],
 "metadata": {
  "kernelspec": {
   "display_name": "Python 3",
   "language": "python",
   "name": "python3"
  },
  "language_info": {
   "codemirror_mode": {
    "name": "ipython",
    "version": 3
   },
   "file_extension": ".py",
   "mimetype": "text/x-python",
   "name": "python",
   "nbconvert_exporter": "python",
   "pygments_lexer": "ipython3",
   "version": "3.8.3"
  }
 },
 "nbformat": 4,
 "nbformat_minor": 4
}
