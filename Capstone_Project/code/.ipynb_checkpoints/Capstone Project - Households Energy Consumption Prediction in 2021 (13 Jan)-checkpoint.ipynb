{
 "cells": [
  {
   "cell_type": "markdown",
   "metadata": {},
   "source": [
    "# DSI 18 - Capstone Project\n",
    "\n",
    "# Households Energy Consumption Prediction 2021"
   ]
  },
  {
   "cell_type": "markdown",
   "metadata": {},
   "source": [
    "## Contents\n",
    "\n",
    "- [1. Objective](#1.-Objective)\n",
    "    - [1.1. Problem Statement](#1.1.-Problem-Statement)\n",
    "    - [1.2. Data Sources](#1.2.-Data-Sources)\n",
    "    - [1.3. Approaches](#1.3.-Approaches)\n",
    "- [2. Check all the data given](#2.-Check-all-the-datas-given)\n",
    "    - [2.1. Definition of sunshine hours](#2.1.-Definition-of-sunshine-hours)\n",
    "- [3. Clean the data](#3.-Clean-the-data)\n",
    "    - [3.1. Analyze the data](#3.1.-Analyze-the-data)\n",
    "    - [3.2. Clean the data](#3.2.-Clean-the-data)\n",
    "    - [3.3. Combine the data](#3.3.-Combine-the-data)\n",
    "- [4. EDA](#4.-EDA)\n",
    "    - [4.1. Correlation of Sunshine](#4.1.-Correlation-of-Sunshine)\n",
    "    - [4.2. Check the number of Sector](#4.2.-Check-the-number-of-Sector)\n",
    "    - [4.3. Check the number of Subsector](#4.3.-Check-the-number-of-Subsector)\n",
    "    - [4.4. Analyze 4 Industry-Related subsectors](#4.4.-Analyze-4-Industry-Related-subsectors) \n",
    "    - [4.5. Analyze 7 Commercial-Related subsectors](#4.5.-Analyze-7-Commercial-Related-subsectors) \n",
    "    - [4.6. Analyze Transport-Related sector](#4.6.-Analyze-Transport-Related-sector)\n",
    "    - [4.7. Analyze Households sector](#4.7.-Analyze-Households-sector)\n",
    "        - [4.7.1. Analyze Household: 1 room & 2 room data](#4.7.1.-Analyze-Household:-1-room-&-2-room-data)\n",
    "        - [4.7.2. Analyze Household: 3 room data](#4.7.2.-Analyze-Household:-3-room-data)\n",
    "        - [4.7.3. Analyze Household: 4 room data](#4.7.3.-Analyze-Household:-4-room-data)\n",
    "        - [4.7.4. Analyze Household: 5 room & executive data](#4.7.4.-Analyze-Household:-5-room-&-executive-data)\n",
    "        - [4.7.5. Analyze Household: private apts & condo data](#4.7.5.-Analyze-Household:-private-apts-&-condo-data)\n",
    "        - [4.7.6. Analyze Household: landed properties data](#4.7.6.-Analyze-Household:-landed-properties-data)\n",
    "        - [4.7.7. Analyze Household: other data](#4.7.7.-Analyze-Household:-other-data)\n",
    "    - [4.8. Analyze Others sector](#4.8.-Analyze-Others-sector)    \n",
    "\n",
    "- [7. Conclusions and Recommendations](#7.-Conclusions-and-Recommendations)\n",
    "- [8. References](#8.-References)\n"
   ]
  },
  {
   "cell_type": "markdown",
   "metadata": {},
   "source": [
    "## 1. Objective\n",
    "[top](#Contents)"
   ]
  },
  {
   "cell_type": "markdown",
   "metadata": {},
   "source": [
    "###### Based on the energy consumption in Singapore in 2005 - 2020, we are going to predict the energy consumption in Singapore for 2021."
   ]
  },
  {
   "cell_type": "markdown",
   "metadata": {},
   "source": [
    "### 1.1. Problem Statement\n",
    "[top](#Contents)"
   ]
  },
  {
   "cell_type": "markdown",
   "metadata": {},
   "source": [
    "... to be continued ..."
   ]
  },
  {
   "cell_type": "markdown",
   "metadata": {},
   "source": [
    "### 1.2. Data Sources\n",
    "[top](#Contents)"
   ]
  },
  {
   "cell_type": "markdown",
   "metadata": {},
   "source": [
    "Past year Energy Consumption in Singapore from 2005 to 2020:\n",
    "\n",
    "https://www.kaggle.com/zyc191/energy-consumption-singapore-from-opendata"
   ]
  },
  {
   "cell_type": "markdown",
   "metadata": {},
   "source": [
    "### 1.3. Approaches\n",
    "[top](#Contents)"
   ]
  },
  {
   "cell_type": "markdown",
   "metadata": {},
   "source": [
    "... to be continued ..."
   ]
  },
  {
   "cell_type": "markdown",
   "metadata": {},
   "source": [
    "## 2. Check all the data given\n",
    "[top](#Contents)"
   ]
  },
  {
   "cell_type": "markdown",
   "metadata": {},
   "source": [
    "**5 set** of datas are given by Kaggle, we will look through it one-by-one, and decide which one is important for us."
   ]
  },
  {
   "cell_type": "code",
   "execution_count": 1,
   "metadata": {},
   "outputs": [],
   "source": [
    "import pandas as pd\n",
    "import matplotlib.pyplot as plt\n",
    "import seaborn as sns\n",
    "import numpy as np"
   ]
  },
  {
   "cell_type": "code",
   "execution_count": 2,
   "metadata": {},
   "outputs": [
    {
     "data": {
      "text/html": [
       "<div>\n",
       "<style scoped>\n",
       "    .dataframe tbody tr th:only-of-type {\n",
       "        vertical-align: middle;\n",
       "    }\n",
       "\n",
       "    .dataframe tbody tr th {\n",
       "        vertical-align: top;\n",
       "    }\n",
       "\n",
       "    .dataframe thead th {\n",
       "        text-align: right;\n",
       "    }\n",
       "</style>\n",
       "<table border=\"1\" class=\"dataframe\">\n",
       "  <thead>\n",
       "    <tr style=\"text-align: right;\">\n",
       "      <th></th>\n",
       "      <th>year</th>\n",
       "      <th>energy_products</th>\n",
       "      <th>percentage</th>\n",
       "    </tr>\n",
       "  </thead>\n",
       "  <tbody>\n",
       "    <tr>\n",
       "      <th>0</th>\n",
       "      <td>2005</td>\n",
       "      <td>Petroleum Products</td>\n",
       "      <td>23.1</td>\n",
       "    </tr>\n",
       "    <tr>\n",
       "      <th>1</th>\n",
       "      <td>2006</td>\n",
       "      <td>Petroleum Products</td>\n",
       "      <td>19.8</td>\n",
       "    </tr>\n",
       "    <tr>\n",
       "      <th>2</th>\n",
       "      <td>2007</td>\n",
       "      <td>Petroleum Products</td>\n",
       "      <td>18.9</td>\n",
       "    </tr>\n",
       "    <tr>\n",
       "      <th>3</th>\n",
       "      <td>2008</td>\n",
       "      <td>Petroleum Products</td>\n",
       "      <td>17.2</td>\n",
       "    </tr>\n",
       "    <tr>\n",
       "      <th>4</th>\n",
       "      <td>2009</td>\n",
       "      <td>Petroleum Products</td>\n",
       "      <td>16.9</td>\n",
       "    </tr>\n",
       "  </tbody>\n",
       "</table>\n",
       "</div>"
      ],
      "text/plain": [
       "   year     energy_products  percentage\n",
       "0  2005  Petroleum Products        23.1\n",
       "1  2006  Petroleum Products        19.8\n",
       "2  2007  Petroleum Products        18.9\n",
       "3  2008  Petroleum Products        17.2\n",
       "4  2009  Petroleum Products        16.9"
      ]
     },
     "execution_count": 2,
     "metadata": {},
     "output_type": "execute_result"
    }
   ],
   "source": [
    "energy = pd.read_csv('../datasets/annual_energy_mix_2005_2020.csv')\n",
    "energy.head()"
   ]
  },
  {
   "cell_type": "code",
   "execution_count": 3,
   "metadata": {},
   "outputs": [
    {
     "data": {
      "text/html": [
       "<div>\n",
       "<style scoped>\n",
       "    .dataframe tbody tr th:only-of-type {\n",
       "        vertical-align: middle;\n",
       "    }\n",
       "\n",
       "    .dataframe tbody tr th {\n",
       "        vertical-align: top;\n",
       "    }\n",
       "\n",
       "    .dataframe thead th {\n",
       "        text-align: right;\n",
       "    }\n",
       "</style>\n",
       "<table border=\"1\" class=\"dataframe\">\n",
       "  <thead>\n",
       "    <tr style=\"text-align: right;\">\n",
       "      <th></th>\n",
       "      <th>year</th>\n",
       "      <th>energy_products</th>\n",
       "      <th>percentage</th>\n",
       "    </tr>\n",
       "  </thead>\n",
       "  <tbody>\n",
       "    <tr>\n",
       "      <th>59</th>\n",
       "      <td>2019</td>\n",
       "      <td>Others</td>\n",
       "      <td>2.8</td>\n",
       "    </tr>\n",
       "    <tr>\n",
       "      <th>60</th>\n",
       "      <td>2020</td>\n",
       "      <td>Petroleum Products</td>\n",
       "      <td>0.2</td>\n",
       "    </tr>\n",
       "    <tr>\n",
       "      <th>61</th>\n",
       "      <td>2020</td>\n",
       "      <td>Natural Gas</td>\n",
       "      <td>96.0</td>\n",
       "    </tr>\n",
       "    <tr>\n",
       "      <th>62</th>\n",
       "      <td>2020</td>\n",
       "      <td>Coal</td>\n",
       "      <td>1.0</td>\n",
       "    </tr>\n",
       "    <tr>\n",
       "      <th>63</th>\n",
       "      <td>2020</td>\n",
       "      <td>Others</td>\n",
       "      <td>2.8</td>\n",
       "    </tr>\n",
       "  </tbody>\n",
       "</table>\n",
       "</div>"
      ],
      "text/plain": [
       "    year     energy_products  percentage\n",
       "59  2019              Others         2.8\n",
       "60  2020  Petroleum Products         0.2\n",
       "61  2020         Natural Gas        96.0\n",
       "62  2020                Coal         1.0\n",
       "63  2020              Others         2.8"
      ]
     },
     "execution_count": 3,
     "metadata": {},
     "output_type": "execute_result"
    }
   ],
   "source": [
    "energy.tail()"
   ]
  },
  {
   "cell_type": "code",
   "execution_count": 4,
   "metadata": {},
   "outputs": [
    {
     "data": {
      "text/html": [
       "<div>\n",
       "<style scoped>\n",
       "    .dataframe tbody tr th:only-of-type {\n",
       "        vertical-align: middle;\n",
       "    }\n",
       "\n",
       "    .dataframe tbody tr th {\n",
       "        vertical-align: top;\n",
       "    }\n",
       "\n",
       "    .dataframe thead th {\n",
       "        text-align: right;\n",
       "    }\n",
       "</style>\n",
       "<table border=\"1\" class=\"dataframe\">\n",
       "  <thead>\n",
       "    <tr style=\"text-align: right;\">\n",
       "      <th></th>\n",
       "      <th>year</th>\n",
       "      <th>sector</th>\n",
       "      <th>subsector</th>\n",
       "      <th>electricity_consumption_gwh</th>\n",
       "    </tr>\n",
       "  </thead>\n",
       "  <tbody>\n",
       "    <tr>\n",
       "      <th>0</th>\n",
       "      <td>2005</td>\n",
       "      <td>Industry-Related</td>\n",
       "      <td>Manufacturing</td>\n",
       "      <td>13836.130000</td>\n",
       "    </tr>\n",
       "    <tr>\n",
       "      <th>1</th>\n",
       "      <td>2005</td>\n",
       "      <td>Industry-Related</td>\n",
       "      <td>Construction</td>\n",
       "      <td>234.779777</td>\n",
       "    </tr>\n",
       "    <tr>\n",
       "      <th>2</th>\n",
       "      <td>2005</td>\n",
       "      <td>Industry-Related</td>\n",
       "      <td>Utilities</td>\n",
       "      <td>410.975073</td>\n",
       "    </tr>\n",
       "    <tr>\n",
       "      <th>3</th>\n",
       "      <td>2005</td>\n",
       "      <td>Industry-Related</td>\n",
       "      <td>Other Industry-Related</td>\n",
       "      <td>27.153824</td>\n",
       "    </tr>\n",
       "    <tr>\n",
       "      <th>4</th>\n",
       "      <td>2005</td>\n",
       "      <td>Commercial-Related</td>\n",
       "      <td>Wholesale and Retail Trade</td>\n",
       "      <td>2109.800000</td>\n",
       "    </tr>\n",
       "  </tbody>\n",
       "</table>\n",
       "</div>"
      ],
      "text/plain": [
       "   year              sector                   subsector  \\\n",
       "0  2005    Industry-Related               Manufacturing   \n",
       "1  2005    Industry-Related                Construction   \n",
       "2  2005    Industry-Related                   Utilities   \n",
       "3  2005    Industry-Related      Other Industry-Related   \n",
       "4  2005  Commercial-Related  Wholesale and Retail Trade   \n",
       "\n",
       "   electricity_consumption_gwh  \n",
       "0                 13836.130000  \n",
       "1                   234.779777  \n",
       "2                   410.975073  \n",
       "3                    27.153824  \n",
       "4                  2109.800000  "
      ]
     },
     "execution_count": 4,
     "metadata": {},
     "output_type": "execute_result"
    }
   ],
   "source": [
    "electricity = pd.read_csv('../datasets/electricity_consumption_by_sub_sector_2005_2020.csv')\n",
    "electricity.head()"
   ]
  },
  {
   "cell_type": "code",
   "execution_count": 5,
   "metadata": {},
   "outputs": [
    {
     "data": {
      "text/html": [
       "<div>\n",
       "<style scoped>\n",
       "    .dataframe tbody tr th:only-of-type {\n",
       "        vertical-align: middle;\n",
       "    }\n",
       "\n",
       "    .dataframe tbody tr th {\n",
       "        vertical-align: top;\n",
       "    }\n",
       "\n",
       "    .dataframe thead th {\n",
       "        text-align: right;\n",
       "    }\n",
       "</style>\n",
       "<table border=\"1\" class=\"dataframe\">\n",
       "  <thead>\n",
       "    <tr style=\"text-align: right;\">\n",
       "      <th></th>\n",
       "      <th>month</th>\n",
       "      <th>peak_system_demand_mw</th>\n",
       "    </tr>\n",
       "  </thead>\n",
       "  <tbody>\n",
       "    <tr>\n",
       "      <th>0</th>\n",
       "      <td>2005-01</td>\n",
       "      <td>5083</td>\n",
       "    </tr>\n",
       "    <tr>\n",
       "      <th>1</th>\n",
       "      <td>2005-02</td>\n",
       "      <td>5285</td>\n",
       "    </tr>\n",
       "    <tr>\n",
       "      <th>2</th>\n",
       "      <td>2005-03</td>\n",
       "      <td>5333</td>\n",
       "    </tr>\n",
       "    <tr>\n",
       "      <th>3</th>\n",
       "      <td>2005-04</td>\n",
       "      <td>5408</td>\n",
       "    </tr>\n",
       "    <tr>\n",
       "      <th>4</th>\n",
       "      <td>2005-05</td>\n",
       "      <td>5385</td>\n",
       "    </tr>\n",
       "  </tbody>\n",
       "</table>\n",
       "</div>"
      ],
      "text/plain": [
       "     month  peak_system_demand_mw\n",
       "0  2005-01                   5083\n",
       "1  2005-02                   5285\n",
       "2  2005-03                   5333\n",
       "3  2005-04                   5408\n",
       "4  2005-05                   5385"
      ]
     },
     "execution_count": 5,
     "metadata": {},
     "output_type": "execute_result"
    }
   ],
   "source": [
    "peak = pd.read_csv('../datasets/peak_demand_2005_jul_2020.csv')\n",
    "peak.head()"
   ]
  },
  {
   "cell_type": "code",
   "execution_count": 6,
   "metadata": {},
   "outputs": [
    {
     "data": {
      "text/html": [
       "<div>\n",
       "<style scoped>\n",
       "    .dataframe tbody tr th:only-of-type {\n",
       "        vertical-align: middle;\n",
       "    }\n",
       "\n",
       "    .dataframe tbody tr th {\n",
       "        vertical-align: top;\n",
       "    }\n",
       "\n",
       "    .dataframe thead th {\n",
       "        text-align: right;\n",
       "    }\n",
       "</style>\n",
       "<table border=\"1\" class=\"dataframe\">\n",
       "  <thead>\n",
       "    <tr style=\"text-align: right;\">\n",
       "      <th></th>\n",
       "      <th>month</th>\n",
       "      <th>mean_sunshine_hrs</th>\n",
       "    </tr>\n",
       "  </thead>\n",
       "  <tbody>\n",
       "    <tr>\n",
       "      <th>0</th>\n",
       "      <td>1982-01</td>\n",
       "      <td>5.6</td>\n",
       "    </tr>\n",
       "    <tr>\n",
       "      <th>1</th>\n",
       "      <td>1982-02</td>\n",
       "      <td>7.6</td>\n",
       "    </tr>\n",
       "    <tr>\n",
       "      <th>2</th>\n",
       "      <td>1982-03</td>\n",
       "      <td>5.1</td>\n",
       "    </tr>\n",
       "    <tr>\n",
       "      <th>3</th>\n",
       "      <td>1982-04</td>\n",
       "      <td>4.7</td>\n",
       "    </tr>\n",
       "    <tr>\n",
       "      <th>4</th>\n",
       "      <td>1982-05</td>\n",
       "      <td>5.8</td>\n",
       "    </tr>\n",
       "  </tbody>\n",
       "</table>\n",
       "</div>"
      ],
      "text/plain": [
       "     month  mean_sunshine_hrs\n",
       "0  1982-01                5.6\n",
       "1  1982-02                7.6\n",
       "2  1982-03                5.1\n",
       "3  1982-04                4.7\n",
       "4  1982-05                5.8"
      ]
     },
     "execution_count": 6,
     "metadata": {},
     "output_type": "execute_result"
    }
   ],
   "source": [
    "sunshine = pd.read_csv('../datasets/sunshine_duration_monthly_mean_daily_duration.csv')\n",
    "sunshine.head()"
   ]
  },
  {
   "cell_type": "code",
   "execution_count": 7,
   "metadata": {},
   "outputs": [
    {
     "data": {
      "text/html": [
       "<div>\n",
       "<style scoped>\n",
       "    .dataframe tbody tr th:only-of-type {\n",
       "        vertical-align: middle;\n",
       "    }\n",
       "\n",
       "    .dataframe tbody tr th {\n",
       "        vertical-align: top;\n",
       "    }\n",
       "\n",
       "    .dataframe thead th {\n",
       "        text-align: right;\n",
       "    }\n",
       "</style>\n",
       "<table border=\"1\" class=\"dataframe\">\n",
       "  <thead>\n",
       "    <tr style=\"text-align: right;\">\n",
       "      <th></th>\n",
       "      <th>month</th>\n",
       "      <th>overall</th>\n",
       "      <th>public_housing</th>\n",
       "      <th>1-room_2-room</th>\n",
       "      <th>3-room</th>\n",
       "      <th>4-room</th>\n",
       "      <th>5-room_and_executive</th>\n",
       "      <th>private_housing</th>\n",
       "      <th>private_apts_and_condo</th>\n",
       "      <th>landed_properties</th>\n",
       "      <th>others</th>\n",
       "    </tr>\n",
       "  </thead>\n",
       "  <tbody>\n",
       "    <tr>\n",
       "      <th>0</th>\n",
       "      <td>2019-01</td>\n",
       "      <td>594.1</td>\n",
       "      <td>343.4</td>\n",
       "      <td>11.5</td>\n",
       "      <td>61.1</td>\n",
       "      <td>143.3</td>\n",
       "      <td>127.4</td>\n",
       "      <td>249.8</td>\n",
       "      <td>163.0</td>\n",
       "      <td>86.9</td>\n",
       "      <td>0.8</td>\n",
       "    </tr>\n",
       "    <tr>\n",
       "      <th>1</th>\n",
       "      <td>2019-02</td>\n",
       "      <td>613.6</td>\n",
       "      <td>356.0</td>\n",
       "      <td>11.7</td>\n",
       "      <td>62.3</td>\n",
       "      <td>148.5</td>\n",
       "      <td>133.4</td>\n",
       "      <td>256.7</td>\n",
       "      <td>167.6</td>\n",
       "      <td>89.1</td>\n",
       "      <td>0.8</td>\n",
       "    </tr>\n",
       "    <tr>\n",
       "      <th>2</th>\n",
       "      <td>2019-03</td>\n",
       "      <td>598.2</td>\n",
       "      <td>340.9</td>\n",
       "      <td>11.2</td>\n",
       "      <td>59.6</td>\n",
       "      <td>142.0</td>\n",
       "      <td>128.0</td>\n",
       "      <td>256.5</td>\n",
       "      <td>167.8</td>\n",
       "      <td>88.7</td>\n",
       "      <td>0.8</td>\n",
       "    </tr>\n",
       "    <tr>\n",
       "      <th>3</th>\n",
       "      <td>2019-04</td>\n",
       "      <td>653.1</td>\n",
       "      <td>374.6</td>\n",
       "      <td>12.3</td>\n",
       "      <td>66.2</td>\n",
       "      <td>155.9</td>\n",
       "      <td>140.2</td>\n",
       "      <td>277.6</td>\n",
       "      <td>183.6</td>\n",
       "      <td>94.0</td>\n",
       "      <td>0.9</td>\n",
       "    </tr>\n",
       "    <tr>\n",
       "      <th>4</th>\n",
       "      <td>2019-05</td>\n",
       "      <td>670.5</td>\n",
       "      <td>385.9</td>\n",
       "      <td>12.8</td>\n",
       "      <td>68.3</td>\n",
       "      <td>160.7</td>\n",
       "      <td>144.0</td>\n",
       "      <td>283.7</td>\n",
       "      <td>190.0</td>\n",
       "      <td>93.7</td>\n",
       "      <td>0.9</td>\n",
       "    </tr>\n",
       "  </tbody>\n",
       "</table>\n",
       "</div>"
      ],
      "text/plain": [
       "     month  overall  public_housing  1-room_2-room  3-room  4-room  \\\n",
       "0  2019-01    594.1           343.4           11.5    61.1   143.3   \n",
       "1  2019-02    613.6           356.0           11.7    62.3   148.5   \n",
       "2  2019-03    598.2           340.9           11.2    59.6   142.0   \n",
       "3  2019-04    653.1           374.6           12.3    66.2   155.9   \n",
       "4  2019-05    670.5           385.9           12.8    68.3   160.7   \n",
       "\n",
       "   5-room_and_executive  private_housing  private_apts_and_condo  \\\n",
       "0                 127.4            249.8                   163.0   \n",
       "1                 133.4            256.7                   167.6   \n",
       "2                 128.0            256.5                   167.8   \n",
       "3                 140.2            277.6                   183.6   \n",
       "4                 144.0            283.7                   190.0   \n",
       "\n",
       "   landed_properties  others  \n",
       "0               86.9     0.8  \n",
       "1               89.1     0.8  \n",
       "2               88.7     0.8  \n",
       "3               94.0     0.9  \n",
       "4               93.7     0.9  "
      ]
     },
     "execution_count": 7,
     "metadata": {},
     "output_type": "execute_result"
    }
   ],
   "source": [
    "household = pd.read_csv('../datasets/total_household_electricity_consumption_2005_2020.csv')\n",
    "household.head()"
   ]
  },
  {
   "cell_type": "code",
   "execution_count": null,
   "metadata": {},
   "outputs": [],
   "source": []
  },
  {
   "cell_type": "markdown",
   "metadata": {},
   "source": [
    "These are the data we have given:\n",
    "\n",
    "|Data Given|Duration|Frequency|\n",
    "|---|---|---|\n",
    "|Sources of energy|2005-2020|Yearly|\n",
    "|Peak electricity demand|2005-2020|Monthly|\n",
    "|Electicial consumption by sector|2005-2020|Yearly|\n",
    "|Mean daily sunshine|1982-2020|Monthly|\n",
    "|Household electricity consumption|2005-2020|Monthly|"
   ]
  },
  {
   "cell_type": "markdown",
   "metadata": {},
   "source": [
    "#### Selections:\n",
    "\n",
    "We want to predict the amount of energy consumption in 2021, it is necessary to do it base on past years result. I intend to break-it down and check the energy consumption for different sectors yearly, and forecast the future consumption.\n",
    "\n",
    "We feel that the file `annual_energy_mix_2005_2020` is not necessary as it only talks about the source of energy and does not help in future energy prediction. \n",
    "\n",
    "For the file `peak_demand_2005_jul_2020`, it talks about the peak energy demand for each month, we feel that it is unimportant as we intend to break into subsectors to check each one energy consumption, so we will drop this data also.\n",
    "\n",
    "At the end, we decide to keep the **remaining 3 files**:\n",
    "- `electricity_consumption_by_sub_sector_2005_2020`\n",
    "- `sunshine_duration_monthly_mean_daily_duration`\n",
    "- `total_household_electricity_consumption_2005_2020`"
   ]
  },
  {
   "cell_type": "markdown",
   "metadata": {},
   "source": [
    "### 2.1. Definition of sunshine hours\n",
    "[top](#Contents)"
   ]
  },
  {
   "cell_type": "markdown",
   "metadata": {},
   "source": [
    "Given the theoretical maximum of daytime duration for a given location, there is also a practical consideration at which point the amount of daylight is sufficient to be treated as a \"sunshine hour\". \"Bright\" sunshine hours represent the total hours when the sunlight is stronger than a specified threshold, as opposed to just \"visible\" hours. \"Visible\" sunshine, for example, occurs around sunrise and sunset, but is not strong enough to excite the sensor."
   ]
  },
  {
   "cell_type": "markdown",
   "metadata": {},
   "source": [
    "<img src = \"../image/Sunshine.PNG\">"
   ]
  },
  {
   "cell_type": "markdown",
   "metadata": {},
   "source": [
    "According to Wikipedia, Singapore has a sunshine duration of about 129.2 - 192.7 hours per month. It is a general indicator of cloudines of a location. It is equivalent to 4.3 - 6.4 hours per day, which match the result in the `total_household_electricity_consumption_2005_2020.csv` data."
   ]
  },
  {
   "cell_type": "markdown",
   "metadata": {},
   "source": [
    "## 3. Clean the data\n",
    "[top](#Contents)"
   ]
  },
  {
   "cell_type": "markdown",
   "metadata": {},
   "source": [
    "### 3.1. Analyze the data\n",
    "[top](#Contents)"
   ]
  },
  {
   "cell_type": "markdown",
   "metadata": {},
   "source": [
    "These **3 files** will be used in our prediction:\n",
    "- `electricity_consumption_by_sub_sector_2005_2020`\n",
    "- `sunshine_duration_monthly_mean_daily_duration`\n",
    "- `total_household_electricity_consumption_2005_2020`\n",
    "\n",
    "We will clean and combine the data here. Let us take a look to understand more these 3 data."
   ]
  },
  {
   "cell_type": "markdown",
   "metadata": {},
   "source": [
    "Look at the `electricity` data."
   ]
  },
  {
   "cell_type": "code",
   "execution_count": 8,
   "metadata": {},
   "outputs": [
    {
     "data": {
      "text/html": [
       "<div>\n",
       "<style scoped>\n",
       "    .dataframe tbody tr th:only-of-type {\n",
       "        vertical-align: middle;\n",
       "    }\n",
       "\n",
       "    .dataframe tbody tr th {\n",
       "        vertical-align: top;\n",
       "    }\n",
       "\n",
       "    .dataframe thead th {\n",
       "        text-align: right;\n",
       "    }\n",
       "</style>\n",
       "<table border=\"1\" class=\"dataframe\">\n",
       "  <thead>\n",
       "    <tr style=\"text-align: right;\">\n",
       "      <th></th>\n",
       "      <th>year</th>\n",
       "      <th>sector</th>\n",
       "      <th>subsector</th>\n",
       "      <th>electricity_consumption_gwh</th>\n",
       "    </tr>\n",
       "  </thead>\n",
       "  <tbody>\n",
       "    <tr>\n",
       "      <th>0</th>\n",
       "      <td>2005</td>\n",
       "      <td>Industry-Related</td>\n",
       "      <td>Manufacturing</td>\n",
       "      <td>13836.130000</td>\n",
       "    </tr>\n",
       "    <tr>\n",
       "      <th>1</th>\n",
       "      <td>2005</td>\n",
       "      <td>Industry-Related</td>\n",
       "      <td>Construction</td>\n",
       "      <td>234.779777</td>\n",
       "    </tr>\n",
       "    <tr>\n",
       "      <th>2</th>\n",
       "      <td>2005</td>\n",
       "      <td>Industry-Related</td>\n",
       "      <td>Utilities</td>\n",
       "      <td>410.975073</td>\n",
       "    </tr>\n",
       "    <tr>\n",
       "      <th>3</th>\n",
       "      <td>2005</td>\n",
       "      <td>Industry-Related</td>\n",
       "      <td>Other Industry-Related</td>\n",
       "      <td>27.153824</td>\n",
       "    </tr>\n",
       "    <tr>\n",
       "      <th>4</th>\n",
       "      <td>2005</td>\n",
       "      <td>Commercial-Related</td>\n",
       "      <td>Wholesale and Retail Trade</td>\n",
       "      <td>2109.800000</td>\n",
       "    </tr>\n",
       "  </tbody>\n",
       "</table>\n",
       "</div>"
      ],
      "text/plain": [
       "   year              sector                   subsector  \\\n",
       "0  2005    Industry-Related               Manufacturing   \n",
       "1  2005    Industry-Related                Construction   \n",
       "2  2005    Industry-Related                   Utilities   \n",
       "3  2005    Industry-Related      Other Industry-Related   \n",
       "4  2005  Commercial-Related  Wholesale and Retail Trade   \n",
       "\n",
       "   electricity_consumption_gwh  \n",
       "0                 13836.130000  \n",
       "1                   234.779777  \n",
       "2                   410.975073  \n",
       "3                    27.153824  \n",
       "4                  2109.800000  "
      ]
     },
     "execution_count": 8,
     "metadata": {},
     "output_type": "execute_result"
    }
   ],
   "source": [
    "electricity.head()"
   ]
  },
  {
   "cell_type": "code",
   "execution_count": 9,
   "metadata": {},
   "outputs": [
    {
     "data": {
      "text/plain": [
       "(224, 4)"
      ]
     },
     "execution_count": 9,
     "metadata": {},
     "output_type": "execute_result"
    }
   ],
   "source": [
    "electricity.shape"
   ]
  },
  {
   "cell_type": "code",
   "execution_count": 10,
   "metadata": {},
   "outputs": [
    {
     "name": "stdout",
     "output_type": "stream",
     "text": [
      "<class 'pandas.core.frame.DataFrame'>\n",
      "RangeIndex: 224 entries, 0 to 223\n",
      "Data columns (total 4 columns):\n",
      " #   Column                       Non-Null Count  Dtype  \n",
      "---  ------                       --------------  -----  \n",
      " 0   year                         224 non-null    int64  \n",
      " 1   sector                       224 non-null    object \n",
      " 2   subsector                    224 non-null    object \n",
      " 3   electricity_consumption_gwh  224 non-null    float64\n",
      "dtypes: float64(1), int64(1), object(2)\n",
      "memory usage: 7.1+ KB\n"
     ]
    }
   ],
   "source": [
    "electricity.info()"
   ]
  },
  {
   "cell_type": "markdown",
   "metadata": {},
   "source": [
    "Look at the `sunshine` data."
   ]
  },
  {
   "cell_type": "code",
   "execution_count": 11,
   "metadata": {},
   "outputs": [
    {
     "data": {
      "text/html": [
       "<div>\n",
       "<style scoped>\n",
       "    .dataframe tbody tr th:only-of-type {\n",
       "        vertical-align: middle;\n",
       "    }\n",
       "\n",
       "    .dataframe tbody tr th {\n",
       "        vertical-align: top;\n",
       "    }\n",
       "\n",
       "    .dataframe thead th {\n",
       "        text-align: right;\n",
       "    }\n",
       "</style>\n",
       "<table border=\"1\" class=\"dataframe\">\n",
       "  <thead>\n",
       "    <tr style=\"text-align: right;\">\n",
       "      <th></th>\n",
       "      <th>month</th>\n",
       "      <th>mean_sunshine_hrs</th>\n",
       "    </tr>\n",
       "  </thead>\n",
       "  <tbody>\n",
       "    <tr>\n",
       "      <th>0</th>\n",
       "      <td>1982-01</td>\n",
       "      <td>5.6</td>\n",
       "    </tr>\n",
       "    <tr>\n",
       "      <th>1</th>\n",
       "      <td>1982-02</td>\n",
       "      <td>7.6</td>\n",
       "    </tr>\n",
       "    <tr>\n",
       "      <th>2</th>\n",
       "      <td>1982-03</td>\n",
       "      <td>5.1</td>\n",
       "    </tr>\n",
       "    <tr>\n",
       "      <th>3</th>\n",
       "      <td>1982-04</td>\n",
       "      <td>4.7</td>\n",
       "    </tr>\n",
       "    <tr>\n",
       "      <th>4</th>\n",
       "      <td>1982-05</td>\n",
       "      <td>5.8</td>\n",
       "    </tr>\n",
       "  </tbody>\n",
       "</table>\n",
       "</div>"
      ],
      "text/plain": [
       "     month  mean_sunshine_hrs\n",
       "0  1982-01                5.6\n",
       "1  1982-02                7.6\n",
       "2  1982-03                5.1\n",
       "3  1982-04                4.7\n",
       "4  1982-05                5.8"
      ]
     },
     "execution_count": 11,
     "metadata": {},
     "output_type": "execute_result"
    }
   ],
   "source": [
    "sunshine.head()"
   ]
  },
  {
   "cell_type": "code",
   "execution_count": 12,
   "metadata": {},
   "outputs": [
    {
     "data": {
      "text/html": [
       "<div>\n",
       "<style scoped>\n",
       "    .dataframe tbody tr th:only-of-type {\n",
       "        vertical-align: middle;\n",
       "    }\n",
       "\n",
       "    .dataframe tbody tr th {\n",
       "        vertical-align: top;\n",
       "    }\n",
       "\n",
       "    .dataframe thead th {\n",
       "        text-align: right;\n",
       "    }\n",
       "</style>\n",
       "<table border=\"1\" class=\"dataframe\">\n",
       "  <thead>\n",
       "    <tr style=\"text-align: right;\">\n",
       "      <th></th>\n",
       "      <th>month</th>\n",
       "      <th>mean_sunshine_hrs</th>\n",
       "    </tr>\n",
       "  </thead>\n",
       "  <tbody>\n",
       "    <tr>\n",
       "      <th>461</th>\n",
       "      <td>2020-06</td>\n",
       "      <td>4.3</td>\n",
       "    </tr>\n",
       "    <tr>\n",
       "      <th>462</th>\n",
       "      <td>2020-07</td>\n",
       "      <td>5.7</td>\n",
       "    </tr>\n",
       "    <tr>\n",
       "      <th>463</th>\n",
       "      <td>2020-08</td>\n",
       "      <td>6.4</td>\n",
       "    </tr>\n",
       "    <tr>\n",
       "      <th>464</th>\n",
       "      <td>2020-09</td>\n",
       "      <td>4.8</td>\n",
       "    </tr>\n",
       "    <tr>\n",
       "      <th>465</th>\n",
       "      <td>2020-10</td>\n",
       "      <td>4.3</td>\n",
       "    </tr>\n",
       "  </tbody>\n",
       "</table>\n",
       "</div>"
      ],
      "text/plain": [
       "       month  mean_sunshine_hrs\n",
       "461  2020-06                4.3\n",
       "462  2020-07                5.7\n",
       "463  2020-08                6.4\n",
       "464  2020-09                4.8\n",
       "465  2020-10                4.3"
      ]
     },
     "execution_count": 12,
     "metadata": {},
     "output_type": "execute_result"
    }
   ],
   "source": [
    "sunshine.tail()"
   ]
  },
  {
   "cell_type": "code",
   "execution_count": 13,
   "metadata": {},
   "outputs": [
    {
     "data": {
      "text/plain": [
       "(466, 2)"
      ]
     },
     "execution_count": 13,
     "metadata": {},
     "output_type": "execute_result"
    }
   ],
   "source": [
    "sunshine.shape"
   ]
  },
  {
   "cell_type": "code",
   "execution_count": 14,
   "metadata": {},
   "outputs": [
    {
     "name": "stdout",
     "output_type": "stream",
     "text": [
      "<class 'pandas.core.frame.DataFrame'>\n",
      "RangeIndex: 466 entries, 0 to 465\n",
      "Data columns (total 2 columns):\n",
      " #   Column             Non-Null Count  Dtype  \n",
      "---  ------             --------------  -----  \n",
      " 0   month              466 non-null    object \n",
      " 1   mean_sunshine_hrs  466 non-null    float64\n",
      "dtypes: float64(1), object(1)\n",
      "memory usage: 7.4+ KB\n"
     ]
    }
   ],
   "source": [
    "sunshine.info()"
   ]
  },
  {
   "cell_type": "markdown",
   "metadata": {},
   "source": [
    "Look at the `household` data."
   ]
  },
  {
   "cell_type": "code",
   "execution_count": 15,
   "metadata": {},
   "outputs": [
    {
     "data": {
      "text/html": [
       "<div>\n",
       "<style scoped>\n",
       "    .dataframe tbody tr th:only-of-type {\n",
       "        vertical-align: middle;\n",
       "    }\n",
       "\n",
       "    .dataframe tbody tr th {\n",
       "        vertical-align: top;\n",
       "    }\n",
       "\n",
       "    .dataframe thead th {\n",
       "        text-align: right;\n",
       "    }\n",
       "</style>\n",
       "<table border=\"1\" class=\"dataframe\">\n",
       "  <thead>\n",
       "    <tr style=\"text-align: right;\">\n",
       "      <th></th>\n",
       "      <th>month</th>\n",
       "      <th>overall</th>\n",
       "      <th>public_housing</th>\n",
       "      <th>1-room_2-room</th>\n",
       "      <th>3-room</th>\n",
       "      <th>4-room</th>\n",
       "      <th>5-room_and_executive</th>\n",
       "      <th>private_housing</th>\n",
       "      <th>private_apts_and_condo</th>\n",
       "      <th>landed_properties</th>\n",
       "      <th>others</th>\n",
       "    </tr>\n",
       "  </thead>\n",
       "  <tbody>\n",
       "    <tr>\n",
       "      <th>0</th>\n",
       "      <td>2019-01</td>\n",
       "      <td>594.1</td>\n",
       "      <td>343.4</td>\n",
       "      <td>11.5</td>\n",
       "      <td>61.1</td>\n",
       "      <td>143.3</td>\n",
       "      <td>127.4</td>\n",
       "      <td>249.8</td>\n",
       "      <td>163.0</td>\n",
       "      <td>86.9</td>\n",
       "      <td>0.8</td>\n",
       "    </tr>\n",
       "    <tr>\n",
       "      <th>1</th>\n",
       "      <td>2019-02</td>\n",
       "      <td>613.6</td>\n",
       "      <td>356.0</td>\n",
       "      <td>11.7</td>\n",
       "      <td>62.3</td>\n",
       "      <td>148.5</td>\n",
       "      <td>133.4</td>\n",
       "      <td>256.7</td>\n",
       "      <td>167.6</td>\n",
       "      <td>89.1</td>\n",
       "      <td>0.8</td>\n",
       "    </tr>\n",
       "    <tr>\n",
       "      <th>2</th>\n",
       "      <td>2019-03</td>\n",
       "      <td>598.2</td>\n",
       "      <td>340.9</td>\n",
       "      <td>11.2</td>\n",
       "      <td>59.6</td>\n",
       "      <td>142.0</td>\n",
       "      <td>128.0</td>\n",
       "      <td>256.5</td>\n",
       "      <td>167.8</td>\n",
       "      <td>88.7</td>\n",
       "      <td>0.8</td>\n",
       "    </tr>\n",
       "    <tr>\n",
       "      <th>3</th>\n",
       "      <td>2019-04</td>\n",
       "      <td>653.1</td>\n",
       "      <td>374.6</td>\n",
       "      <td>12.3</td>\n",
       "      <td>66.2</td>\n",
       "      <td>155.9</td>\n",
       "      <td>140.2</td>\n",
       "      <td>277.6</td>\n",
       "      <td>183.6</td>\n",
       "      <td>94.0</td>\n",
       "      <td>0.9</td>\n",
       "    </tr>\n",
       "    <tr>\n",
       "      <th>4</th>\n",
       "      <td>2019-05</td>\n",
       "      <td>670.5</td>\n",
       "      <td>385.9</td>\n",
       "      <td>12.8</td>\n",
       "      <td>68.3</td>\n",
       "      <td>160.7</td>\n",
       "      <td>144.0</td>\n",
       "      <td>283.7</td>\n",
       "      <td>190.0</td>\n",
       "      <td>93.7</td>\n",
       "      <td>0.9</td>\n",
       "    </tr>\n",
       "  </tbody>\n",
       "</table>\n",
       "</div>"
      ],
      "text/plain": [
       "     month  overall  public_housing  1-room_2-room  3-room  4-room  \\\n",
       "0  2019-01    594.1           343.4           11.5    61.1   143.3   \n",
       "1  2019-02    613.6           356.0           11.7    62.3   148.5   \n",
       "2  2019-03    598.2           340.9           11.2    59.6   142.0   \n",
       "3  2019-04    653.1           374.6           12.3    66.2   155.9   \n",
       "4  2019-05    670.5           385.9           12.8    68.3   160.7   \n",
       "\n",
       "   5-room_and_executive  private_housing  private_apts_and_condo  \\\n",
       "0                 127.4            249.8                   163.0   \n",
       "1                 133.4            256.7                   167.6   \n",
       "2                 128.0            256.5                   167.8   \n",
       "3                 140.2            277.6                   183.6   \n",
       "4                 144.0            283.7                   190.0   \n",
       "\n",
       "   landed_properties  others  \n",
       "0               86.9     0.8  \n",
       "1               89.1     0.8  \n",
       "2               88.7     0.8  \n",
       "3               94.0     0.9  \n",
       "4               93.7     0.9  "
      ]
     },
     "execution_count": 15,
     "metadata": {},
     "output_type": "execute_result"
    }
   ],
   "source": [
    "household.head()"
   ]
  },
  {
   "cell_type": "code",
   "execution_count": 16,
   "metadata": {},
   "outputs": [
    {
     "data": {
      "text/plain": [
       "(187, 11)"
      ]
     },
     "execution_count": 16,
     "metadata": {},
     "output_type": "execute_result"
    }
   ],
   "source": [
    "household.shape"
   ]
  },
  {
   "cell_type": "code",
   "execution_count": 17,
   "metadata": {},
   "outputs": [
    {
     "name": "stdout",
     "output_type": "stream",
     "text": [
      "<class 'pandas.core.frame.DataFrame'>\n",
      "RangeIndex: 187 entries, 0 to 186\n",
      "Data columns (total 11 columns):\n",
      " #   Column                  Non-Null Count  Dtype  \n",
      "---  ------                  --------------  -----  \n",
      " 0   month                   187 non-null    object \n",
      " 1   overall                 187 non-null    float64\n",
      " 2   public_housing          187 non-null    float64\n",
      " 3   1-room_2-room           187 non-null    float64\n",
      " 4   3-room                  187 non-null    float64\n",
      " 5   4-room                  187 non-null    float64\n",
      " 6   5-room_and_executive    187 non-null    float64\n",
      " 7   private_housing         187 non-null    float64\n",
      " 8   private_apts_and_condo  187 non-null    float64\n",
      " 9   landed_properties       187 non-null    float64\n",
      " 10  others                  187 non-null    float64\n",
      "dtypes: float64(10), object(1)\n",
      "memory usage: 16.2+ KB\n"
     ]
    }
   ],
   "source": [
    "household.info()"
   ]
  },
  {
   "cell_type": "markdown",
   "metadata": {},
   "source": [
    "#### Interpretation:\n",
    "\n",
    "The frequency of these 3 data are different:\n",
    "\n",
    "- `electricity`: yearly\n",
    "- `sunshine`: monthly\n",
    "- `household`: monthly\n",
    "\n",
    "We will combine these based using the **intersection** of the 3 dataframes (i.e. we will combine them based on **yearly** result). Also, the starting and ending time of these 3 data are different:\n",
    "\n",
    "- `electricity`: 2005 - 2020\n",
    "- `sunshine`: 1982 - 2020\n",
    "- `household`: 2005 - 2020\n",
    "\n",
    "We will combine these based using the **intersection** of the 3 dataframes (i.e. we will combine them based on **2005 - 2020** result)."
   ]
  },
  {
   "cell_type": "markdown",
   "metadata": {},
   "source": [
    "### 3.2. Clean the data\n",
    "[top](#Contents)"
   ]
  },
  {
   "cell_type": "code",
   "execution_count": 18,
   "metadata": {},
   "outputs": [
    {
     "data": {
      "text/html": [
       "<div>\n",
       "<style scoped>\n",
       "    .dataframe tbody tr th:only-of-type {\n",
       "        vertical-align: middle;\n",
       "    }\n",
       "\n",
       "    .dataframe tbody tr th {\n",
       "        vertical-align: top;\n",
       "    }\n",
       "\n",
       "    .dataframe thead th {\n",
       "        text-align: right;\n",
       "    }\n",
       "</style>\n",
       "<table border=\"1\" class=\"dataframe\">\n",
       "  <thead>\n",
       "    <tr style=\"text-align: right;\">\n",
       "      <th></th>\n",
       "      <th>year</th>\n",
       "      <th>sector</th>\n",
       "      <th>subsector</th>\n",
       "      <th>electricity_consumption_gwh</th>\n",
       "    </tr>\n",
       "  </thead>\n",
       "  <tbody>\n",
       "    <tr>\n",
       "      <th>0</th>\n",
       "      <td>2005</td>\n",
       "      <td>Industry-Related</td>\n",
       "      <td>Manufacturing</td>\n",
       "      <td>13836.130000</td>\n",
       "    </tr>\n",
       "    <tr>\n",
       "      <th>1</th>\n",
       "      <td>2005</td>\n",
       "      <td>Industry-Related</td>\n",
       "      <td>Construction</td>\n",
       "      <td>234.779777</td>\n",
       "    </tr>\n",
       "    <tr>\n",
       "      <th>2</th>\n",
       "      <td>2005</td>\n",
       "      <td>Industry-Related</td>\n",
       "      <td>Utilities</td>\n",
       "      <td>410.975073</td>\n",
       "    </tr>\n",
       "    <tr>\n",
       "      <th>3</th>\n",
       "      <td>2005</td>\n",
       "      <td>Industry-Related</td>\n",
       "      <td>Other Industry-Related</td>\n",
       "      <td>27.153824</td>\n",
       "    </tr>\n",
       "    <tr>\n",
       "      <th>4</th>\n",
       "      <td>2005</td>\n",
       "      <td>Commercial-Related</td>\n",
       "      <td>Wholesale and Retail Trade</td>\n",
       "      <td>2109.800000</td>\n",
       "    </tr>\n",
       "    <tr>\n",
       "      <th>...</th>\n",
       "      <td>...</td>\n",
       "      <td>...</td>\n",
       "      <td>...</td>\n",
       "      <td>...</td>\n",
       "    </tr>\n",
       "    <tr>\n",
       "      <th>219</th>\n",
       "      <td>2020</td>\n",
       "      <td>Commercial-Related</td>\n",
       "      <td>Professional, Scientific</td>\n",
       "      <td>448.195719</td>\n",
       "    </tr>\n",
       "    <tr>\n",
       "      <th>220</th>\n",
       "      <td>2020</td>\n",
       "      <td>Commercial-Related</td>\n",
       "      <td>Other Commercial-Related</td>\n",
       "      <td>2558.787853</td>\n",
       "    </tr>\n",
       "    <tr>\n",
       "      <th>221</th>\n",
       "      <td>2020</td>\n",
       "      <td>Transport-Related</td>\n",
       "      <td>Transport-Related</td>\n",
       "      <td>1608.405576</td>\n",
       "    </tr>\n",
       "    <tr>\n",
       "      <th>222</th>\n",
       "      <td>2020</td>\n",
       "      <td>Households</td>\n",
       "      <td>Households</td>\n",
       "      <td>4861.229678</td>\n",
       "    </tr>\n",
       "    <tr>\n",
       "      <th>223</th>\n",
       "      <td>2020</td>\n",
       "      <td>Others</td>\n",
       "      <td>Others</td>\n",
       "      <td>129.865103</td>\n",
       "    </tr>\n",
       "  </tbody>\n",
       "</table>\n",
       "<p>224 rows × 4 columns</p>\n",
       "</div>"
      ],
      "text/plain": [
       "     year              sector                   subsector  \\\n",
       "0    2005    Industry-Related               Manufacturing   \n",
       "1    2005    Industry-Related                Construction   \n",
       "2    2005    Industry-Related                   Utilities   \n",
       "3    2005    Industry-Related      Other Industry-Related   \n",
       "4    2005  Commercial-Related  Wholesale and Retail Trade   \n",
       "..    ...                 ...                         ...   \n",
       "219  2020  Commercial-Related    Professional, Scientific   \n",
       "220  2020  Commercial-Related    Other Commercial-Related   \n",
       "221  2020   Transport-Related           Transport-Related   \n",
       "222  2020          Households                  Households   \n",
       "223  2020              Others                      Others   \n",
       "\n",
       "     electricity_consumption_gwh  \n",
       "0                   13836.130000  \n",
       "1                     234.779777  \n",
       "2                     410.975073  \n",
       "3                      27.153824  \n",
       "4                    2109.800000  \n",
       "..                           ...  \n",
       "219                   448.195719  \n",
       "220                  2558.787853  \n",
       "221                  1608.405576  \n",
       "222                  4861.229678  \n",
       "223                   129.865103  \n",
       "\n",
       "[224 rows x 4 columns]"
      ]
     },
     "execution_count": 18,
     "metadata": {},
     "output_type": "execute_result"
    }
   ],
   "source": [
    "electricity"
   ]
  },
  {
   "cell_type": "code",
   "execution_count": 19,
   "metadata": {},
   "outputs": [
    {
     "data": {
      "text/html": [
       "<div>\n",
       "<style scoped>\n",
       "    .dataframe tbody tr th:only-of-type {\n",
       "        vertical-align: middle;\n",
       "    }\n",
       "\n",
       "    .dataframe tbody tr th {\n",
       "        vertical-align: top;\n",
       "    }\n",
       "\n",
       "    .dataframe thead th {\n",
       "        text-align: right;\n",
       "    }\n",
       "</style>\n",
       "<table border=\"1\" class=\"dataframe\">\n",
       "  <thead>\n",
       "    <tr style=\"text-align: right;\">\n",
       "      <th></th>\n",
       "      <th>sector</th>\n",
       "      <th>subsector</th>\n",
       "      <th>electricity_consumption_gwh</th>\n",
       "    </tr>\n",
       "    <tr>\n",
       "      <th>year</th>\n",
       "      <th></th>\n",
       "      <th></th>\n",
       "      <th></th>\n",
       "    </tr>\n",
       "  </thead>\n",
       "  <tbody>\n",
       "    <tr>\n",
       "      <th>2005</th>\n",
       "      <td>Industry-Related</td>\n",
       "      <td>Manufacturing</td>\n",
       "      <td>13836.130000</td>\n",
       "    </tr>\n",
       "    <tr>\n",
       "      <th>2005</th>\n",
       "      <td>Industry-Related</td>\n",
       "      <td>Construction</td>\n",
       "      <td>234.779777</td>\n",
       "    </tr>\n",
       "    <tr>\n",
       "      <th>2005</th>\n",
       "      <td>Industry-Related</td>\n",
       "      <td>Utilities</td>\n",
       "      <td>410.975073</td>\n",
       "    </tr>\n",
       "    <tr>\n",
       "      <th>2005</th>\n",
       "      <td>Industry-Related</td>\n",
       "      <td>Other Industry-Related</td>\n",
       "      <td>27.153824</td>\n",
       "    </tr>\n",
       "    <tr>\n",
       "      <th>2005</th>\n",
       "      <td>Commercial-Related</td>\n",
       "      <td>Wholesale and Retail Trade</td>\n",
       "      <td>2109.800000</td>\n",
       "    </tr>\n",
       "    <tr>\n",
       "      <th>...</th>\n",
       "      <td>...</td>\n",
       "      <td>...</td>\n",
       "      <td>...</td>\n",
       "    </tr>\n",
       "    <tr>\n",
       "      <th>2020</th>\n",
       "      <td>Commercial-Related</td>\n",
       "      <td>Professional, Scientific</td>\n",
       "      <td>448.195719</td>\n",
       "    </tr>\n",
       "    <tr>\n",
       "      <th>2020</th>\n",
       "      <td>Commercial-Related</td>\n",
       "      <td>Other Commercial-Related</td>\n",
       "      <td>2558.787853</td>\n",
       "    </tr>\n",
       "    <tr>\n",
       "      <th>2020</th>\n",
       "      <td>Transport-Related</td>\n",
       "      <td>Transport-Related</td>\n",
       "      <td>1608.405576</td>\n",
       "    </tr>\n",
       "    <tr>\n",
       "      <th>2020</th>\n",
       "      <td>Households</td>\n",
       "      <td>Households</td>\n",
       "      <td>4861.229678</td>\n",
       "    </tr>\n",
       "    <tr>\n",
       "      <th>2020</th>\n",
       "      <td>Others</td>\n",
       "      <td>Others</td>\n",
       "      <td>129.865103</td>\n",
       "    </tr>\n",
       "  </tbody>\n",
       "</table>\n",
       "<p>224 rows × 3 columns</p>\n",
       "</div>"
      ],
      "text/plain": [
       "                  sector                   subsector  \\\n",
       "year                                                   \n",
       "2005    Industry-Related               Manufacturing   \n",
       "2005    Industry-Related                Construction   \n",
       "2005    Industry-Related                   Utilities   \n",
       "2005    Industry-Related      Other Industry-Related   \n",
       "2005  Commercial-Related  Wholesale and Retail Trade   \n",
       "...                  ...                         ...   \n",
       "2020  Commercial-Related    Professional, Scientific   \n",
       "2020  Commercial-Related    Other Commercial-Related   \n",
       "2020   Transport-Related           Transport-Related   \n",
       "2020          Households                  Households   \n",
       "2020              Others                      Others   \n",
       "\n",
       "      electricity_consumption_gwh  \n",
       "year                               \n",
       "2005                 13836.130000  \n",
       "2005                   234.779777  \n",
       "2005                   410.975073  \n",
       "2005                    27.153824  \n",
       "2005                  2109.800000  \n",
       "...                           ...  \n",
       "2020                   448.195719  \n",
       "2020                  2558.787853  \n",
       "2020                  1608.405576  \n",
       "2020                  4861.229678  \n",
       "2020                   129.865103  \n",
       "\n",
       "[224 rows x 3 columns]"
      ]
     },
     "execution_count": 19,
     "metadata": {},
     "output_type": "execute_result"
    }
   ],
   "source": [
    "electricity.set_index('year', inplace=True)\n",
    "electricity"
   ]
  },
  {
   "cell_type": "markdown",
   "metadata": {},
   "source": [
    "1. Clean the `sunshine` data."
   ]
  },
  {
   "cell_type": "code",
   "execution_count": 20,
   "metadata": {},
   "outputs": [
    {
     "data": {
      "text/html": [
       "<div>\n",
       "<style scoped>\n",
       "    .dataframe tbody tr th:only-of-type {\n",
       "        vertical-align: middle;\n",
       "    }\n",
       "\n",
       "    .dataframe tbody tr th {\n",
       "        vertical-align: top;\n",
       "    }\n",
       "\n",
       "    .dataframe thead th {\n",
       "        text-align: right;\n",
       "    }\n",
       "</style>\n",
       "<table border=\"1\" class=\"dataframe\">\n",
       "  <thead>\n",
       "    <tr style=\"text-align: right;\">\n",
       "      <th></th>\n",
       "      <th>month</th>\n",
       "      <th>mean_sunshine_hrs</th>\n",
       "      <th>year</th>\n",
       "    </tr>\n",
       "  </thead>\n",
       "  <tbody>\n",
       "    <tr>\n",
       "      <th>0</th>\n",
       "      <td>1982-01</td>\n",
       "      <td>5.6</td>\n",
       "      <td>1982</td>\n",
       "    </tr>\n",
       "    <tr>\n",
       "      <th>1</th>\n",
       "      <td>1982-02</td>\n",
       "      <td>7.6</td>\n",
       "      <td>1982</td>\n",
       "    </tr>\n",
       "    <tr>\n",
       "      <th>2</th>\n",
       "      <td>1982-03</td>\n",
       "      <td>5.1</td>\n",
       "      <td>1982</td>\n",
       "    </tr>\n",
       "    <tr>\n",
       "      <th>3</th>\n",
       "      <td>1982-04</td>\n",
       "      <td>4.7</td>\n",
       "      <td>1982</td>\n",
       "    </tr>\n",
       "    <tr>\n",
       "      <th>4</th>\n",
       "      <td>1982-05</td>\n",
       "      <td>5.8</td>\n",
       "      <td>1982</td>\n",
       "    </tr>\n",
       "  </tbody>\n",
       "</table>\n",
       "</div>"
      ],
      "text/plain": [
       "     month  mean_sunshine_hrs  year\n",
       "0  1982-01                5.6  1982\n",
       "1  1982-02                7.6  1982\n",
       "2  1982-03                5.1  1982\n",
       "3  1982-04                4.7  1982\n",
       "4  1982-05                5.8  1982"
      ]
     },
     "execution_count": 20,
     "metadata": {},
     "output_type": "execute_result"
    }
   ],
   "source": [
    "#Extract year from string format date\n",
    "sunshine['year'] = pd.DatetimeIndex(sunshine['month']).year\n",
    "sunshine.head()"
   ]
  },
  {
   "cell_type": "code",
   "execution_count": 21,
   "metadata": {},
   "outputs": [
    {
     "data": {
      "text/html": [
       "<div>\n",
       "<style scoped>\n",
       "    .dataframe tbody tr th:only-of-type {\n",
       "        vertical-align: middle;\n",
       "    }\n",
       "\n",
       "    .dataframe tbody tr th {\n",
       "        vertical-align: top;\n",
       "    }\n",
       "\n",
       "    .dataframe thead th {\n",
       "        text-align: right;\n",
       "    }\n",
       "</style>\n",
       "<table border=\"1\" class=\"dataframe\">\n",
       "  <thead>\n",
       "    <tr style=\"text-align: right;\">\n",
       "      <th></th>\n",
       "      <th>mean_sunshine_hrs</th>\n",
       "    </tr>\n",
       "    <tr>\n",
       "      <th>year</th>\n",
       "      <th></th>\n",
       "    </tr>\n",
       "  </thead>\n",
       "  <tbody>\n",
       "    <tr>\n",
       "      <th>1982</th>\n",
       "      <td>5.750000</td>\n",
       "    </tr>\n",
       "    <tr>\n",
       "      <th>1983</th>\n",
       "      <td>5.625000</td>\n",
       "    </tr>\n",
       "    <tr>\n",
       "      <th>1984</th>\n",
       "      <td>5.083333</td>\n",
       "    </tr>\n",
       "    <tr>\n",
       "      <th>1985</th>\n",
       "      <td>5.591667</td>\n",
       "    </tr>\n",
       "    <tr>\n",
       "      <th>1986</th>\n",
       "      <td>5.525000</td>\n",
       "    </tr>\n",
       "  </tbody>\n",
       "</table>\n",
       "</div>"
      ],
      "text/plain": [
       "      mean_sunshine_hrs\n",
       "year                   \n",
       "1982           5.750000\n",
       "1983           5.625000\n",
       "1984           5.083333\n",
       "1985           5.591667\n",
       "1986           5.525000"
      ]
     },
     "execution_count": 21,
     "metadata": {},
     "output_type": "execute_result"
    }
   ],
   "source": [
    "yearly_sunshine = sunshine.groupby(\"year\").mean()\n",
    "yearly_sunshine.head()"
   ]
  },
  {
   "cell_type": "code",
   "execution_count": 22,
   "metadata": {},
   "outputs": [
    {
     "data": {
      "text/html": [
       "<div>\n",
       "<style scoped>\n",
       "    .dataframe tbody tr th:only-of-type {\n",
       "        vertical-align: middle;\n",
       "    }\n",
       "\n",
       "    .dataframe tbody tr th {\n",
       "        vertical-align: top;\n",
       "    }\n",
       "\n",
       "    .dataframe thead th {\n",
       "        text-align: right;\n",
       "    }\n",
       "</style>\n",
       "<table border=\"1\" class=\"dataframe\">\n",
       "  <thead>\n",
       "    <tr style=\"text-align: right;\">\n",
       "      <th></th>\n",
       "      <th>mean_sunshine_hrs</th>\n",
       "    </tr>\n",
       "    <tr>\n",
       "      <th>year</th>\n",
       "      <th></th>\n",
       "    </tr>\n",
       "  </thead>\n",
       "  <tbody>\n",
       "    <tr>\n",
       "      <th>2005</th>\n",
       "      <td>6.066667</td>\n",
       "    </tr>\n",
       "    <tr>\n",
       "      <th>2006</th>\n",
       "      <td>5.633333</td>\n",
       "    </tr>\n",
       "    <tr>\n",
       "      <th>2007</th>\n",
       "      <td>5.316667</td>\n",
       "    </tr>\n",
       "    <tr>\n",
       "      <th>2008</th>\n",
       "      <td>5.241667</td>\n",
       "    </tr>\n",
       "    <tr>\n",
       "      <th>2009</th>\n",
       "      <td>5.950000</td>\n",
       "    </tr>\n",
       "  </tbody>\n",
       "</table>\n",
       "</div>"
      ],
      "text/plain": [
       "      mean_sunshine_hrs\n",
       "year                   \n",
       "2005           6.066667\n",
       "2006           5.633333\n",
       "2007           5.316667\n",
       "2008           5.241667\n",
       "2009           5.950000"
      ]
     },
     "execution_count": 22,
     "metadata": {},
     "output_type": "execute_result"
    }
   ],
   "source": [
    "yearly_sunshine_from2005 = yearly_sunshine.iloc[23:]\n",
    "yearly_sunshine_from2005.head()"
   ]
  },
  {
   "cell_type": "markdown",
   "metadata": {},
   "source": [
    "2. Clean the `household` data."
   ]
  },
  {
   "cell_type": "code",
   "execution_count": 23,
   "metadata": {},
   "outputs": [
    {
     "data": {
      "text/html": [
       "<div>\n",
       "<style scoped>\n",
       "    .dataframe tbody tr th:only-of-type {\n",
       "        vertical-align: middle;\n",
       "    }\n",
       "\n",
       "    .dataframe tbody tr th {\n",
       "        vertical-align: top;\n",
       "    }\n",
       "\n",
       "    .dataframe thead th {\n",
       "        text-align: right;\n",
       "    }\n",
       "</style>\n",
       "<table border=\"1\" class=\"dataframe\">\n",
       "  <thead>\n",
       "    <tr style=\"text-align: right;\">\n",
       "      <th></th>\n",
       "      <th>month</th>\n",
       "      <th>overall</th>\n",
       "      <th>public_housing</th>\n",
       "      <th>1-room_2-room</th>\n",
       "      <th>3-room</th>\n",
       "      <th>4-room</th>\n",
       "      <th>5-room_and_executive</th>\n",
       "      <th>private_housing</th>\n",
       "      <th>private_apts_and_condo</th>\n",
       "      <th>landed_properties</th>\n",
       "      <th>others</th>\n",
       "      <th>year</th>\n",
       "    </tr>\n",
       "  </thead>\n",
       "  <tbody>\n",
       "    <tr>\n",
       "      <th>0</th>\n",
       "      <td>2019-01</td>\n",
       "      <td>594.1</td>\n",
       "      <td>343.4</td>\n",
       "      <td>11.5</td>\n",
       "      <td>61.1</td>\n",
       "      <td>143.3</td>\n",
       "      <td>127.4</td>\n",
       "      <td>249.8</td>\n",
       "      <td>163.0</td>\n",
       "      <td>86.9</td>\n",
       "      <td>0.8</td>\n",
       "      <td>2019</td>\n",
       "    </tr>\n",
       "    <tr>\n",
       "      <th>1</th>\n",
       "      <td>2019-02</td>\n",
       "      <td>613.6</td>\n",
       "      <td>356.0</td>\n",
       "      <td>11.7</td>\n",
       "      <td>62.3</td>\n",
       "      <td>148.5</td>\n",
       "      <td>133.4</td>\n",
       "      <td>256.7</td>\n",
       "      <td>167.6</td>\n",
       "      <td>89.1</td>\n",
       "      <td>0.8</td>\n",
       "      <td>2019</td>\n",
       "    </tr>\n",
       "    <tr>\n",
       "      <th>2</th>\n",
       "      <td>2019-03</td>\n",
       "      <td>598.2</td>\n",
       "      <td>340.9</td>\n",
       "      <td>11.2</td>\n",
       "      <td>59.6</td>\n",
       "      <td>142.0</td>\n",
       "      <td>128.0</td>\n",
       "      <td>256.5</td>\n",
       "      <td>167.8</td>\n",
       "      <td>88.7</td>\n",
       "      <td>0.8</td>\n",
       "      <td>2019</td>\n",
       "    </tr>\n",
       "    <tr>\n",
       "      <th>3</th>\n",
       "      <td>2019-04</td>\n",
       "      <td>653.1</td>\n",
       "      <td>374.6</td>\n",
       "      <td>12.3</td>\n",
       "      <td>66.2</td>\n",
       "      <td>155.9</td>\n",
       "      <td>140.2</td>\n",
       "      <td>277.6</td>\n",
       "      <td>183.6</td>\n",
       "      <td>94.0</td>\n",
       "      <td>0.9</td>\n",
       "      <td>2019</td>\n",
       "    </tr>\n",
       "    <tr>\n",
       "      <th>4</th>\n",
       "      <td>2019-05</td>\n",
       "      <td>670.5</td>\n",
       "      <td>385.9</td>\n",
       "      <td>12.8</td>\n",
       "      <td>68.3</td>\n",
       "      <td>160.7</td>\n",
       "      <td>144.0</td>\n",
       "      <td>283.7</td>\n",
       "      <td>190.0</td>\n",
       "      <td>93.7</td>\n",
       "      <td>0.9</td>\n",
       "      <td>2019</td>\n",
       "    </tr>\n",
       "  </tbody>\n",
       "</table>\n",
       "</div>"
      ],
      "text/plain": [
       "     month  overall  public_housing  1-room_2-room  3-room  4-room  \\\n",
       "0  2019-01    594.1           343.4           11.5    61.1   143.3   \n",
       "1  2019-02    613.6           356.0           11.7    62.3   148.5   \n",
       "2  2019-03    598.2           340.9           11.2    59.6   142.0   \n",
       "3  2019-04    653.1           374.6           12.3    66.2   155.9   \n",
       "4  2019-05    670.5           385.9           12.8    68.3   160.7   \n",
       "\n",
       "   5-room_and_executive  private_housing  private_apts_and_condo  \\\n",
       "0                 127.4            249.8                   163.0   \n",
       "1                 133.4            256.7                   167.6   \n",
       "2                 128.0            256.5                   167.8   \n",
       "3                 140.2            277.6                   183.6   \n",
       "4                 144.0            283.7                   190.0   \n",
       "\n",
       "   landed_properties  others  year  \n",
       "0               86.9     0.8  2019  \n",
       "1               89.1     0.8  2019  \n",
       "2               88.7     0.8  2019  \n",
       "3               94.0     0.9  2019  \n",
       "4               93.7     0.9  2019  "
      ]
     },
     "execution_count": 23,
     "metadata": {},
     "output_type": "execute_result"
    }
   ],
   "source": [
    "#Extract year from string format date\n",
    "household['year'] = pd.DatetimeIndex(household['month']).year\n",
    "household.head()"
   ]
  },
  {
   "cell_type": "code",
   "execution_count": 24,
   "metadata": {},
   "outputs": [
    {
     "data": {
      "text/html": [
       "<div>\n",
       "<style scoped>\n",
       "    .dataframe tbody tr th:only-of-type {\n",
       "        vertical-align: middle;\n",
       "    }\n",
       "\n",
       "    .dataframe tbody tr th {\n",
       "        vertical-align: top;\n",
       "    }\n",
       "\n",
       "    .dataframe thead th {\n",
       "        text-align: right;\n",
       "    }\n",
       "</style>\n",
       "<table border=\"1\" class=\"dataframe\">\n",
       "  <thead>\n",
       "    <tr style=\"text-align: right;\">\n",
       "      <th></th>\n",
       "      <th>overall</th>\n",
       "      <th>public_housing</th>\n",
       "      <th>1-room_2-room</th>\n",
       "      <th>3-room</th>\n",
       "      <th>4-room</th>\n",
       "      <th>5-room_and_executive</th>\n",
       "      <th>private_housing</th>\n",
       "      <th>private_apts_and_condo</th>\n",
       "      <th>landed_properties</th>\n",
       "      <th>others</th>\n",
       "    </tr>\n",
       "    <tr>\n",
       "      <th>year</th>\n",
       "      <th></th>\n",
       "      <th></th>\n",
       "      <th></th>\n",
       "      <th></th>\n",
       "      <th></th>\n",
       "      <th></th>\n",
       "      <th></th>\n",
       "      <th></th>\n",
       "      <th></th>\n",
       "      <th></th>\n",
       "    </tr>\n",
       "  </thead>\n",
       "  <tbody>\n",
       "    <tr>\n",
       "      <th>2005</th>\n",
       "      <td>6092.5</td>\n",
       "      <td>3777.4</td>\n",
       "      <td>78.5</td>\n",
       "      <td>703.6</td>\n",
       "      <td>1498.1</td>\n",
       "      <td>1497.3</td>\n",
       "      <td>2303.2</td>\n",
       "      <td>1349.6</td>\n",
       "      <td>953.6</td>\n",
       "      <td>12.1</td>\n",
       "    </tr>\n",
       "    <tr>\n",
       "      <th>2006</th>\n",
       "      <td>6109.0</td>\n",
       "      <td>3747.0</td>\n",
       "      <td>70.7</td>\n",
       "      <td>690.1</td>\n",
       "      <td>1486.1</td>\n",
       "      <td>1499.8</td>\n",
       "      <td>2350.2</td>\n",
       "      <td>1396.0</td>\n",
       "      <td>954.3</td>\n",
       "      <td>12.2</td>\n",
       "    </tr>\n",
       "    <tr>\n",
       "      <th>2007</th>\n",
       "      <td>6163.8</td>\n",
       "      <td>3767.5</td>\n",
       "      <td>72.0</td>\n",
       "      <td>695.1</td>\n",
       "      <td>1490.0</td>\n",
       "      <td>1510.4</td>\n",
       "      <td>2383.9</td>\n",
       "      <td>1422.8</td>\n",
       "      <td>960.8</td>\n",
       "      <td>12.5</td>\n",
       "    </tr>\n",
       "    <tr>\n",
       "      <th>2008</th>\n",
       "      <td>6094.0</td>\n",
       "      <td>3723.9</td>\n",
       "      <td>72.0</td>\n",
       "      <td>690.6</td>\n",
       "      <td>1475.4</td>\n",
       "      <td>1486.1</td>\n",
       "      <td>2357.6</td>\n",
       "      <td>1403.5</td>\n",
       "      <td>954.1</td>\n",
       "      <td>12.5</td>\n",
       "    </tr>\n",
       "    <tr>\n",
       "      <th>2009</th>\n",
       "      <td>6430.7</td>\n",
       "      <td>3902.4</td>\n",
       "      <td>76.5</td>\n",
       "      <td>722.8</td>\n",
       "      <td>1548.5</td>\n",
       "      <td>1554.5</td>\n",
       "      <td>2515.3</td>\n",
       "      <td>1508.1</td>\n",
       "      <td>1007.1</td>\n",
       "      <td>13.1</td>\n",
       "    </tr>\n",
       "  </tbody>\n",
       "</table>\n",
       "</div>"
      ],
      "text/plain": [
       "      overall  public_housing  1-room_2-room  3-room  4-room  \\\n",
       "year                                                           \n",
       "2005   6092.5          3777.4           78.5   703.6  1498.1   \n",
       "2006   6109.0          3747.0           70.7   690.1  1486.1   \n",
       "2007   6163.8          3767.5           72.0   695.1  1490.0   \n",
       "2008   6094.0          3723.9           72.0   690.6  1475.4   \n",
       "2009   6430.7          3902.4           76.5   722.8  1548.5   \n",
       "\n",
       "      5-room_and_executive  private_housing  private_apts_and_condo  \\\n",
       "year                                                                  \n",
       "2005                1497.3           2303.2                  1349.6   \n",
       "2006                1499.8           2350.2                  1396.0   \n",
       "2007                1510.4           2383.9                  1422.8   \n",
       "2008                1486.1           2357.6                  1403.5   \n",
       "2009                1554.5           2515.3                  1508.1   \n",
       "\n",
       "      landed_properties  others  \n",
       "year                             \n",
       "2005              953.6    12.1  \n",
       "2006              954.3    12.2  \n",
       "2007              960.8    12.5  \n",
       "2008              954.1    12.5  \n",
       "2009             1007.1    13.1  "
      ]
     },
     "execution_count": 24,
     "metadata": {},
     "output_type": "execute_result"
    }
   ],
   "source": [
    "yearly_household = household.groupby(\"year\").sum()\n",
    "yearly_household.head()"
   ]
  },
  {
   "cell_type": "code",
   "execution_count": 25,
   "metadata": {},
   "outputs": [
    {
     "name": "stdout",
     "output_type": "stream",
     "text": [
      "<class 'pandas.core.frame.DataFrame'>\n",
      "Int64Index: 16 entries, 2005 to 2020\n",
      "Data columns (total 10 columns):\n",
      " #   Column                  Non-Null Count  Dtype  \n",
      "---  ------                  --------------  -----  \n",
      " 0   overall                 16 non-null     float64\n",
      " 1   public_housing          16 non-null     float64\n",
      " 2   1-room_2-room           16 non-null     float64\n",
      " 3   3-room                  16 non-null     float64\n",
      " 4   4-room                  16 non-null     float64\n",
      " 5   5-room_and_executive    16 non-null     float64\n",
      " 6   private_housing         16 non-null     float64\n",
      " 7   private_apts_and_condo  16 non-null     float64\n",
      " 8   landed_properties       16 non-null     float64\n",
      " 9   others                  16 non-null     float64\n",
      "dtypes: float64(10)\n",
      "memory usage: 1.4 KB\n"
     ]
    }
   ],
   "source": [
    "yearly_household.info()"
   ]
  },
  {
   "cell_type": "markdown",
   "metadata": {},
   "source": [
    "### 3.3. Combine the data\n",
    "[top](#Contents)"
   ]
  },
  {
   "cell_type": "code",
   "execution_count": 26,
   "metadata": {},
   "outputs": [
    {
     "data": {
      "text/html": [
       "<div>\n",
       "<style scoped>\n",
       "    .dataframe tbody tr th:only-of-type {\n",
       "        vertical-align: middle;\n",
       "    }\n",
       "\n",
       "    .dataframe tbody tr th {\n",
       "        vertical-align: top;\n",
       "    }\n",
       "\n",
       "    .dataframe thead th {\n",
       "        text-align: right;\n",
       "    }\n",
       "</style>\n",
       "<table border=\"1\" class=\"dataframe\">\n",
       "  <thead>\n",
       "    <tr style=\"text-align: right;\">\n",
       "      <th></th>\n",
       "      <th>sector</th>\n",
       "      <th>subsector</th>\n",
       "      <th>electricity_consumption_gwh</th>\n",
       "    </tr>\n",
       "    <tr>\n",
       "      <th>year</th>\n",
       "      <th></th>\n",
       "      <th></th>\n",
       "      <th></th>\n",
       "    </tr>\n",
       "  </thead>\n",
       "  <tbody>\n",
       "    <tr>\n",
       "      <th>2005</th>\n",
       "      <td>Industry-Related</td>\n",
       "      <td>Manufacturing</td>\n",
       "      <td>13836.130000</td>\n",
       "    </tr>\n",
       "    <tr>\n",
       "      <th>2005</th>\n",
       "      <td>Industry-Related</td>\n",
       "      <td>Construction</td>\n",
       "      <td>234.779777</td>\n",
       "    </tr>\n",
       "    <tr>\n",
       "      <th>2005</th>\n",
       "      <td>Industry-Related</td>\n",
       "      <td>Utilities</td>\n",
       "      <td>410.975073</td>\n",
       "    </tr>\n",
       "    <tr>\n",
       "      <th>2005</th>\n",
       "      <td>Industry-Related</td>\n",
       "      <td>Other Industry-Related</td>\n",
       "      <td>27.153824</td>\n",
       "    </tr>\n",
       "    <tr>\n",
       "      <th>2005</th>\n",
       "      <td>Commercial-Related</td>\n",
       "      <td>Wholesale and Retail Trade</td>\n",
       "      <td>2109.800000</td>\n",
       "    </tr>\n",
       "    <tr>\n",
       "      <th>...</th>\n",
       "      <td>...</td>\n",
       "      <td>...</td>\n",
       "      <td>...</td>\n",
       "    </tr>\n",
       "    <tr>\n",
       "      <th>2020</th>\n",
       "      <td>Commercial-Related</td>\n",
       "      <td>Professional, Scientific</td>\n",
       "      <td>448.195719</td>\n",
       "    </tr>\n",
       "    <tr>\n",
       "      <th>2020</th>\n",
       "      <td>Commercial-Related</td>\n",
       "      <td>Other Commercial-Related</td>\n",
       "      <td>2558.787853</td>\n",
       "    </tr>\n",
       "    <tr>\n",
       "      <th>2020</th>\n",
       "      <td>Transport-Related</td>\n",
       "      <td>Transport-Related</td>\n",
       "      <td>1608.405576</td>\n",
       "    </tr>\n",
       "    <tr>\n",
       "      <th>2020</th>\n",
       "      <td>Households</td>\n",
       "      <td>Households</td>\n",
       "      <td>4861.229678</td>\n",
       "    </tr>\n",
       "    <tr>\n",
       "      <th>2020</th>\n",
       "      <td>Others</td>\n",
       "      <td>Others</td>\n",
       "      <td>129.865103</td>\n",
       "    </tr>\n",
       "  </tbody>\n",
       "</table>\n",
       "<p>224 rows × 3 columns</p>\n",
       "</div>"
      ],
      "text/plain": [
       "                  sector                   subsector  \\\n",
       "year                                                   \n",
       "2005    Industry-Related               Manufacturing   \n",
       "2005    Industry-Related                Construction   \n",
       "2005    Industry-Related                   Utilities   \n",
       "2005    Industry-Related      Other Industry-Related   \n",
       "2005  Commercial-Related  Wholesale and Retail Trade   \n",
       "...                  ...                         ...   \n",
       "2020  Commercial-Related    Professional, Scientific   \n",
       "2020  Commercial-Related    Other Commercial-Related   \n",
       "2020   Transport-Related           Transport-Related   \n",
       "2020          Households                  Households   \n",
       "2020              Others                      Others   \n",
       "\n",
       "      electricity_consumption_gwh  \n",
       "year                               \n",
       "2005                 13836.130000  \n",
       "2005                   234.779777  \n",
       "2005                   410.975073  \n",
       "2005                    27.153824  \n",
       "2005                  2109.800000  \n",
       "...                           ...  \n",
       "2020                   448.195719  \n",
       "2020                  2558.787853  \n",
       "2020                  1608.405576  \n",
       "2020                  4861.229678  \n",
       "2020                   129.865103  \n",
       "\n",
       "[224 rows x 3 columns]"
      ]
     },
     "execution_count": 26,
     "metadata": {},
     "output_type": "execute_result"
    }
   ],
   "source": [
    "electricity"
   ]
  },
  {
   "cell_type": "code",
   "execution_count": 27,
   "metadata": {},
   "outputs": [],
   "source": [
    "energy_final = pd.concat([electricity , yearly_sunshine_from2005 , yearly_household] , axis=1)"
   ]
  },
  {
   "cell_type": "code",
   "execution_count": 28,
   "metadata": {},
   "outputs": [
    {
     "data": {
      "text/html": [
       "<div>\n",
       "<style scoped>\n",
       "    .dataframe tbody tr th:only-of-type {\n",
       "        vertical-align: middle;\n",
       "    }\n",
       "\n",
       "    .dataframe tbody tr th {\n",
       "        vertical-align: top;\n",
       "    }\n",
       "\n",
       "    .dataframe thead th {\n",
       "        text-align: right;\n",
       "    }\n",
       "</style>\n",
       "<table border=\"1\" class=\"dataframe\">\n",
       "  <thead>\n",
       "    <tr style=\"text-align: right;\">\n",
       "      <th></th>\n",
       "      <th>sector</th>\n",
       "      <th>subsector</th>\n",
       "      <th>electricity_consumption_gwh</th>\n",
       "      <th>mean_sunshine_hrs</th>\n",
       "      <th>overall</th>\n",
       "      <th>public_housing</th>\n",
       "      <th>1-room_2-room</th>\n",
       "      <th>3-room</th>\n",
       "      <th>4-room</th>\n",
       "      <th>5-room_and_executive</th>\n",
       "      <th>private_housing</th>\n",
       "      <th>private_apts_and_condo</th>\n",
       "      <th>landed_properties</th>\n",
       "      <th>others</th>\n",
       "    </tr>\n",
       "    <tr>\n",
       "      <th>year</th>\n",
       "      <th></th>\n",
       "      <th></th>\n",
       "      <th></th>\n",
       "      <th></th>\n",
       "      <th></th>\n",
       "      <th></th>\n",
       "      <th></th>\n",
       "      <th></th>\n",
       "      <th></th>\n",
       "      <th></th>\n",
       "      <th></th>\n",
       "      <th></th>\n",
       "      <th></th>\n",
       "      <th></th>\n",
       "    </tr>\n",
       "  </thead>\n",
       "  <tbody>\n",
       "    <tr>\n",
       "      <th>2005</th>\n",
       "      <td>Industry-Related</td>\n",
       "      <td>Manufacturing</td>\n",
       "      <td>13836.130000</td>\n",
       "      <td>6.066667</td>\n",
       "      <td>6092.5</td>\n",
       "      <td>3777.4</td>\n",
       "      <td>78.5</td>\n",
       "      <td>703.6</td>\n",
       "      <td>1498.1</td>\n",
       "      <td>1497.3</td>\n",
       "      <td>2303.2</td>\n",
       "      <td>1349.6</td>\n",
       "      <td>953.6</td>\n",
       "      <td>12.1</td>\n",
       "    </tr>\n",
       "    <tr>\n",
       "      <th>2005</th>\n",
       "      <td>Industry-Related</td>\n",
       "      <td>Construction</td>\n",
       "      <td>234.779777</td>\n",
       "      <td>6.066667</td>\n",
       "      <td>6092.5</td>\n",
       "      <td>3777.4</td>\n",
       "      <td>78.5</td>\n",
       "      <td>703.6</td>\n",
       "      <td>1498.1</td>\n",
       "      <td>1497.3</td>\n",
       "      <td>2303.2</td>\n",
       "      <td>1349.6</td>\n",
       "      <td>953.6</td>\n",
       "      <td>12.1</td>\n",
       "    </tr>\n",
       "    <tr>\n",
       "      <th>2005</th>\n",
       "      <td>Industry-Related</td>\n",
       "      <td>Utilities</td>\n",
       "      <td>410.975073</td>\n",
       "      <td>6.066667</td>\n",
       "      <td>6092.5</td>\n",
       "      <td>3777.4</td>\n",
       "      <td>78.5</td>\n",
       "      <td>703.6</td>\n",
       "      <td>1498.1</td>\n",
       "      <td>1497.3</td>\n",
       "      <td>2303.2</td>\n",
       "      <td>1349.6</td>\n",
       "      <td>953.6</td>\n",
       "      <td>12.1</td>\n",
       "    </tr>\n",
       "    <tr>\n",
       "      <th>2005</th>\n",
       "      <td>Industry-Related</td>\n",
       "      <td>Other Industry-Related</td>\n",
       "      <td>27.153824</td>\n",
       "      <td>6.066667</td>\n",
       "      <td>6092.5</td>\n",
       "      <td>3777.4</td>\n",
       "      <td>78.5</td>\n",
       "      <td>703.6</td>\n",
       "      <td>1498.1</td>\n",
       "      <td>1497.3</td>\n",
       "      <td>2303.2</td>\n",
       "      <td>1349.6</td>\n",
       "      <td>953.6</td>\n",
       "      <td>12.1</td>\n",
       "    </tr>\n",
       "    <tr>\n",
       "      <th>2005</th>\n",
       "      <td>Commercial-Related</td>\n",
       "      <td>Wholesale and Retail Trade</td>\n",
       "      <td>2109.800000</td>\n",
       "      <td>6.066667</td>\n",
       "      <td>6092.5</td>\n",
       "      <td>3777.4</td>\n",
       "      <td>78.5</td>\n",
       "      <td>703.6</td>\n",
       "      <td>1498.1</td>\n",
       "      <td>1497.3</td>\n",
       "      <td>2303.2</td>\n",
       "      <td>1349.6</td>\n",
       "      <td>953.6</td>\n",
       "      <td>12.1</td>\n",
       "    </tr>\n",
       "    <tr>\n",
       "      <th>2005</th>\n",
       "      <td>Commercial-Related</td>\n",
       "      <td>Accomodation and Food Services</td>\n",
       "      <td>1031.330000</td>\n",
       "      <td>6.066667</td>\n",
       "      <td>6092.5</td>\n",
       "      <td>3777.4</td>\n",
       "      <td>78.5</td>\n",
       "      <td>703.6</td>\n",
       "      <td>1498.1</td>\n",
       "      <td>1497.3</td>\n",
       "      <td>2303.2</td>\n",
       "      <td>1349.6</td>\n",
       "      <td>953.6</td>\n",
       "      <td>12.1</td>\n",
       "    </tr>\n",
       "    <tr>\n",
       "      <th>2005</th>\n",
       "      <td>Commercial-Related</td>\n",
       "      <td>Information and Communications</td>\n",
       "      <td>667.191619</td>\n",
       "      <td>6.066667</td>\n",
       "      <td>6092.5</td>\n",
       "      <td>3777.4</td>\n",
       "      <td>78.5</td>\n",
       "      <td>703.6</td>\n",
       "      <td>1498.1</td>\n",
       "      <td>1497.3</td>\n",
       "      <td>2303.2</td>\n",
       "      <td>1349.6</td>\n",
       "      <td>953.6</td>\n",
       "      <td>12.1</td>\n",
       "    </tr>\n",
       "    <tr>\n",
       "      <th>2005</th>\n",
       "      <td>Commercial-Related</td>\n",
       "      <td>Financial and Insurance Activities</td>\n",
       "      <td>1291.940000</td>\n",
       "      <td>6.066667</td>\n",
       "      <td>6092.5</td>\n",
       "      <td>3777.4</td>\n",
       "      <td>78.5</td>\n",
       "      <td>703.6</td>\n",
       "      <td>1498.1</td>\n",
       "      <td>1497.3</td>\n",
       "      <td>2303.2</td>\n",
       "      <td>1349.6</td>\n",
       "      <td>953.6</td>\n",
       "      <td>12.1</td>\n",
       "    </tr>\n",
       "    <tr>\n",
       "      <th>2005</th>\n",
       "      <td>Commercial-Related</td>\n",
       "      <td>Real Estate Activities</td>\n",
       "      <td>3712.420000</td>\n",
       "      <td>6.066667</td>\n",
       "      <td>6092.5</td>\n",
       "      <td>3777.4</td>\n",
       "      <td>78.5</td>\n",
       "      <td>703.6</td>\n",
       "      <td>1498.1</td>\n",
       "      <td>1497.3</td>\n",
       "      <td>2303.2</td>\n",
       "      <td>1349.6</td>\n",
       "      <td>953.6</td>\n",
       "      <td>12.1</td>\n",
       "    </tr>\n",
       "    <tr>\n",
       "      <th>2005</th>\n",
       "      <td>Commercial-Related</td>\n",
       "      <td>Professional, Scientific</td>\n",
       "      <td>650.226630</td>\n",
       "      <td>6.066667</td>\n",
       "      <td>6092.5</td>\n",
       "      <td>3777.4</td>\n",
       "      <td>78.5</td>\n",
       "      <td>703.6</td>\n",
       "      <td>1498.1</td>\n",
       "      <td>1497.3</td>\n",
       "      <td>2303.2</td>\n",
       "      <td>1349.6</td>\n",
       "      <td>953.6</td>\n",
       "      <td>12.1</td>\n",
       "    </tr>\n",
       "    <tr>\n",
       "      <th>2005</th>\n",
       "      <td>Commercial-Related</td>\n",
       "      <td>Other Commercial-Related</td>\n",
       "      <td>3612.700000</td>\n",
       "      <td>6.066667</td>\n",
       "      <td>6092.5</td>\n",
       "      <td>3777.4</td>\n",
       "      <td>78.5</td>\n",
       "      <td>703.6</td>\n",
       "      <td>1498.1</td>\n",
       "      <td>1497.3</td>\n",
       "      <td>2303.2</td>\n",
       "      <td>1349.6</td>\n",
       "      <td>953.6</td>\n",
       "      <td>12.1</td>\n",
       "    </tr>\n",
       "    <tr>\n",
       "      <th>2005</th>\n",
       "      <td>Transport-Related</td>\n",
       "      <td>Transport-Related</td>\n",
       "      <td>1200.010000</td>\n",
       "      <td>6.066667</td>\n",
       "      <td>6092.5</td>\n",
       "      <td>3777.4</td>\n",
       "      <td>78.5</td>\n",
       "      <td>703.6</td>\n",
       "      <td>1498.1</td>\n",
       "      <td>1497.3</td>\n",
       "      <td>2303.2</td>\n",
       "      <td>1349.6</td>\n",
       "      <td>953.6</td>\n",
       "      <td>12.1</td>\n",
       "    </tr>\n",
       "    <tr>\n",
       "      <th>2005</th>\n",
       "      <td>Households</td>\n",
       "      <td>Households</td>\n",
       "      <td>6092.460000</td>\n",
       "      <td>6.066667</td>\n",
       "      <td>6092.5</td>\n",
       "      <td>3777.4</td>\n",
       "      <td>78.5</td>\n",
       "      <td>703.6</td>\n",
       "      <td>1498.1</td>\n",
       "      <td>1497.3</td>\n",
       "      <td>2303.2</td>\n",
       "      <td>1349.6</td>\n",
       "      <td>953.6</td>\n",
       "      <td>12.1</td>\n",
       "    </tr>\n",
       "    <tr>\n",
       "      <th>2005</th>\n",
       "      <td>Others</td>\n",
       "      <td>Others</td>\n",
       "      <td>612.139760</td>\n",
       "      <td>6.066667</td>\n",
       "      <td>6092.5</td>\n",
       "      <td>3777.4</td>\n",
       "      <td>78.5</td>\n",
       "      <td>703.6</td>\n",
       "      <td>1498.1</td>\n",
       "      <td>1497.3</td>\n",
       "      <td>2303.2</td>\n",
       "      <td>1349.6</td>\n",
       "      <td>953.6</td>\n",
       "      <td>12.1</td>\n",
       "    </tr>\n",
       "    <tr>\n",
       "      <th>2006</th>\n",
       "      <td>Industry-Related</td>\n",
       "      <td>Manufacturing</td>\n",
       "      <td>14397.160000</td>\n",
       "      <td>5.633333</td>\n",
       "      <td>6109.0</td>\n",
       "      <td>3747.0</td>\n",
       "      <td>70.7</td>\n",
       "      <td>690.1</td>\n",
       "      <td>1486.1</td>\n",
       "      <td>1499.8</td>\n",
       "      <td>2350.2</td>\n",
       "      <td>1396.0</td>\n",
       "      <td>954.3</td>\n",
       "      <td>12.2</td>\n",
       "    </tr>\n",
       "    <tr>\n",
       "      <th>2006</th>\n",
       "      <td>Industry-Related</td>\n",
       "      <td>Construction</td>\n",
       "      <td>250.523342</td>\n",
       "      <td>5.633333</td>\n",
       "      <td>6109.0</td>\n",
       "      <td>3747.0</td>\n",
       "      <td>70.7</td>\n",
       "      <td>690.1</td>\n",
       "      <td>1486.1</td>\n",
       "      <td>1499.8</td>\n",
       "      <td>2350.2</td>\n",
       "      <td>1396.0</td>\n",
       "      <td>954.3</td>\n",
       "      <td>12.2</td>\n",
       "    </tr>\n",
       "    <tr>\n",
       "      <th>2006</th>\n",
       "      <td>Industry-Related</td>\n",
       "      <td>Utilities</td>\n",
       "      <td>441.814820</td>\n",
       "      <td>5.633333</td>\n",
       "      <td>6109.0</td>\n",
       "      <td>3747.0</td>\n",
       "      <td>70.7</td>\n",
       "      <td>690.1</td>\n",
       "      <td>1486.1</td>\n",
       "      <td>1499.8</td>\n",
       "      <td>2350.2</td>\n",
       "      <td>1396.0</td>\n",
       "      <td>954.3</td>\n",
       "      <td>12.2</td>\n",
       "    </tr>\n",
       "    <tr>\n",
       "      <th>2006</th>\n",
       "      <td>Industry-Related</td>\n",
       "      <td>Other Industry-Related</td>\n",
       "      <td>25.878581</td>\n",
       "      <td>5.633333</td>\n",
       "      <td>6109.0</td>\n",
       "      <td>3747.0</td>\n",
       "      <td>70.7</td>\n",
       "      <td>690.1</td>\n",
       "      <td>1486.1</td>\n",
       "      <td>1499.8</td>\n",
       "      <td>2350.2</td>\n",
       "      <td>1396.0</td>\n",
       "      <td>954.3</td>\n",
       "      <td>12.2</td>\n",
       "    </tr>\n",
       "    <tr>\n",
       "      <th>2006</th>\n",
       "      <td>Commercial-Related</td>\n",
       "      <td>Wholesale and Retail Trade</td>\n",
       "      <td>1977.240000</td>\n",
       "      <td>5.633333</td>\n",
       "      <td>6109.0</td>\n",
       "      <td>3747.0</td>\n",
       "      <td>70.7</td>\n",
       "      <td>690.1</td>\n",
       "      <td>1486.1</td>\n",
       "      <td>1499.8</td>\n",
       "      <td>2350.2</td>\n",
       "      <td>1396.0</td>\n",
       "      <td>954.3</td>\n",
       "      <td>12.2</td>\n",
       "    </tr>\n",
       "    <tr>\n",
       "      <th>2006</th>\n",
       "      <td>Commercial-Related</td>\n",
       "      <td>Accomodation and Food Services</td>\n",
       "      <td>1087.050000</td>\n",
       "      <td>5.633333</td>\n",
       "      <td>6109.0</td>\n",
       "      <td>3747.0</td>\n",
       "      <td>70.7</td>\n",
       "      <td>690.1</td>\n",
       "      <td>1486.1</td>\n",
       "      <td>1499.8</td>\n",
       "      <td>2350.2</td>\n",
       "      <td>1396.0</td>\n",
       "      <td>954.3</td>\n",
       "      <td>12.2</td>\n",
       "    </tr>\n",
       "  </tbody>\n",
       "</table>\n",
       "</div>"
      ],
      "text/plain": [
       "                  sector                           subsector  \\\n",
       "year                                                           \n",
       "2005    Industry-Related                       Manufacturing   \n",
       "2005    Industry-Related                        Construction   \n",
       "2005    Industry-Related                           Utilities   \n",
       "2005    Industry-Related              Other Industry-Related   \n",
       "2005  Commercial-Related          Wholesale and Retail Trade   \n",
       "2005  Commercial-Related      Accomodation and Food Services   \n",
       "2005  Commercial-Related      Information and Communications   \n",
       "2005  Commercial-Related  Financial and Insurance Activities   \n",
       "2005  Commercial-Related              Real Estate Activities   \n",
       "2005  Commercial-Related            Professional, Scientific   \n",
       "2005  Commercial-Related            Other Commercial-Related   \n",
       "2005   Transport-Related                   Transport-Related   \n",
       "2005          Households                          Households   \n",
       "2005              Others                              Others   \n",
       "2006    Industry-Related                       Manufacturing   \n",
       "2006    Industry-Related                        Construction   \n",
       "2006    Industry-Related                           Utilities   \n",
       "2006    Industry-Related              Other Industry-Related   \n",
       "2006  Commercial-Related          Wholesale and Retail Trade   \n",
       "2006  Commercial-Related      Accomodation and Food Services   \n",
       "\n",
       "      electricity_consumption_gwh  mean_sunshine_hrs  overall  public_housing  \\\n",
       "year                                                                            \n",
       "2005                 13836.130000           6.066667   6092.5          3777.4   \n",
       "2005                   234.779777           6.066667   6092.5          3777.4   \n",
       "2005                   410.975073           6.066667   6092.5          3777.4   \n",
       "2005                    27.153824           6.066667   6092.5          3777.4   \n",
       "2005                  2109.800000           6.066667   6092.5          3777.4   \n",
       "2005                  1031.330000           6.066667   6092.5          3777.4   \n",
       "2005                   667.191619           6.066667   6092.5          3777.4   \n",
       "2005                  1291.940000           6.066667   6092.5          3777.4   \n",
       "2005                  3712.420000           6.066667   6092.5          3777.4   \n",
       "2005                   650.226630           6.066667   6092.5          3777.4   \n",
       "2005                  3612.700000           6.066667   6092.5          3777.4   \n",
       "2005                  1200.010000           6.066667   6092.5          3777.4   \n",
       "2005                  6092.460000           6.066667   6092.5          3777.4   \n",
       "2005                   612.139760           6.066667   6092.5          3777.4   \n",
       "2006                 14397.160000           5.633333   6109.0          3747.0   \n",
       "2006                   250.523342           5.633333   6109.0          3747.0   \n",
       "2006                   441.814820           5.633333   6109.0          3747.0   \n",
       "2006                    25.878581           5.633333   6109.0          3747.0   \n",
       "2006                  1977.240000           5.633333   6109.0          3747.0   \n",
       "2006                  1087.050000           5.633333   6109.0          3747.0   \n",
       "\n",
       "      1-room_2-room  3-room  4-room  5-room_and_executive  private_housing  \\\n",
       "year                                                                         \n",
       "2005           78.5   703.6  1498.1                1497.3           2303.2   \n",
       "2005           78.5   703.6  1498.1                1497.3           2303.2   \n",
       "2005           78.5   703.6  1498.1                1497.3           2303.2   \n",
       "2005           78.5   703.6  1498.1                1497.3           2303.2   \n",
       "2005           78.5   703.6  1498.1                1497.3           2303.2   \n",
       "2005           78.5   703.6  1498.1                1497.3           2303.2   \n",
       "2005           78.5   703.6  1498.1                1497.3           2303.2   \n",
       "2005           78.5   703.6  1498.1                1497.3           2303.2   \n",
       "2005           78.5   703.6  1498.1                1497.3           2303.2   \n",
       "2005           78.5   703.6  1498.1                1497.3           2303.2   \n",
       "2005           78.5   703.6  1498.1                1497.3           2303.2   \n",
       "2005           78.5   703.6  1498.1                1497.3           2303.2   \n",
       "2005           78.5   703.6  1498.1                1497.3           2303.2   \n",
       "2005           78.5   703.6  1498.1                1497.3           2303.2   \n",
       "2006           70.7   690.1  1486.1                1499.8           2350.2   \n",
       "2006           70.7   690.1  1486.1                1499.8           2350.2   \n",
       "2006           70.7   690.1  1486.1                1499.8           2350.2   \n",
       "2006           70.7   690.1  1486.1                1499.8           2350.2   \n",
       "2006           70.7   690.1  1486.1                1499.8           2350.2   \n",
       "2006           70.7   690.1  1486.1                1499.8           2350.2   \n",
       "\n",
       "      private_apts_and_condo  landed_properties  others  \n",
       "year                                                     \n",
       "2005                  1349.6              953.6    12.1  \n",
       "2005                  1349.6              953.6    12.1  \n",
       "2005                  1349.6              953.6    12.1  \n",
       "2005                  1349.6              953.6    12.1  \n",
       "2005                  1349.6              953.6    12.1  \n",
       "2005                  1349.6              953.6    12.1  \n",
       "2005                  1349.6              953.6    12.1  \n",
       "2005                  1349.6              953.6    12.1  \n",
       "2005                  1349.6              953.6    12.1  \n",
       "2005                  1349.6              953.6    12.1  \n",
       "2005                  1349.6              953.6    12.1  \n",
       "2005                  1349.6              953.6    12.1  \n",
       "2005                  1349.6              953.6    12.1  \n",
       "2005                  1349.6              953.6    12.1  \n",
       "2006                  1396.0              954.3    12.2  \n",
       "2006                  1396.0              954.3    12.2  \n",
       "2006                  1396.0              954.3    12.2  \n",
       "2006                  1396.0              954.3    12.2  \n",
       "2006                  1396.0              954.3    12.2  \n",
       "2006                  1396.0              954.3    12.2  "
      ]
     },
     "execution_count": 28,
     "metadata": {},
     "output_type": "execute_result"
    }
   ],
   "source": [
    "energy_final.head(20)"
   ]
  },
  {
   "cell_type": "code",
   "execution_count": 29,
   "metadata": {},
   "outputs": [
    {
     "data": {
      "text/plain": [
       "(224, 14)"
      ]
     },
     "execution_count": 29,
     "metadata": {},
     "output_type": "execute_result"
    }
   ],
   "source": [
    "energy_final.shape"
   ]
  },
  {
   "cell_type": "markdown",
   "metadata": {},
   "source": [
    "These are the data we have given:\n",
    "\n",
    "|Data Given|Duration|Frequency|\n",
    "|---|---|---|\n",
    "|Sources of energy|2005-2020|Yearly|\n",
    "|Peak electricity demand|2005-2020|Monthly|\n",
    "|Electicial consumption by sector|2005-2020|Yearly|\n",
    "|Mean daily sunshine|1982-2020|Monthly|\n",
    "|Household electricity consumption|2005-2020|Monthly|"
   ]
  },
  {
   "cell_type": "markdown",
   "metadata": {},
   "source": [
    "## 4. EDA\n",
    "[top](#Contents)"
   ]
  },
  {
   "cell_type": "markdown",
   "metadata": {},
   "source": [
    "### 4.1. Correlation of Sunshine\n",
    "[top](#Contents)"
   ]
  },
  {
   "cell_type": "code",
   "execution_count": 30,
   "metadata": {},
   "outputs": [
    {
     "data": {
      "text/plain": [
       "<AxesSubplot:>"
      ]
     },
     "execution_count": 30,
     "metadata": {},
     "output_type": "execute_result"
    },
    {
     "data": {
      "image/png": "[encoded data removed]",
      "text/plain": [
       "<Figure size 936x936 with 2 Axes>"
      ]
     },
     "metadata": {
      "needs_background": "light"
     },
     "output_type": "display_data"
    }
   ],
   "source": [
    "plt.figure(figsize=(13, 13))\n",
    "sns.heatmap(energy_final.corr() , cmap='icefire',mask=np.triu(energy_final.corr()),annot=True)"
   ]
  },
  {
   "cell_type": "code",
   "execution_count": 31,
   "metadata": {},
   "outputs": [],
   "source": [
    "sunshine = energy_final.corr()[['mean_sunshine_hrs']]"
   ]
  },
  {
   "cell_type": "code",
   "execution_count": 32,
   "metadata": {
    "scrolled": true
   },
   "outputs": [
    {
     "data": {
      "text/html": [
       "<div>\n",
       "<style scoped>\n",
       "    .dataframe tbody tr th:only-of-type {\n",
       "        vertical-align: middle;\n",
       "    }\n",
       "\n",
       "    .dataframe tbody tr th {\n",
       "        vertical-align: top;\n",
       "    }\n",
       "\n",
       "    .dataframe thead th {\n",
       "        text-align: right;\n",
       "    }\n",
       "</style>\n",
       "<table border=\"1\" class=\"dataframe\">\n",
       "  <thead>\n",
       "    <tr style=\"text-align: right;\">\n",
       "      <th></th>\n",
       "      <th>mean_sunshine_hrs</th>\n",
       "    </tr>\n",
       "  </thead>\n",
       "  <tbody>\n",
       "    <tr>\n",
       "      <th>others</th>\n",
       "      <td>-0.466852</td>\n",
       "    </tr>\n",
       "    <tr>\n",
       "      <th>electricity_consumption_gwh</th>\n",
       "      <td>0.026528</td>\n",
       "    </tr>\n",
       "    <tr>\n",
       "      <th>5-room_and_executive</th>\n",
       "      <td>0.069758</td>\n",
       "    </tr>\n",
       "    <tr>\n",
       "      <th>3-room</th>\n",
       "      <td>0.105045</td>\n",
       "    </tr>\n",
       "    <tr>\n",
       "      <th>landed_properties</th>\n",
       "      <td>0.117201</td>\n",
       "    </tr>\n",
       "    <tr>\n",
       "      <th>public_housing</th>\n",
       "      <td>0.229620</td>\n",
       "    </tr>\n",
       "    <tr>\n",
       "      <th>4-room</th>\n",
       "      <td>0.327838</td>\n",
       "    </tr>\n",
       "    <tr>\n",
       "      <th>overall</th>\n",
       "      <td>0.328694</td>\n",
       "    </tr>\n",
       "    <tr>\n",
       "      <th>private_housing</th>\n",
       "      <td>0.433902</td>\n",
       "    </tr>\n",
       "    <tr>\n",
       "      <th>private_apts_and_condo</th>\n",
       "      <td>0.511761</td>\n",
       "    </tr>\n",
       "    <tr>\n",
       "      <th>1-room_2-room</th>\n",
       "      <td>0.630227</td>\n",
       "    </tr>\n",
       "    <tr>\n",
       "      <th>mean_sunshine_hrs</th>\n",
       "      <td>1.000000</td>\n",
       "    </tr>\n",
       "  </tbody>\n",
       "</table>\n",
       "</div>"
      ],
      "text/plain": [
       "                             mean_sunshine_hrs\n",
       "others                               -0.466852\n",
       "electricity_consumption_gwh           0.026528\n",
       "5-room_and_executive                  0.069758\n",
       "3-room                                0.105045\n",
       "landed_properties                     0.117201\n",
       "public_housing                        0.229620\n",
       "4-room                                0.327838\n",
       "overall                               0.328694\n",
       "private_housing                       0.433902\n",
       "private_apts_and_condo                0.511761\n",
       "1-room_2-room                         0.630227\n",
       "mean_sunshine_hrs                     1.000000"
      ]
     },
     "execution_count": 32,
     "metadata": {},
     "output_type": "execute_result"
    }
   ],
   "source": [
    "sunshine.sort_values(by='mean_sunshine_hrs')"
   ]
  },
  {
   "cell_type": "code",
   "execution_count": 33,
   "metadata": {},
   "outputs": [
    {
     "data": {
      "image/png": "[encoded data removed]",
      "text/plain": [
       "<Figure size 1152x648 with 1 Axes>"
      ]
     },
     "metadata": {
      "needs_background": "light"
     },
     "output_type": "display_data"
    }
   ],
   "source": [
    "# Establish the size of the figure.\n",
    "plt.figure(figsize=(16, 9))\n",
    "\n",
    "# Create scatter plot of high prices versus volume.\n",
    "plt.scatter(energy_final['mean_sunshine_hrs'],\n",
    "            energy_final['1-room_2-room']);\n",
    "\n",
    "plt.title(\"Mean Sunshine Hours versus Energy Consumption for 1-Room & 2-Room HDB\" , fontsize=20)\n",
    "plt.ylabel(\"Energy Consumption for 1-Room & 2-Room HDB\", fontsize = 12)\n",
    "plt.xlabel(\"Mean Sunshine Hours\", fontsize = 12);"
   ]
  },
  {
   "cell_type": "markdown",
   "metadata": {},
   "source": [
    "#### Interpretation:\n",
    "\n",
    "The mean_sunshine_hrs has a higher correlation with 1-room_2-room, than other residential types. \n",
    "\n",
    "Before doing the correlation, i was thinking Energy Consumption should have a negative correlation with Sunshine Hours, as longer the sunlight should mean residents have a shorter duration on the electrical light. However, when i plot the correlation all the data, the result is different from my expectation, as both variables have positive correlation. (i.e. Longer the sunlight has longer electricity consumption.)\n",
    "\n",
    "I think that's because of the data we used, as we capture the \"bright\" sunshine hours for each day. \"Bright\" sunshine hours represent the total hours when the sunlight is stronger than a specified threshold, as opposed to just \"visible\" hours. \"Visible\" sunshine, for example, occurs around sunrise and sunset, but is not strong enough to excite the sensor. My expectation should apply only for \"visible\" sunshine, but not for this case."
   ]
  },
  {
   "cell_type": "markdown",
   "metadata": {},
   "source": [
    "### 4.2. Check the number of Sector\n",
    "[top](#Contents)"
   ]
  },
  {
   "cell_type": "code",
   "execution_count": 34,
   "metadata": {},
   "outputs": [
    {
     "data": {
      "text/plain": [
       "array(['Industry-Related', 'Commercial-Related', 'Transport-Related',\n",
       "       'Households', 'Others'], dtype=object)"
      ]
     },
     "execution_count": 34,
     "metadata": {},
     "output_type": "execute_result"
    }
   ],
   "source": [
    "energy_final['sector'].unique()"
   ]
  },
  {
   "cell_type": "code",
   "execution_count": 35,
   "metadata": {},
   "outputs": [
    {
     "data": {
      "image/png": "[encoded data removed]",
      "text/plain": [
       "<Figure size 864x576 with 1 Axes>"
      ]
     },
     "metadata": {
      "needs_background": "light"
     },
     "output_type": "display_data"
    }
   ],
   "source": [
    "plt.figure(figsize=(12, 8))\n",
    "\n",
    "sns.boxplot(x=energy_final['sector'], y=energy_final['electricity_consumption_gwh']);"
   ]
  },
  {
   "cell_type": "markdown",
   "metadata": {},
   "source": [
    "#### Interpretation:\n",
    "\n",
    "There are 5 different sectors in energy-consumption data:\n",
    "\n",
    "1. Industry-Related\n",
    "2. Commerical-Related\n",
    "3. Transport-Related\n",
    "4. Households\n",
    "5. Others"
   ]
  },
  {
   "cell_type": "markdown",
   "metadata": {},
   "source": [
    "### 4.3. Check the number of Subsector\n",
    "[top](#Contents)"
   ]
  },
  {
   "cell_type": "code",
   "execution_count": 36,
   "metadata": {},
   "outputs": [
    {
     "data": {
      "text/plain": [
       "Other Industry-Related    16\n",
       "Utilities                 16\n",
       "Manufacturing             16\n",
       "Construction              16\n",
       "Name: subsector, dtype: int64"
      ]
     },
     "execution_count": 36,
     "metadata": {},
     "output_type": "execute_result"
    }
   ],
   "source": [
    "energy_final[energy_final['sector'] =='Industry-Related']['subsector'].value_counts()"
   ]
  },
  {
   "cell_type": "code",
   "execution_count": 37,
   "metadata": {},
   "outputs": [
    {
     "data": {
      "text/plain": [
       "Professional, Scientific              16\n",
       "Other Commercial-Related              16\n",
       "Information and Communications        16\n",
       "Wholesale and Retail Trade            16\n",
       "Accomodation and Food Services        16\n",
       "Financial and Insurance Activities    16\n",
       "Real Estate Activities                16\n",
       "Name: subsector, dtype: int64"
      ]
     },
     "execution_count": 37,
     "metadata": {},
     "output_type": "execute_result"
    }
   ],
   "source": [
    "energy_final[energy_final['sector'] =='Commercial-Related']['subsector'].value_counts()"
   ]
  },
  {
   "cell_type": "code",
   "execution_count": 38,
   "metadata": {},
   "outputs": [
    {
     "data": {
      "text/plain": [
       "Transport-Related    16\n",
       "Name: subsector, dtype: int64"
      ]
     },
     "execution_count": 38,
     "metadata": {},
     "output_type": "execute_result"
    }
   ],
   "source": [
    "energy_final[energy_final['sector'] =='Transport-Related']['subsector'].value_counts()"
   ]
  },
  {
   "cell_type": "code",
   "execution_count": 39,
   "metadata": {},
   "outputs": [
    {
     "data": {
      "text/plain": [
       "Households    16\n",
       "Name: subsector, dtype: int64"
      ]
     },
     "execution_count": 39,
     "metadata": {},
     "output_type": "execute_result"
    }
   ],
   "source": [
    "energy_final[energy_final['sector'] =='Households']['subsector'].value_counts()"
   ]
  },
  {
   "cell_type": "code",
   "execution_count": 40,
   "metadata": {},
   "outputs": [
    {
     "data": {
      "text/plain": [
       "Others    16\n",
       "Name: subsector, dtype: int64"
      ]
     },
     "execution_count": 40,
     "metadata": {},
     "output_type": "execute_result"
    }
   ],
   "source": [
    "energy_final[energy_final['sector'] =='Others']['subsector'].value_counts()"
   ]
  },
  {
   "cell_type": "markdown",
   "metadata": {},
   "source": [
    "#### Interpretation:\n",
    "\n",
    "In energy consumption, it is seperated into different sector and subsectors:\n",
    "\n",
    "- Industry-Related\n",
    "        1. Manufacturing\n",
    "        2. Construction\n",
    "        3. Utilities\n",
    "        4. Other Industry-Related\n",
    "- Commercial-Related\n",
    "        1. Information and Communication\n",
    "        2. Financial and Insurance Activities\n",
    "        3. Wholesale and Retail Trade\n",
    "        4. Professional, Scientific\n",
    "        5. Accomodation and Food Service\n",
    "        6. Real Estate Activities\n",
    "        7. Other Commercial-Related\n",
    "- Transport Related\n",
    "- Households\n",
    "- Others\n",
    "\n",
    "We will look at the energy comsumpted by each subsector one-by-one."
   ]
  },
  {
   "cell_type": "markdown",
   "metadata": {},
   "source": [
    "### 4.4. Analyze 4 Industry-Related subsectors\n",
    "[top](#Contents)"
   ]
  },
  {
   "cell_type": "markdown",
   "metadata": {},
   "source": [
    "   1. Manufacturing\n",
    "   2. Construction\n",
    "   3. Utilities\n",
    "   4. Other Industry-Related"
   ]
  },
  {
   "cell_type": "code",
   "execution_count": 41,
   "metadata": {},
   "outputs": [
    {
     "data": {
      "text/html": [
       "<div>\n",
       "<style scoped>\n",
       "    .dataframe tbody tr th:only-of-type {\n",
       "        vertical-align: middle;\n",
       "    }\n",
       "\n",
       "    .dataframe tbody tr th {\n",
       "        vertical-align: top;\n",
       "    }\n",
       "\n",
       "    .dataframe thead th {\n",
       "        text-align: right;\n",
       "    }\n",
       "</style>\n",
       "<table border=\"1\" class=\"dataframe\">\n",
       "  <thead>\n",
       "    <tr style=\"text-align: right;\">\n",
       "      <th></th>\n",
       "      <th>electricity_consumption_gwh</th>\n",
       "    </tr>\n",
       "    <tr>\n",
       "      <th>year</th>\n",
       "      <th></th>\n",
       "    </tr>\n",
       "  </thead>\n",
       "  <tbody>\n",
       "    <tr>\n",
       "      <th>2005</th>\n",
       "      <td>13836.13000</td>\n",
       "    </tr>\n",
       "    <tr>\n",
       "      <th>2006</th>\n",
       "      <td>14397.16000</td>\n",
       "    </tr>\n",
       "    <tr>\n",
       "      <th>2007</th>\n",
       "      <td>14943.19000</td>\n",
       "    </tr>\n",
       "    <tr>\n",
       "      <th>2008</th>\n",
       "      <td>15032.67000</td>\n",
       "    </tr>\n",
       "    <tr>\n",
       "      <th>2009</th>\n",
       "      <td>14539.66000</td>\n",
       "    </tr>\n",
       "    <tr>\n",
       "      <th>2010</th>\n",
       "      <td>16448.03000</td>\n",
       "    </tr>\n",
       "    <tr>\n",
       "      <th>2011</th>\n",
       "      <td>16752.40000</td>\n",
       "    </tr>\n",
       "    <tr>\n",
       "      <th>2012</th>\n",
       "      <td>17112.40000</td>\n",
       "    </tr>\n",
       "    <tr>\n",
       "      <th>2013</th>\n",
       "      <td>17237.38000</td>\n",
       "    </tr>\n",
       "    <tr>\n",
       "      <th>2014</th>\n",
       "      <td>17988.95000</td>\n",
       "    </tr>\n",
       "    <tr>\n",
       "      <th>2015</th>\n",
       "      <td>18277.61000</td>\n",
       "    </tr>\n",
       "    <tr>\n",
       "      <th>2016</th>\n",
       "      <td>18370.91000</td>\n",
       "    </tr>\n",
       "    <tr>\n",
       "      <th>2017</th>\n",
       "      <td>19581.67000</td>\n",
       "    </tr>\n",
       "    <tr>\n",
       "      <th>2018</th>\n",
       "      <td>19451.50000</td>\n",
       "    </tr>\n",
       "    <tr>\n",
       "      <th>2019</th>\n",
       "      <td>19422.35000</td>\n",
       "    </tr>\n",
       "    <tr>\n",
       "      <th>2020</th>\n",
       "      <td>11097.94908</td>\n",
       "    </tr>\n",
       "  </tbody>\n",
       "</table>\n",
       "</div>"
      ],
      "text/plain": [
       "      electricity_consumption_gwh\n",
       "year                             \n",
       "2005                  13836.13000\n",
       "2006                  14397.16000\n",
       "2007                  14943.19000\n",
       "2008                  15032.67000\n",
       "2009                  14539.66000\n",
       "2010                  16448.03000\n",
       "2011                  16752.40000\n",
       "2012                  17112.40000\n",
       "2013                  17237.38000\n",
       "2014                  17988.95000\n",
       "2015                  18277.61000\n",
       "2016                  18370.91000\n",
       "2017                  19581.67000\n",
       "2018                  19451.50000\n",
       "2019                  19422.35000\n",
       "2020                  11097.94908"
      ]
     },
     "execution_count": 41,
     "metadata": {},
     "output_type": "execute_result"
    }
   ],
   "source": [
    "manu = energy_final[energy_final['subsector'] == 'Manufacturing'][['electricity_consumption_gwh']]\n",
    "manu"
   ]
  },
  {
   "cell_type": "code",
   "execution_count": 42,
   "metadata": {},
   "outputs": [
    {
     "data": {
      "text/plain": [
       "[<matplotlib.lines.Line2D at 0x7f980ca6a1c0>]"
      ]
     },
     "execution_count": 42,
     "metadata": {},
     "output_type": "execute_result"
    },
    {
     "data": {
      "image/png": "[encoded data removed]",
      "text/plain": [
       "<Figure size 648x432 with 1 Axes>"
      ]
     },
     "metadata": {
      "needs_background": "light"
     },
     "output_type": "display_data"
    }
   ],
   "source": [
    "plt.figure(figsize=(9, 6))\n",
    "plt.plot(manu['electricity_consumption_gwh'])"
   ]
  },
  {
   "cell_type": "markdown",
   "metadata": {},
   "source": [
    "#### 2. Analyze `Construction` data"
   ]
  },
  {
   "cell_type": "code",
   "execution_count": 43,
   "metadata": {},
   "outputs": [
    {
     "data": {
      "text/html": [
       "<div>\n",
       "<style scoped>\n",
       "    .dataframe tbody tr th:only-of-type {\n",
       "        vertical-align: middle;\n",
       "    }\n",
       "\n",
       "    .dataframe tbody tr th {\n",
       "        vertical-align: top;\n",
       "    }\n",
       "\n",
       "    .dataframe thead th {\n",
       "        text-align: right;\n",
       "    }\n",
       "</style>\n",
       "<table border=\"1\" class=\"dataframe\">\n",
       "  <thead>\n",
       "    <tr style=\"text-align: right;\">\n",
       "      <th></th>\n",
       "      <th>electricity_consumption_gwh</th>\n",
       "    </tr>\n",
       "    <tr>\n",
       "      <th>year</th>\n",
       "      <th></th>\n",
       "    </tr>\n",
       "  </thead>\n",
       "  <tbody>\n",
       "    <tr>\n",
       "      <th>2005</th>\n",
       "      <td>234.779777</td>\n",
       "    </tr>\n",
       "    <tr>\n",
       "      <th>2006</th>\n",
       "      <td>250.523342</td>\n",
       "    </tr>\n",
       "    <tr>\n",
       "      <th>2007</th>\n",
       "      <td>279.127954</td>\n",
       "    </tr>\n",
       "    <tr>\n",
       "      <th>2008</th>\n",
       "      <td>300.876531</td>\n",
       "    </tr>\n",
       "    <tr>\n",
       "      <th>2009</th>\n",
       "      <td>308.295349</td>\n",
       "    </tr>\n",
       "    <tr>\n",
       "      <th>2010</th>\n",
       "      <td>337.839214</td>\n",
       "    </tr>\n",
       "    <tr>\n",
       "      <th>2011</th>\n",
       "      <td>362.967932</td>\n",
       "    </tr>\n",
       "    <tr>\n",
       "      <th>2012</th>\n",
       "      <td>443.689138</td>\n",
       "    </tr>\n",
       "    <tr>\n",
       "      <th>2013</th>\n",
       "      <td>490.536354</td>\n",
       "    </tr>\n",
       "    <tr>\n",
       "      <th>2014</th>\n",
       "      <td>527.117294</td>\n",
       "    </tr>\n",
       "    <tr>\n",
       "      <th>2015</th>\n",
       "      <td>531.036041</td>\n",
       "    </tr>\n",
       "    <tr>\n",
       "      <th>2016</th>\n",
       "      <td>551.571126</td>\n",
       "    </tr>\n",
       "    <tr>\n",
       "      <th>2017</th>\n",
       "      <td>484.348768</td>\n",
       "    </tr>\n",
       "    <tr>\n",
       "      <th>2018</th>\n",
       "      <td>432.290238</td>\n",
       "    </tr>\n",
       "    <tr>\n",
       "      <th>2019</th>\n",
       "      <td>395.161306</td>\n",
       "    </tr>\n",
       "    <tr>\n",
       "      <th>2020</th>\n",
       "      <td>211.601846</td>\n",
       "    </tr>\n",
       "  </tbody>\n",
       "</table>\n",
       "</div>"
      ],
      "text/plain": [
       "      electricity_consumption_gwh\n",
       "year                             \n",
       "2005                   234.779777\n",
       "2006                   250.523342\n",
       "2007                   279.127954\n",
       "2008                   300.876531\n",
       "2009                   308.295349\n",
       "2010                   337.839214\n",
       "2011                   362.967932\n",
       "2012                   443.689138\n",
       "2013                   490.536354\n",
       "2014                   527.117294\n",
       "2015                   531.036041\n",
       "2016                   551.571126\n",
       "2017                   484.348768\n",
       "2018                   432.290238\n",
       "2019                   395.161306\n",
       "2020                   211.601846"
      ]
     },
     "execution_count": 43,
     "metadata": {},
     "output_type": "execute_result"
    }
   ],
   "source": [
    "cons = energy_final[energy_final['subsector'] == 'Construction'][['electricity_consumption_gwh']]\n",
    "cons"
   ]
  },
  {
   "cell_type": "code",
   "execution_count": 44,
   "metadata": {},
   "outputs": [
    {
     "data": {
      "text/plain": [
       "[<matplotlib.lines.Line2D at 0x7f980cb8b2e0>]"
      ]
     },
     "execution_count": 44,
     "metadata": {},
     "output_type": "execute_result"
    },
    {
     "data": {
      "image/png": "[encoded data removed]",
      "text/plain": [
       "<Figure size 648x432 with 1 Axes>"
      ]
     },
     "metadata": {
      "needs_background": "light"
     },
     "output_type": "display_data"
    }
   ],
   "source": [
    "plt.figure(figsize=(9, 6))\n",
    "plt.plot(cons['electricity_consumption_gwh'])"
   ]
  },
  {
   "cell_type": "markdown",
   "metadata": {},
   "source": [
    "#### 3. Analyze `Utilities` data"
   ]
  },
  {
   "cell_type": "code",
   "execution_count": 45,
   "metadata": {},
   "outputs": [
    {
     "data": {
      "text/html": [
       "<div>\n",
       "<style scoped>\n",
       "    .dataframe tbody tr th:only-of-type {\n",
       "        vertical-align: middle;\n",
       "    }\n",
       "\n",
       "    .dataframe tbody tr th {\n",
       "        vertical-align: top;\n",
       "    }\n",
       "\n",
       "    .dataframe thead th {\n",
       "        text-align: right;\n",
       "    }\n",
       "</style>\n",
       "<table border=\"1\" class=\"dataframe\">\n",
       "  <thead>\n",
       "    <tr style=\"text-align: right;\">\n",
       "      <th></th>\n",
       "      <th>electricity_consumption_gwh</th>\n",
       "    </tr>\n",
       "    <tr>\n",
       "      <th>year</th>\n",
       "      <th></th>\n",
       "    </tr>\n",
       "  </thead>\n",
       "  <tbody>\n",
       "    <tr>\n",
       "      <th>2005</th>\n",
       "      <td>410.975073</td>\n",
       "    </tr>\n",
       "    <tr>\n",
       "      <th>2006</th>\n",
       "      <td>441.814820</td>\n",
       "    </tr>\n",
       "    <tr>\n",
       "      <th>2007</th>\n",
       "      <td>569.155943</td>\n",
       "    </tr>\n",
       "    <tr>\n",
       "      <th>2008</th>\n",
       "      <td>668.361899</td>\n",
       "    </tr>\n",
       "    <tr>\n",
       "      <th>2009</th>\n",
       "      <td>691.876136</td>\n",
       "    </tr>\n",
       "    <tr>\n",
       "      <th>2010</th>\n",
       "      <td>843.397507</td>\n",
       "    </tr>\n",
       "    <tr>\n",
       "      <th>2011</th>\n",
       "      <td>928.504886</td>\n",
       "    </tr>\n",
       "    <tr>\n",
       "      <th>2012</th>\n",
       "      <td>978.915046</td>\n",
       "    </tr>\n",
       "    <tr>\n",
       "      <th>2013</th>\n",
       "      <td>1074.840000</td>\n",
       "    </tr>\n",
       "    <tr>\n",
       "      <th>2014</th>\n",
       "      <td>1197.960000</td>\n",
       "    </tr>\n",
       "    <tr>\n",
       "      <th>2015</th>\n",
       "      <td>1237.160000</td>\n",
       "    </tr>\n",
       "    <tr>\n",
       "      <th>2016</th>\n",
       "      <td>1450.140000</td>\n",
       "    </tr>\n",
       "    <tr>\n",
       "      <th>2017</th>\n",
       "      <td>1402.620000</td>\n",
       "    </tr>\n",
       "    <tr>\n",
       "      <th>2018</th>\n",
       "      <td>1518.680000</td>\n",
       "    </tr>\n",
       "    <tr>\n",
       "      <th>2019</th>\n",
       "      <td>1573.640000</td>\n",
       "    </tr>\n",
       "    <tr>\n",
       "      <th>2020</th>\n",
       "      <td>1685.917726</td>\n",
       "    </tr>\n",
       "  </tbody>\n",
       "</table>\n",
       "</div>"
      ],
      "text/plain": [
       "      electricity_consumption_gwh\n",
       "year                             \n",
       "2005                   410.975073\n",
       "2006                   441.814820\n",
       "2007                   569.155943\n",
       "2008                   668.361899\n",
       "2009                   691.876136\n",
       "2010                   843.397507\n",
       "2011                   928.504886\n",
       "2012                   978.915046\n",
       "2013                  1074.840000\n",
       "2014                  1197.960000\n",
       "2015                  1237.160000\n",
       "2016                  1450.140000\n",
       "2017                  1402.620000\n",
       "2018                  1518.680000\n",
       "2019                  1573.640000\n",
       "2020                  1685.917726"
      ]
     },
     "execution_count": 45,
     "metadata": {},
     "output_type": "execute_result"
    }
   ],
   "source": [
    "util = energy_final[energy_final['subsector'] == 'Utilities'][['electricity_consumption_gwh']]\n",
    "util"
   ]
  },
  {
   "cell_type": "code",
   "execution_count": 46,
   "metadata": {},
   "outputs": [
    {
     "data": {
      "text/plain": [
       "[<matplotlib.lines.Line2D at 0x7f980cbea400>]"
      ]
     },
     "execution_count": 46,
     "metadata": {},
     "output_type": "execute_result"
    },
    {
     "data": {
      "image/png": "[encoded data removed]",
      "text/plain": [
       "<Figure size 648x432 with 1 Axes>"
      ]
     },
     "metadata": {
      "needs_background": "light"
     },
     "output_type": "display_data"
    }
   ],
   "source": [
    "plt.figure(figsize=(9, 6))\n",
    "plt.plot(util['electricity_consumption_gwh'])"
   ]
  },
  {
   "cell_type": "markdown",
   "metadata": {},
   "source": [
    "#### 4. Analyze `Other-Industry Related` data"
   ]
  },
  {
   "cell_type": "code",
   "execution_count": 47,
   "metadata": {},
   "outputs": [
    {
     "data": {
      "text/html": [
       "<div>\n",
       "<style scoped>\n",
       "    .dataframe tbody tr th:only-of-type {\n",
       "        vertical-align: middle;\n",
       "    }\n",
       "\n",
       "    .dataframe tbody tr th {\n",
       "        vertical-align: top;\n",
       "    }\n",
       "\n",
       "    .dataframe thead th {\n",
       "        text-align: right;\n",
       "    }\n",
       "</style>\n",
       "<table border=\"1\" class=\"dataframe\">\n",
       "  <thead>\n",
       "    <tr style=\"text-align: right;\">\n",
       "      <th></th>\n",
       "      <th>electricity_consumption_gwh</th>\n",
       "    </tr>\n",
       "    <tr>\n",
       "      <th>year</th>\n",
       "      <th></th>\n",
       "    </tr>\n",
       "  </thead>\n",
       "  <tbody>\n",
       "    <tr>\n",
       "      <th>2005</th>\n",
       "      <td>27.153824</td>\n",
       "    </tr>\n",
       "    <tr>\n",
       "      <th>2006</th>\n",
       "      <td>25.878581</td>\n",
       "    </tr>\n",
       "    <tr>\n",
       "      <th>2007</th>\n",
       "      <td>27.491121</td>\n",
       "    </tr>\n",
       "    <tr>\n",
       "      <th>2008</th>\n",
       "      <td>28.967587</td>\n",
       "    </tr>\n",
       "    <tr>\n",
       "      <th>2009</th>\n",
       "      <td>30.427884</td>\n",
       "    </tr>\n",
       "    <tr>\n",
       "      <th>2010</th>\n",
       "      <td>33.309514</td>\n",
       "    </tr>\n",
       "    <tr>\n",
       "      <th>2011</th>\n",
       "      <td>33.633632</td>\n",
       "    </tr>\n",
       "    <tr>\n",
       "      <th>2012</th>\n",
       "      <td>37.527046</td>\n",
       "    </tr>\n",
       "    <tr>\n",
       "      <th>2013</th>\n",
       "      <td>40.063731</td>\n",
       "    </tr>\n",
       "    <tr>\n",
       "      <th>2014</th>\n",
       "      <td>39.168698</td>\n",
       "    </tr>\n",
       "    <tr>\n",
       "      <th>2015</th>\n",
       "      <td>42.195917</td>\n",
       "    </tr>\n",
       "    <tr>\n",
       "      <th>2016</th>\n",
       "      <td>45.818303</td>\n",
       "    </tr>\n",
       "    <tr>\n",
       "      <th>2017</th>\n",
       "      <td>47.684552</td>\n",
       "    </tr>\n",
       "    <tr>\n",
       "      <th>2018</th>\n",
       "      <td>48.260496</td>\n",
       "    </tr>\n",
       "    <tr>\n",
       "      <th>2019</th>\n",
       "      <td>53.297950</td>\n",
       "    </tr>\n",
       "    <tr>\n",
       "      <th>2020</th>\n",
       "      <td>29.415484</td>\n",
       "    </tr>\n",
       "  </tbody>\n",
       "</table>\n",
       "</div>"
      ],
      "text/plain": [
       "      electricity_consumption_gwh\n",
       "year                             \n",
       "2005                    27.153824\n",
       "2006                    25.878581\n",
       "2007                    27.491121\n",
       "2008                    28.967587\n",
       "2009                    30.427884\n",
       "2010                    33.309514\n",
       "2011                    33.633632\n",
       "2012                    37.527046\n",
       "2013                    40.063731\n",
       "2014                    39.168698\n",
       "2015                    42.195917\n",
       "2016                    45.818303\n",
       "2017                    47.684552\n",
       "2018                    48.260496\n",
       "2019                    53.297950\n",
       "2020                    29.415484"
      ]
     },
     "execution_count": 47,
     "metadata": {},
     "output_type": "execute_result"
    }
   ],
   "source": [
    "other1 = energy_final[energy_final['subsector'] == 'Other Industry-Related'][['electricity_consumption_gwh']]\n",
    "other1"
   ]
  },
  {
   "cell_type": "code",
   "execution_count": 48,
   "metadata": {},
   "outputs": [
    {
     "data": {
      "text/plain": [
       "[<matplotlib.lines.Line2D at 0x7f980ce970a0>]"
      ]
     },
     "execution_count": 48,
     "metadata": {},
     "output_type": "execute_result"
    },
    {
     "data": {
      "image/png": "[encoded data removed]",
      "text/plain": [
       "<Figure size 648x432 with 1 Axes>"
      ]
     },
     "metadata": {
      "needs_background": "light"
     },
     "output_type": "display_data"
    }
   ],
   "source": [
    "plt.figure(figsize=(9, 6))\n",
    "plt.plot(other1['electricity_consumption_gwh'])"
   ]
  },
  {
   "cell_type": "markdown",
   "metadata": {},
   "source": [
    "### 4.5. Analyze 7 Commercial-Related subsectors\n",
    "[top](#Contents)"
   ]
  },
  {
   "cell_type": "markdown",
   "metadata": {},
   "source": [
    "   1. Information and Communication\n",
    "   2. Financial and Insurance Activities\n",
    "   3. Wholesale and Retail Trade\n",
    "   4. Professional, Scientific\n",
    "   5. Accomodation and Food Services\n",
    "   6. Real Estate Activities\n",
    "   7. Other Commercial-Related"
   ]
  },
  {
   "cell_type": "markdown",
   "metadata": {},
   "source": [
    "#### 1. Analyze `Information and Communications` data"
   ]
  },
  {
   "cell_type": "code",
   "execution_count": 49,
   "metadata": {},
   "outputs": [
    {
     "data": {
      "text/html": [
       "<div>\n",
       "<style scoped>\n",
       "    .dataframe tbody tr th:only-of-type {\n",
       "        vertical-align: middle;\n",
       "    }\n",
       "\n",
       "    .dataframe tbody tr th {\n",
       "        vertical-align: top;\n",
       "    }\n",
       "\n",
       "    .dataframe thead th {\n",
       "        text-align: right;\n",
       "    }\n",
       "</style>\n",
       "<table border=\"1\" class=\"dataframe\">\n",
       "  <thead>\n",
       "    <tr style=\"text-align: right;\">\n",
       "      <th></th>\n",
       "      <th>electricity_consumption_gwh</th>\n",
       "    </tr>\n",
       "    <tr>\n",
       "      <th>year</th>\n",
       "      <th></th>\n",
       "    </tr>\n",
       "  </thead>\n",
       "  <tbody>\n",
       "    <tr>\n",
       "      <th>2005</th>\n",
       "      <td>667.191619</td>\n",
       "    </tr>\n",
       "    <tr>\n",
       "      <th>2006</th>\n",
       "      <td>708.707222</td>\n",
       "    </tr>\n",
       "    <tr>\n",
       "      <th>2007</th>\n",
       "      <td>761.249485</td>\n",
       "    </tr>\n",
       "    <tr>\n",
       "      <th>2008</th>\n",
       "      <td>844.527343</td>\n",
       "    </tr>\n",
       "    <tr>\n",
       "      <th>2009</th>\n",
       "      <td>865.984950</td>\n",
       "    </tr>\n",
       "    <tr>\n",
       "      <th>2010</th>\n",
       "      <td>925.483041</td>\n",
       "    </tr>\n",
       "    <tr>\n",
       "      <th>2011</th>\n",
       "      <td>988.648652</td>\n",
       "    </tr>\n",
       "    <tr>\n",
       "      <th>2012</th>\n",
       "      <td>1084.420000</td>\n",
       "    </tr>\n",
       "    <tr>\n",
       "      <th>2013</th>\n",
       "      <td>1149.090000</td>\n",
       "    </tr>\n",
       "    <tr>\n",
       "      <th>2014</th>\n",
       "      <td>1294.520000</td>\n",
       "    </tr>\n",
       "    <tr>\n",
       "      <th>2015</th>\n",
       "      <td>1426.750000</td>\n",
       "    </tr>\n",
       "    <tr>\n",
       "      <th>2016</th>\n",
       "      <td>1847.970000</td>\n",
       "    </tr>\n",
       "    <tr>\n",
       "      <th>2017</th>\n",
       "      <td>1873.470000</td>\n",
       "    </tr>\n",
       "    <tr>\n",
       "      <th>2018</th>\n",
       "      <td>2230.460000</td>\n",
       "    </tr>\n",
       "    <tr>\n",
       "      <th>2019</th>\n",
       "      <td>2491.810000</td>\n",
       "    </tr>\n",
       "    <tr>\n",
       "      <th>2020</th>\n",
       "      <td>1661.960142</td>\n",
       "    </tr>\n",
       "  </tbody>\n",
       "</table>\n",
       "</div>"
      ],
      "text/plain": [
       "      electricity_consumption_gwh\n",
       "year                             \n",
       "2005                   667.191619\n",
       "2006                   708.707222\n",
       "2007                   761.249485\n",
       "2008                   844.527343\n",
       "2009                   865.984950\n",
       "2010                   925.483041\n",
       "2011                   988.648652\n",
       "2012                  1084.420000\n",
       "2013                  1149.090000\n",
       "2014                  1294.520000\n",
       "2015                  1426.750000\n",
       "2016                  1847.970000\n",
       "2017                  1873.470000\n",
       "2018                  2230.460000\n",
       "2019                  2491.810000\n",
       "2020                  1661.960142"
      ]
     },
     "execution_count": 49,
     "metadata": {},
     "output_type": "execute_result"
    }
   ],
   "source": [
    "ic = energy_final[energy_final['subsector'] == 'Information and Communications'][['electricity_consumption_gwh']]\n",
    "ic"
   ]
  },
  {
   "cell_type": "code",
   "execution_count": 50,
   "metadata": {},
   "outputs": [
    {
     "data": {
      "text/plain": [
       "[<matplotlib.lines.Line2D at 0x7f980cf00760>]"
      ]
     },
     "execution_count": 50,
     "metadata": {},
     "output_type": "execute_result"
    },
    {
     "data": {
      "image/png": "[encoded data removed]",
      "text/plain": [
       "<Figure size 648x432 with 1 Axes>"
      ]
     },
     "metadata": {
      "needs_background": "light"
     },
     "output_type": "display_data"
    }
   ],
   "source": [
    "plt.figure(figsize=(9, 6))\n",
    "plt.plot(ic['electricity_consumption_gwh'])"
   ]
  },
  {
   "cell_type": "markdown",
   "metadata": {},
   "source": [
    "#### 2. Analyze `Financial and Insurance Activities` data"
   ]
  },
  {
   "cell_type": "code",
   "execution_count": 51,
   "metadata": {},
   "outputs": [
    {
     "data": {
      "text/html": [
       "<div>\n",
       "<style scoped>\n",
       "    .dataframe tbody tr th:only-of-type {\n",
       "        vertical-align: middle;\n",
       "    }\n",
       "\n",
       "    .dataframe tbody tr th {\n",
       "        vertical-align: top;\n",
       "    }\n",
       "\n",
       "    .dataframe thead th {\n",
       "        text-align: right;\n",
       "    }\n",
       "</style>\n",
       "<table border=\"1\" class=\"dataframe\">\n",
       "  <thead>\n",
       "    <tr style=\"text-align: right;\">\n",
       "      <th></th>\n",
       "      <th>electricity_consumption_gwh</th>\n",
       "    </tr>\n",
       "    <tr>\n",
       "      <th>year</th>\n",
       "      <th></th>\n",
       "    </tr>\n",
       "  </thead>\n",
       "  <tbody>\n",
       "    <tr>\n",
       "      <th>2005</th>\n",
       "      <td>1291.940000</td>\n",
       "    </tr>\n",
       "    <tr>\n",
       "      <th>2006</th>\n",
       "      <td>1659.680000</td>\n",
       "    </tr>\n",
       "    <tr>\n",
       "      <th>2007</th>\n",
       "      <td>2014.580000</td>\n",
       "    </tr>\n",
       "    <tr>\n",
       "      <th>2008</th>\n",
       "      <td>2014.860000</td>\n",
       "    </tr>\n",
       "    <tr>\n",
       "      <th>2009</th>\n",
       "      <td>1865.430000</td>\n",
       "    </tr>\n",
       "    <tr>\n",
       "      <th>2010</th>\n",
       "      <td>1926.990000</td>\n",
       "    </tr>\n",
       "    <tr>\n",
       "      <th>2011</th>\n",
       "      <td>2003.170000</td>\n",
       "    </tr>\n",
       "    <tr>\n",
       "      <th>2012</th>\n",
       "      <td>2204.200000</td>\n",
       "    </tr>\n",
       "    <tr>\n",
       "      <th>2013</th>\n",
       "      <td>2257.940000</td>\n",
       "    </tr>\n",
       "    <tr>\n",
       "      <th>2014</th>\n",
       "      <td>2574.100000</td>\n",
       "    </tr>\n",
       "    <tr>\n",
       "      <th>2015</th>\n",
       "      <td>2718.120000</td>\n",
       "    </tr>\n",
       "    <tr>\n",
       "      <th>2016</th>\n",
       "      <td>2361.690000</td>\n",
       "    </tr>\n",
       "    <tr>\n",
       "      <th>2017</th>\n",
       "      <td>2342.850000</td>\n",
       "    </tr>\n",
       "    <tr>\n",
       "      <th>2018</th>\n",
       "      <td>2358.950000</td>\n",
       "    </tr>\n",
       "    <tr>\n",
       "      <th>2019</th>\n",
       "      <td>2379.330000</td>\n",
       "    </tr>\n",
       "    <tr>\n",
       "      <th>2020</th>\n",
       "      <td>1281.910013</td>\n",
       "    </tr>\n",
       "  </tbody>\n",
       "</table>\n",
       "</div>"
      ],
      "text/plain": [
       "      electricity_consumption_gwh\n",
       "year                             \n",
       "2005                  1291.940000\n",
       "2006                  1659.680000\n",
       "2007                  2014.580000\n",
       "2008                  2014.860000\n",
       "2009                  1865.430000\n",
       "2010                  1926.990000\n",
       "2011                  2003.170000\n",
       "2012                  2204.200000\n",
       "2013                  2257.940000\n",
       "2014                  2574.100000\n",
       "2015                  2718.120000\n",
       "2016                  2361.690000\n",
       "2017                  2342.850000\n",
       "2018                  2358.950000\n",
       "2019                  2379.330000\n",
       "2020                  1281.910013"
      ]
     },
     "execution_count": 51,
     "metadata": {},
     "output_type": "execute_result"
    }
   ],
   "source": [
    "fia = energy_final[energy_final['subsector'] == 'Financial and Insurance Activities'][['electricity_consumption_gwh']]\n",
    "fia"
   ]
  },
  {
   "cell_type": "code",
   "execution_count": 52,
   "metadata": {},
   "outputs": [
    {
     "data": {
      "text/plain": [
       "[<matplotlib.lines.Line2D at 0x7f980d02e8b0>]"
      ]
     },
     "execution_count": 52,
     "metadata": {},
     "output_type": "execute_result"
    },
    {
     "data": {
      "image/png": "[encoded data removed]",
      "text/plain": [
       "<Figure size 648x432 with 1 Axes>"
      ]
     },
     "metadata": {
      "needs_background": "light"
     },
     "output_type": "display_data"
    }
   ],
   "source": [
    "plt.figure(figsize=(9, 6))\n",
    "plt.plot(fia['electricity_consumption_gwh'])"
   ]
  },
  {
   "cell_type": "markdown",
   "metadata": {},
   "source": [
    "#### 3. Analyze `Wholesale and Retail Trade` data"
   ]
  },
  {
   "cell_type": "code",
   "execution_count": 53,
   "metadata": {
    "scrolled": true
   },
   "outputs": [
    {
     "data": {
      "text/html": [
       "<div>\n",
       "<style scoped>\n",
       "    .dataframe tbody tr th:only-of-type {\n",
       "        vertical-align: middle;\n",
       "    }\n",
       "\n",
       "    .dataframe tbody tr th {\n",
       "        vertical-align: top;\n",
       "    }\n",
       "\n",
       "    .dataframe thead th {\n",
       "        text-align: right;\n",
       "    }\n",
       "</style>\n",
       "<table border=\"1\" class=\"dataframe\">\n",
       "  <thead>\n",
       "    <tr style=\"text-align: right;\">\n",
       "      <th></th>\n",
       "      <th>electricity_consumption_gwh</th>\n",
       "    </tr>\n",
       "    <tr>\n",
       "      <th>year</th>\n",
       "      <th></th>\n",
       "    </tr>\n",
       "  </thead>\n",
       "  <tbody>\n",
       "    <tr>\n",
       "      <th>2005</th>\n",
       "      <td>2109.800000</td>\n",
       "    </tr>\n",
       "    <tr>\n",
       "      <th>2006</th>\n",
       "      <td>1977.240000</td>\n",
       "    </tr>\n",
       "    <tr>\n",
       "      <th>2007</th>\n",
       "      <td>1891.930000</td>\n",
       "    </tr>\n",
       "    <tr>\n",
       "      <th>2008</th>\n",
       "      <td>1924.690000</td>\n",
       "    </tr>\n",
       "    <tr>\n",
       "      <th>2009</th>\n",
       "      <td>1821.370000</td>\n",
       "    </tr>\n",
       "    <tr>\n",
       "      <th>2010</th>\n",
       "      <td>1922.970000</td>\n",
       "    </tr>\n",
       "    <tr>\n",
       "      <th>2011</th>\n",
       "      <td>1898.850000</td>\n",
       "    </tr>\n",
       "    <tr>\n",
       "      <th>2012</th>\n",
       "      <td>1909.360000</td>\n",
       "    </tr>\n",
       "    <tr>\n",
       "      <th>2013</th>\n",
       "      <td>1967.080000</td>\n",
       "    </tr>\n",
       "    <tr>\n",
       "      <th>2014</th>\n",
       "      <td>2020.500000</td>\n",
       "    </tr>\n",
       "    <tr>\n",
       "      <th>2015</th>\n",
       "      <td>2107.420000</td>\n",
       "    </tr>\n",
       "    <tr>\n",
       "      <th>2016</th>\n",
       "      <td>2073.370000</td>\n",
       "    </tr>\n",
       "    <tr>\n",
       "      <th>2017</th>\n",
       "      <td>1994.500000</td>\n",
       "    </tr>\n",
       "    <tr>\n",
       "      <th>2018</th>\n",
       "      <td>2292.900000</td>\n",
       "    </tr>\n",
       "    <tr>\n",
       "      <th>2019</th>\n",
       "      <td>2265.490000</td>\n",
       "    </tr>\n",
       "    <tr>\n",
       "      <th>2020</th>\n",
       "      <td>1249.003823</td>\n",
       "    </tr>\n",
       "  </tbody>\n",
       "</table>\n",
       "</div>"
      ],
      "text/plain": [
       "      electricity_consumption_gwh\n",
       "year                             \n",
       "2005                  2109.800000\n",
       "2006                  1977.240000\n",
       "2007                  1891.930000\n",
       "2008                  1924.690000\n",
       "2009                  1821.370000\n",
       "2010                  1922.970000\n",
       "2011                  1898.850000\n",
       "2012                  1909.360000\n",
       "2013                  1967.080000\n",
       "2014                  2020.500000\n",
       "2015                  2107.420000\n",
       "2016                  2073.370000\n",
       "2017                  1994.500000\n",
       "2018                  2292.900000\n",
       "2019                  2265.490000\n",
       "2020                  1249.003823"
      ]
     },
     "execution_count": 53,
     "metadata": {},
     "output_type": "execute_result"
    }
   ],
   "source": [
    "wrt = energy_final[energy_final['subsector'] == 'Wholesale and Retail Trade'][['electricity_consumption_gwh']]\n",
    "wrt"
   ]
  },
  {
   "cell_type": "code",
   "execution_count": 54,
   "metadata": {
    "scrolled": true
   },
   "outputs": [
    {
     "data": {
      "text/plain": [
       "[<matplotlib.lines.Line2D at 0x7f980b8f4ee0>]"
      ]
     },
     "execution_count": 54,
     "metadata": {},
     "output_type": "execute_result"
    },
    {
     "data": {
      "image/png": "[encoded data removed]",
      "text/plain": [
       "<Figure size 648x432 with 1 Axes>"
      ]
     },
     "metadata": {
      "needs_background": "light"
     },
     "output_type": "display_data"
    }
   ],
   "source": [
    "plt.figure(figsize=(9, 6))\n",
    "plt.plot(wrt['electricity_consumption_gwh'])"
   ]
  },
  {
   "cell_type": "markdown",
   "metadata": {},
   "source": [
    "#### 4. Analyze `Professional, Scientific` data"
   ]
  },
  {
   "cell_type": "code",
   "execution_count": 55,
   "metadata": {},
   "outputs": [
    {
     "data": {
      "text/html": [
       "<div>\n",
       "<style scoped>\n",
       "    .dataframe tbody tr th:only-of-type {\n",
       "        vertical-align: middle;\n",
       "    }\n",
       "\n",
       "    .dataframe tbody tr th {\n",
       "        vertical-align: top;\n",
       "    }\n",
       "\n",
       "    .dataframe thead th {\n",
       "        text-align: right;\n",
       "    }\n",
       "</style>\n",
       "<table border=\"1\" class=\"dataframe\">\n",
       "  <thead>\n",
       "    <tr style=\"text-align: right;\">\n",
       "      <th></th>\n",
       "      <th>electricity_consumption_gwh</th>\n",
       "    </tr>\n",
       "    <tr>\n",
       "      <th>year</th>\n",
       "      <th></th>\n",
       "    </tr>\n",
       "  </thead>\n",
       "  <tbody>\n",
       "    <tr>\n",
       "      <th>2005</th>\n",
       "      <td>650.226630</td>\n",
       "    </tr>\n",
       "    <tr>\n",
       "      <th>2006</th>\n",
       "      <td>740.457071</td>\n",
       "    </tr>\n",
       "    <tr>\n",
       "      <th>2007</th>\n",
       "      <td>834.239319</td>\n",
       "    </tr>\n",
       "    <tr>\n",
       "      <th>2008</th>\n",
       "      <td>841.987238</td>\n",
       "    </tr>\n",
       "    <tr>\n",
       "      <th>2009</th>\n",
       "      <td>778.429362</td>\n",
       "    </tr>\n",
       "    <tr>\n",
       "      <th>2010</th>\n",
       "      <td>885.769581</td>\n",
       "    </tr>\n",
       "    <tr>\n",
       "      <th>2011</th>\n",
       "      <td>934.083686</td>\n",
       "    </tr>\n",
       "    <tr>\n",
       "      <th>2012</th>\n",
       "      <td>930.788114</td>\n",
       "    </tr>\n",
       "    <tr>\n",
       "      <th>2013</th>\n",
       "      <td>932.742640</td>\n",
       "    </tr>\n",
       "    <tr>\n",
       "      <th>2014</th>\n",
       "      <td>680.959329</td>\n",
       "    </tr>\n",
       "    <tr>\n",
       "      <th>2015</th>\n",
       "      <td>713.701674</td>\n",
       "    </tr>\n",
       "    <tr>\n",
       "      <th>2016</th>\n",
       "      <td>683.431053</td>\n",
       "    </tr>\n",
       "    <tr>\n",
       "      <th>2017</th>\n",
       "      <td>703.776397</td>\n",
       "    </tr>\n",
       "    <tr>\n",
       "      <th>2018</th>\n",
       "      <td>719.892865</td>\n",
       "    </tr>\n",
       "    <tr>\n",
       "      <th>2019</th>\n",
       "      <td>807.388472</td>\n",
       "    </tr>\n",
       "    <tr>\n",
       "      <th>2020</th>\n",
       "      <td>448.195719</td>\n",
       "    </tr>\n",
       "  </tbody>\n",
       "</table>\n",
       "</div>"
      ],
      "text/plain": [
       "      electricity_consumption_gwh\n",
       "year                             \n",
       "2005                   650.226630\n",
       "2006                   740.457071\n",
       "2007                   834.239319\n",
       "2008                   841.987238\n",
       "2009                   778.429362\n",
       "2010                   885.769581\n",
       "2011                   934.083686\n",
       "2012                   930.788114\n",
       "2013                   932.742640\n",
       "2014                   680.959329\n",
       "2015                   713.701674\n",
       "2016                   683.431053\n",
       "2017                   703.776397\n",
       "2018                   719.892865\n",
       "2019                   807.388472\n",
       "2020                   448.195719"
      ]
     },
     "execution_count": 55,
     "metadata": {},
     "output_type": "execute_result"
    }
   ],
   "source": [
    "ps = energy_final[energy_final['subsector'] == 'Professional, Scientific'][['electricity_consumption_gwh']]\n",
    "ps"
   ]
  },
  {
   "cell_type": "code",
   "execution_count": 56,
   "metadata": {},
   "outputs": [
    {
     "data": {
      "text/plain": [
       "[<matplotlib.lines.Line2D at 0x7f980c7563d0>]"
      ]
     },
     "execution_count": 56,
     "metadata": {},
     "output_type": "execute_result"
    },
    {
     "data": {
      "image/png": "[encoded data removed]",
      "text/plain": [
       "<Figure size 648x432 with 1 Axes>"
      ]
     },
     "metadata": {
      "needs_background": "light"
     },
     "output_type": "display_data"
    }
   ],
   "source": [
    "plt.figure(figsize=(9, 6))\n",
    "plt.plot(ps['electricity_consumption_gwh'])"
   ]
  },
  {
   "cell_type": "markdown",
   "metadata": {},
   "source": [
    "#### 5. Analyze `Accomodation and Food Services` data"
   ]
  },
  {
   "cell_type": "code",
   "execution_count": 57,
   "metadata": {},
   "outputs": [
    {
     "data": {
      "text/html": [
       "<div>\n",
       "<style scoped>\n",
       "    .dataframe tbody tr th:only-of-type {\n",
       "        vertical-align: middle;\n",
       "    }\n",
       "\n",
       "    .dataframe tbody tr th {\n",
       "        vertical-align: top;\n",
       "    }\n",
       "\n",
       "    .dataframe thead th {\n",
       "        text-align: right;\n",
       "    }\n",
       "</style>\n",
       "<table border=\"1\" class=\"dataframe\">\n",
       "  <thead>\n",
       "    <tr style=\"text-align: right;\">\n",
       "      <th></th>\n",
       "      <th>electricity_consumption_gwh</th>\n",
       "    </tr>\n",
       "    <tr>\n",
       "      <th>year</th>\n",
       "      <th></th>\n",
       "    </tr>\n",
       "  </thead>\n",
       "  <tbody>\n",
       "    <tr>\n",
       "      <th>2005</th>\n",
       "      <td>1031.330000</td>\n",
       "    </tr>\n",
       "    <tr>\n",
       "      <th>2006</th>\n",
       "      <td>1087.050000</td>\n",
       "    </tr>\n",
       "    <tr>\n",
       "      <th>2007</th>\n",
       "      <td>1131.450000</td>\n",
       "    </tr>\n",
       "    <tr>\n",
       "      <th>2008</th>\n",
       "      <td>1171.670000</td>\n",
       "    </tr>\n",
       "    <tr>\n",
       "      <th>2009</th>\n",
       "      <td>1169.190000</td>\n",
       "    </tr>\n",
       "    <tr>\n",
       "      <th>2010</th>\n",
       "      <td>1219.620000</td>\n",
       "    </tr>\n",
       "    <tr>\n",
       "      <th>2011</th>\n",
       "      <td>1251.370000</td>\n",
       "    </tr>\n",
       "    <tr>\n",
       "      <th>2012</th>\n",
       "      <td>1275.140000</td>\n",
       "    </tr>\n",
       "    <tr>\n",
       "      <th>2013</th>\n",
       "      <td>1326.570000</td>\n",
       "    </tr>\n",
       "    <tr>\n",
       "      <th>2014</th>\n",
       "      <td>1332.270000</td>\n",
       "    </tr>\n",
       "    <tr>\n",
       "      <th>2015</th>\n",
       "      <td>1350.200000</td>\n",
       "    </tr>\n",
       "    <tr>\n",
       "      <th>2016</th>\n",
       "      <td>1453.240000</td>\n",
       "    </tr>\n",
       "    <tr>\n",
       "      <th>2017</th>\n",
       "      <td>1444.900000</td>\n",
       "    </tr>\n",
       "    <tr>\n",
       "      <th>2018</th>\n",
       "      <td>1463.950000</td>\n",
       "    </tr>\n",
       "    <tr>\n",
       "      <th>2019</th>\n",
       "      <td>1523.350000</td>\n",
       "    </tr>\n",
       "    <tr>\n",
       "      <th>2020</th>\n",
       "      <td>753.094006</td>\n",
       "    </tr>\n",
       "  </tbody>\n",
       "</table>\n",
       "</div>"
      ],
      "text/plain": [
       "      electricity_consumption_gwh\n",
       "year                             \n",
       "2005                  1031.330000\n",
       "2006                  1087.050000\n",
       "2007                  1131.450000\n",
       "2008                  1171.670000\n",
       "2009                  1169.190000\n",
       "2010                  1219.620000\n",
       "2011                  1251.370000\n",
       "2012                  1275.140000\n",
       "2013                  1326.570000\n",
       "2014                  1332.270000\n",
       "2015                  1350.200000\n",
       "2016                  1453.240000\n",
       "2017                  1444.900000\n",
       "2018                  1463.950000\n",
       "2019                  1523.350000\n",
       "2020                   753.094006"
      ]
     },
     "execution_count": 57,
     "metadata": {},
     "output_type": "execute_result"
    }
   ],
   "source": [
    "afs = energy_final[energy_final['subsector'] == 'Accomodation and Food Services'][['electricity_consumption_gwh']]\n",
    "afs"
   ]
  },
  {
   "cell_type": "code",
   "execution_count": 58,
   "metadata": {},
   "outputs": [
    {
     "data": {
      "text/plain": [
       "[<matplotlib.lines.Line2D at 0x7f980c383340>]"
      ]
     },
     "execution_count": 58,
     "metadata": {},
     "output_type": "execute_result"
    },
    {
     "data": {
      "image/png": "[encoded data removed]",
      "text/plain": [
       "<Figure size 648x432 with 1 Axes>"
      ]
     },
     "metadata": {
      "needs_background": "light"
     },
     "output_type": "display_data"
    }
   ],
   "source": [
    "plt.figure(figsize=(9, 6))\n",
    "plt.plot(afs['electricity_consumption_gwh'])"
   ]
  },
  {
   "cell_type": "markdown",
   "metadata": {},
   "source": [
    "#### 6. Analyze `Real Estate Activities` data"
   ]
  },
  {
   "cell_type": "code",
   "execution_count": 59,
   "metadata": {},
   "outputs": [
    {
     "data": {
      "text/html": [
       "<div>\n",
       "<style scoped>\n",
       "    .dataframe tbody tr th:only-of-type {\n",
       "        vertical-align: middle;\n",
       "    }\n",
       "\n",
       "    .dataframe tbody tr th {\n",
       "        vertical-align: top;\n",
       "    }\n",
       "\n",
       "    .dataframe thead th {\n",
       "        text-align: right;\n",
       "    }\n",
       "</style>\n",
       "<table border=\"1\" class=\"dataframe\">\n",
       "  <thead>\n",
       "    <tr style=\"text-align: right;\">\n",
       "      <th></th>\n",
       "      <th>electricity_consumption_gwh</th>\n",
       "    </tr>\n",
       "    <tr>\n",
       "      <th>year</th>\n",
       "      <th></th>\n",
       "    </tr>\n",
       "  </thead>\n",
       "  <tbody>\n",
       "    <tr>\n",
       "      <th>2005</th>\n",
       "      <td>3712.420000</td>\n",
       "    </tr>\n",
       "    <tr>\n",
       "      <th>2006</th>\n",
       "      <td>3780.780000</td>\n",
       "    </tr>\n",
       "    <tr>\n",
       "      <th>2007</th>\n",
       "      <td>3809.960000</td>\n",
       "    </tr>\n",
       "    <tr>\n",
       "      <th>2008</th>\n",
       "      <td>3931.230000</td>\n",
       "    </tr>\n",
       "    <tr>\n",
       "      <th>2009</th>\n",
       "      <td>4050.850000</td>\n",
       "    </tr>\n",
       "    <tr>\n",
       "      <th>2010</th>\n",
       "      <td>4346.160000</td>\n",
       "    </tr>\n",
       "    <tr>\n",
       "      <th>2011</th>\n",
       "      <td>4454.690000</td>\n",
       "    </tr>\n",
       "    <tr>\n",
       "      <th>2012</th>\n",
       "      <td>4522.600000</td>\n",
       "    </tr>\n",
       "    <tr>\n",
       "      <th>2013</th>\n",
       "      <td>4532.390000</td>\n",
       "    </tr>\n",
       "    <tr>\n",
       "      <th>2014</th>\n",
       "      <td>4485.740000</td>\n",
       "    </tr>\n",
       "    <tr>\n",
       "      <th>2015</th>\n",
       "      <td>4454.570000</td>\n",
       "    </tr>\n",
       "    <tr>\n",
       "      <th>2016</th>\n",
       "      <td>4497.020000</td>\n",
       "    </tr>\n",
       "    <tr>\n",
       "      <th>2017</th>\n",
       "      <td>4700.880000</td>\n",
       "    </tr>\n",
       "    <tr>\n",
       "      <th>2018</th>\n",
       "      <td>4636.180000</td>\n",
       "    </tr>\n",
       "    <tr>\n",
       "      <th>2019</th>\n",
       "      <td>4865.360000</td>\n",
       "    </tr>\n",
       "    <tr>\n",
       "      <th>2020</th>\n",
       "      <td>2514.581896</td>\n",
       "    </tr>\n",
       "  </tbody>\n",
       "</table>\n",
       "</div>"
      ],
      "text/plain": [
       "      electricity_consumption_gwh\n",
       "year                             \n",
       "2005                  3712.420000\n",
       "2006                  3780.780000\n",
       "2007                  3809.960000\n",
       "2008                  3931.230000\n",
       "2009                  4050.850000\n",
       "2010                  4346.160000\n",
       "2011                  4454.690000\n",
       "2012                  4522.600000\n",
       "2013                  4532.390000\n",
       "2014                  4485.740000\n",
       "2015                  4454.570000\n",
       "2016                  4497.020000\n",
       "2017                  4700.880000\n",
       "2018                  4636.180000\n",
       "2019                  4865.360000\n",
       "2020                  2514.581896"
      ]
     },
     "execution_count": 59,
     "metadata": {},
     "output_type": "execute_result"
    }
   ],
   "source": [
    "rea = energy_final[energy_final['subsector'] == 'Real Estate Activities'][['electricity_consumption_gwh']]\n",
    "rea"
   ]
  },
  {
   "cell_type": "code",
   "execution_count": 60,
   "metadata": {},
   "outputs": [
    {
     "data": {
      "text/plain": [
       "[<matplotlib.lines.Line2D at 0x7f980c7388b0>]"
      ]
     },
     "execution_count": 60,
     "metadata": {},
     "output_type": "execute_result"
    },
    {
     "data": {
      "image/png": "[encoded data removed]",
      "text/plain": [
       "<Figure size 648x432 with 1 Axes>"
      ]
     },
     "metadata": {
      "needs_background": "light"
     },
     "output_type": "display_data"
    }
   ],
   "source": [
    "plt.figure(figsize=(9, 6))\n",
    "plt.plot(rea['electricity_consumption_gwh'])"
   ]
  },
  {
   "cell_type": "markdown",
   "metadata": {},
   "source": [
    "#### 7. Analyze `Other Commercial-Related` data"
   ]
  },
  {
   "cell_type": "code",
   "execution_count": 61,
   "metadata": {},
   "outputs": [
    {
     "data": {
      "text/html": [
       "<div>\n",
       "<style scoped>\n",
       "    .dataframe tbody tr th:only-of-type {\n",
       "        vertical-align: middle;\n",
       "    }\n",
       "\n",
       "    .dataframe tbody tr th {\n",
       "        vertical-align: top;\n",
       "    }\n",
       "\n",
       "    .dataframe thead th {\n",
       "        text-align: right;\n",
       "    }\n",
       "</style>\n",
       "<table border=\"1\" class=\"dataframe\">\n",
       "  <thead>\n",
       "    <tr style=\"text-align: right;\">\n",
       "      <th></th>\n",
       "      <th>electricity_consumption_gwh</th>\n",
       "    </tr>\n",
       "    <tr>\n",
       "      <th>year</th>\n",
       "      <th></th>\n",
       "    </tr>\n",
       "  </thead>\n",
       "  <tbody>\n",
       "    <tr>\n",
       "      <th>2005</th>\n",
       "      <td>3612.700000</td>\n",
       "    </tr>\n",
       "    <tr>\n",
       "      <th>2006</th>\n",
       "      <td>3831.810000</td>\n",
       "    </tr>\n",
       "    <tr>\n",
       "      <th>2007</th>\n",
       "      <td>4077.170000</td>\n",
       "    </tr>\n",
       "    <tr>\n",
       "      <th>2008</th>\n",
       "      <td>4275.670000</td>\n",
       "    </tr>\n",
       "    <tr>\n",
       "      <th>2009</th>\n",
       "      <td>4248.810000</td>\n",
       "    </tr>\n",
       "    <tr>\n",
       "      <th>2010</th>\n",
       "      <td>4242.730000</td>\n",
       "    </tr>\n",
       "    <tr>\n",
       "      <th>2011</th>\n",
       "      <td>4345.440000</td>\n",
       "    </tr>\n",
       "    <tr>\n",
       "      <th>2012</th>\n",
       "      <td>4439.580000</td>\n",
       "    </tr>\n",
       "    <tr>\n",
       "      <th>2013</th>\n",
       "      <td>4552.800000</td>\n",
       "    </tr>\n",
       "    <tr>\n",
       "      <th>2014</th>\n",
       "      <td>4658.540000</td>\n",
       "    </tr>\n",
       "    <tr>\n",
       "      <th>2015</th>\n",
       "      <td>4710.280000</td>\n",
       "    </tr>\n",
       "    <tr>\n",
       "      <th>2016</th>\n",
       "      <td>4782.600000</td>\n",
       "    </tr>\n",
       "    <tr>\n",
       "      <th>2017</th>\n",
       "      <td>4743.890000</td>\n",
       "    </tr>\n",
       "    <tr>\n",
       "      <th>2018</th>\n",
       "      <td>4860.080000</td>\n",
       "    </tr>\n",
       "    <tr>\n",
       "      <th>2019</th>\n",
       "      <td>4982.240000</td>\n",
       "    </tr>\n",
       "    <tr>\n",
       "      <th>2020</th>\n",
       "      <td>2558.787853</td>\n",
       "    </tr>\n",
       "  </tbody>\n",
       "</table>\n",
       "</div>"
      ],
      "text/plain": [
       "      electricity_consumption_gwh\n",
       "year                             \n",
       "2005                  3612.700000\n",
       "2006                  3831.810000\n",
       "2007                  4077.170000\n",
       "2008                  4275.670000\n",
       "2009                  4248.810000\n",
       "2010                  4242.730000\n",
       "2011                  4345.440000\n",
       "2012                  4439.580000\n",
       "2013                  4552.800000\n",
       "2014                  4658.540000\n",
       "2015                  4710.280000\n",
       "2016                  4782.600000\n",
       "2017                  4743.890000\n",
       "2018                  4860.080000\n",
       "2019                  4982.240000\n",
       "2020                  2558.787853"
      ]
     },
     "execution_count": 61,
     "metadata": {},
     "output_type": "execute_result"
    }
   ],
   "source": [
    "other2 = energy_final[energy_final['subsector'] == 'Other Commercial-Related'][['electricity_consumption_gwh']]\n",
    "other2"
   ]
  },
  {
   "cell_type": "code",
   "execution_count": 62,
   "metadata": {},
   "outputs": [
    {
     "data": {
      "text/plain": [
       "[<matplotlib.lines.Line2D at 0x7f980d5ce9d0>]"
      ]
     },
     "execution_count": 62,
     "metadata": {},
     "output_type": "execute_result"
    },
    {
     "data": {
      "image/png": "[encoded data removed]",
      "text/plain": [
       "<Figure size 648x432 with 1 Axes>"
      ]
     },
     "metadata": {
      "needs_background": "light"
     },
     "output_type": "display_data"
    }
   ],
   "source": [
    "plt.figure(figsize=(9, 6))\n",
    "plt.plot(other2['electricity_consumption_gwh'])"
   ]
  },
  {
   "cell_type": "markdown",
   "metadata": {},
   "source": [
    "### 4.6. Analyze Transport-Related sector\n",
    "[top](#Contents)"
   ]
  },
  {
   "cell_type": "code",
   "execution_count": 63,
   "metadata": {},
   "outputs": [
    {
     "data": {
      "text/html": [
       "<div>\n",
       "<style scoped>\n",
       "    .dataframe tbody tr th:only-of-type {\n",
       "        vertical-align: middle;\n",
       "    }\n",
       "\n",
       "    .dataframe tbody tr th {\n",
       "        vertical-align: top;\n",
       "    }\n",
       "\n",
       "    .dataframe thead th {\n",
       "        text-align: right;\n",
       "    }\n",
       "</style>\n",
       "<table border=\"1\" class=\"dataframe\">\n",
       "  <thead>\n",
       "    <tr style=\"text-align: right;\">\n",
       "      <th></th>\n",
       "      <th>electricity_consumption_gwh</th>\n",
       "    </tr>\n",
       "    <tr>\n",
       "      <th>year</th>\n",
       "      <th></th>\n",
       "    </tr>\n",
       "  </thead>\n",
       "  <tbody>\n",
       "    <tr>\n",
       "      <th>2005</th>\n",
       "      <td>1200.010000</td>\n",
       "    </tr>\n",
       "    <tr>\n",
       "      <th>2006</th>\n",
       "      <td>1245.390000</td>\n",
       "    </tr>\n",
       "    <tr>\n",
       "      <th>2007</th>\n",
       "      <td>1300.160000</td>\n",
       "    </tr>\n",
       "    <tr>\n",
       "      <th>2008</th>\n",
       "      <td>1399.830000</td>\n",
       "    </tr>\n",
       "    <tr>\n",
       "      <th>2009</th>\n",
       "      <td>1607.810000</td>\n",
       "    </tr>\n",
       "    <tr>\n",
       "      <th>2010</th>\n",
       "      <td>2098.680000</td>\n",
       "    </tr>\n",
       "    <tr>\n",
       "      <th>2011</th>\n",
       "      <td>2224.170000</td>\n",
       "    </tr>\n",
       "    <tr>\n",
       "      <th>2012</th>\n",
       "      <td>2328.590000</td>\n",
       "    </tr>\n",
       "    <tr>\n",
       "      <th>2013</th>\n",
       "      <td>2369.090000</td>\n",
       "    </tr>\n",
       "    <tr>\n",
       "      <th>2014</th>\n",
       "      <td>2441.030000</td>\n",
       "    </tr>\n",
       "    <tr>\n",
       "      <th>2015</th>\n",
       "      <td>2444.830000</td>\n",
       "    </tr>\n",
       "    <tr>\n",
       "      <th>2016</th>\n",
       "      <td>2639.370000</td>\n",
       "    </tr>\n",
       "    <tr>\n",
       "      <th>2017</th>\n",
       "      <td>2750.760000</td>\n",
       "    </tr>\n",
       "    <tr>\n",
       "      <th>2018</th>\n",
       "      <td>2943.620000</td>\n",
       "    </tr>\n",
       "    <tr>\n",
       "      <th>2019</th>\n",
       "      <td>3020.930000</td>\n",
       "    </tr>\n",
       "    <tr>\n",
       "      <th>2020</th>\n",
       "      <td>1608.405576</td>\n",
       "    </tr>\n",
       "  </tbody>\n",
       "</table>\n",
       "</div>"
      ],
      "text/plain": [
       "      electricity_consumption_gwh\n",
       "year                             \n",
       "2005                  1200.010000\n",
       "2006                  1245.390000\n",
       "2007                  1300.160000\n",
       "2008                  1399.830000\n",
       "2009                  1607.810000\n",
       "2010                  2098.680000\n",
       "2011                  2224.170000\n",
       "2012                  2328.590000\n",
       "2013                  2369.090000\n",
       "2014                  2441.030000\n",
       "2015                  2444.830000\n",
       "2016                  2639.370000\n",
       "2017                  2750.760000\n",
       "2018                  2943.620000\n",
       "2019                  3020.930000\n",
       "2020                  1608.405576"
      ]
     },
     "execution_count": 63,
     "metadata": {},
     "output_type": "execute_result"
    }
   ],
   "source": [
    "tran = energy_final[energy_final['sector'] == 'Transport-Related'][['electricity_consumption_gwh']]\n",
    "tran"
   ]
  },
  {
   "cell_type": "code",
   "execution_count": 64,
   "metadata": {},
   "outputs": [
    {
     "data": {
      "text/plain": [
       "[<matplotlib.lines.Line2D at 0x7f980d6350d0>]"
      ]
     },
     "execution_count": 64,
     "metadata": {},
     "output_type": "execute_result"
    },
    {
     "data": {
      "image/png": "[encoded data removed]",
      "text/plain": [
       "<Figure size 648x432 with 1 Axes>"
      ]
     },
     "metadata": {
      "needs_background": "light"
     },
     "output_type": "display_data"
    }
   ],
   "source": [
    "plt.figure(figsize=(9, 6))\n",
    "plt.plot(tran['electricity_consumption_gwh'])"
   ]
  },
  {
   "cell_type": "markdown",
   "metadata": {},
   "source": [
    "### 4.7. Analyze Households sector\n",
    "[top](#Contents)"
   ]
  },
  {
   "cell_type": "code",
   "execution_count": 65,
   "metadata": {},
   "outputs": [
    {
     "data": {
      "text/html": [
       "<div>\n",
       "<style scoped>\n",
       "    .dataframe tbody tr th:only-of-type {\n",
       "        vertical-align: middle;\n",
       "    }\n",
       "\n",
       "    .dataframe tbody tr th {\n",
       "        vertical-align: top;\n",
       "    }\n",
       "\n",
       "    .dataframe thead th {\n",
       "        text-align: right;\n",
       "    }\n",
       "</style>\n",
       "<table border=\"1\" class=\"dataframe\">\n",
       "  <thead>\n",
       "    <tr style=\"text-align: right;\">\n",
       "      <th></th>\n",
       "      <th>electricity_consumption_gwh</th>\n",
       "    </tr>\n",
       "    <tr>\n",
       "      <th>year</th>\n",
       "      <th></th>\n",
       "    </tr>\n",
       "  </thead>\n",
       "  <tbody>\n",
       "    <tr>\n",
       "      <th>2005</th>\n",
       "      <td>6092.460000</td>\n",
       "    </tr>\n",
       "    <tr>\n",
       "      <th>2006</th>\n",
       "      <td>6109.130000</td>\n",
       "    </tr>\n",
       "    <tr>\n",
       "      <th>2007</th>\n",
       "      <td>6163.740000</td>\n",
       "    </tr>\n",
       "    <tr>\n",
       "      <th>2008</th>\n",
       "      <td>6094.030000</td>\n",
       "    </tr>\n",
       "    <tr>\n",
       "      <th>2009</th>\n",
       "      <td>6430.800000</td>\n",
       "    </tr>\n",
       "    <tr>\n",
       "      <th>2010</th>\n",
       "      <td>6635.970000</td>\n",
       "    </tr>\n",
       "    <tr>\n",
       "      <th>2011</th>\n",
       "      <td>6482.700000</td>\n",
       "    </tr>\n",
       "    <tr>\n",
       "      <th>2012</th>\n",
       "      <td>6629.530000</td>\n",
       "    </tr>\n",
       "    <tr>\n",
       "      <th>2013</th>\n",
       "      <td>6754.910000</td>\n",
       "    </tr>\n",
       "    <tr>\n",
       "      <th>2014</th>\n",
       "      <td>6924.390000</td>\n",
       "    </tr>\n",
       "    <tr>\n",
       "      <th>2015</th>\n",
       "      <td>7220.930000</td>\n",
       "    </tr>\n",
       "    <tr>\n",
       "      <th>2016</th>\n",
       "      <td>7589.440000</td>\n",
       "    </tr>\n",
       "    <tr>\n",
       "      <th>2017</th>\n",
       "      <td>7295.820000</td>\n",
       "    </tr>\n",
       "    <tr>\n",
       "      <th>2018</th>\n",
       "      <td>7221.430000</td>\n",
       "    </tr>\n",
       "    <tr>\n",
       "      <th>2019</th>\n",
       "      <td>7688.010000</td>\n",
       "    </tr>\n",
       "    <tr>\n",
       "      <th>2020</th>\n",
       "      <td>4861.229678</td>\n",
       "    </tr>\n",
       "  </tbody>\n",
       "</table>\n",
       "</div>"
      ],
      "text/plain": [
       "      electricity_consumption_gwh\n",
       "year                             \n",
       "2005                  6092.460000\n",
       "2006                  6109.130000\n",
       "2007                  6163.740000\n",
       "2008                  6094.030000\n",
       "2009                  6430.800000\n",
       "2010                  6635.970000\n",
       "2011                  6482.700000\n",
       "2012                  6629.530000\n",
       "2013                  6754.910000\n",
       "2014                  6924.390000\n",
       "2015                  7220.930000\n",
       "2016                  7589.440000\n",
       "2017                  7295.820000\n",
       "2018                  7221.430000\n",
       "2019                  7688.010000\n",
       "2020                  4861.229678"
      ]
     },
     "execution_count": 65,
     "metadata": {},
     "output_type": "execute_result"
    }
   ],
   "source": [
    "house = energy_final[energy_final['sector'] == 'Households'][['electricity_consumption_gwh']]\n",
    "house"
   ]
  },
  {
   "cell_type": "code",
   "execution_count": 66,
   "metadata": {},
   "outputs": [
    {
     "data": {
      "text/plain": [
       "[<matplotlib.lines.Line2D at 0x7f980d8171c0>]"
      ]
     },
     "execution_count": 66,
     "metadata": {},
     "output_type": "execute_result"
    },
    {
     "data": {
      "image/png": "[encoded data removed]",
      "text/plain": [
       "<Figure size 648x432 with 1 Axes>"
      ]
     },
     "metadata": {
      "needs_background": "light"
     },
     "output_type": "display_data"
    }
   ],
   "source": [
    "plt.figure(figsize=(9, 6))\n",
    "plt.plot(house['electricity_consumption_gwh'])"
   ]
  },
  {
   "cell_type": "markdown",
   "metadata": {},
   "source": [
    "Previously, when we merged the `energy_final` data, we made use of different electicity consumption for different household, we will look at the breakdown on different types of household."
   ]
  },
  {
   "cell_type": "code",
   "execution_count": 67,
   "metadata": {},
   "outputs": [
    {
     "data": {
      "text/plain": [
       "Index(['sector', 'subsector', 'electricity_consumption_gwh',\n",
       "       'mean_sunshine_hrs', 'overall', 'public_housing', '1-room_2-room',\n",
       "       '3-room', '4-room', '5-room_and_executive', 'private_housing',\n",
       "       'private_apts_and_condo', 'landed_properties', 'others'],\n",
       "      dtype='object')"
      ]
     },
     "execution_count": 67,
     "metadata": {},
     "output_type": "execute_result"
    }
   ],
   "source": [
    "energy_final.columns"
   ]
  },
  {
   "cell_type": "markdown",
   "metadata": {},
   "source": [
    "For energy consumption of households data, it can be further seperated into different residential types:\n",
    "\n",
    "- Public Housing\n",
    "        1. 1-room_2-room\n",
    "        2. 3-room\n",
    "        3. 4-room\n",
    "        4. 5-room_and_executive\n",
    "- Private Housing\n",
    "        1. private_apts_and_condo\n",
    "        2. landed_properties\n",
    "- others\n",
    "\n",
    "We will look at the energy comsumpted by each residential types one-by-one."
   ]
  },
  {
   "cell_type": "markdown",
   "metadata": {},
   "source": [
    "#### 4.7.1. Analyze Household: 1 room & 2 room data\n",
    "[top](#Contents)"
   ]
  },
  {
   "cell_type": "code",
   "execution_count": 68,
   "metadata": {},
   "outputs": [
    {
     "data": {
      "text/plain": [
       "[<matplotlib.lines.Line2D at 0x7f980d85bd00>]"
      ]
     },
     "execution_count": 68,
     "metadata": {},
     "output_type": "execute_result"
    },
    {
     "data": {
      "image/png": "[encoded data removed]",
      "text/plain": [
       "<Figure size 648x432 with 1 Axes>"
      ]
     },
     "metadata": {
      "needs_background": "light"
     },
     "output_type": "display_data"
    }
   ],
   "source": [
    "plt.figure(figsize=(9, 6))\n",
    "plt.plot(energy_final['1-room_2-room'])"
   ]
  },
  {
   "cell_type": "markdown",
   "metadata": {},
   "source": [
    "#### 4.7.2. Analyze Household: 3 room data\n",
    "[top](#Contents)"
   ]
  },
  {
   "cell_type": "code",
   "execution_count": 69,
   "metadata": {},
   "outputs": [
    {
     "data": {
      "text/plain": [
       "[<matplotlib.lines.Line2D at 0x7f980d984cd0>]"
      ]
     },
     "execution_count": 69,
     "metadata": {},
     "output_type": "execute_result"
    },
    {
     "data": {
      "image/png": "[encoded data removed]",
      "text/plain": [
       "<Figure size 648x432 with 1 Axes>"
      ]
     },
     "metadata": {
      "needs_background": "light"
     },
     "output_type": "display_data"
    }
   ],
   "source": [
    "plt.figure(figsize=(9, 6))\n",
    "plt.plot(energy_final['3-room'])"
   ]
  },
  {
   "cell_type": "markdown",
   "metadata": {},
   "source": [
    "#### 4.7.3. Analyze Household: 4 room data\n",
    "[top](#Contents)"
   ]
  },
  {
   "cell_type": "code",
   "execution_count": 77,
   "metadata": {},
   "outputs": [
    {
     "data": {
      "text/plain": [
       "[<matplotlib.lines.Line2D at 0x7f980d966940>]"
      ]
     },
     "execution_count": 77,
     "metadata": {},
     "output_type": "execute_result"
    },
    {
     "data": {
      "image/png": "[encoded data removed]",
      "text/plain": [
       "<Figure size 648x432 with 1 Axes>"
      ]
     },
     "metadata": {
      "needs_background": "light"
     },
     "output_type": "display_data"
    }
   ],
   "source": [
    "plt.figure(figsize=(9, 6))\n",
    "plt.plot(energy_final['4-room'],marker='o')"
   ]
  },
  {
   "cell_type": "code",
   "execution_count": 80,
   "metadata": {},
   "outputs": [
    {
     "data": {
      "text/plain": [
       "<AxesSubplot:>"
      ]
     },
     "execution_count": 80,
     "metadata": {},
     "output_type": "execute_result"
    },
    {
     "data": {
      "image/png": "[encoded data removed]",
      "text/plain": [
       "<Figure size 432x288 with 1 Axes>"
      ]
     },
     "metadata": {
      "needs_background": "light"
     },
     "output_type": "display_data"
    }
   ],
   "source": [
    "household['4-room'].plot()"
   ]
  },
  {
   "cell_type": "code",
   "execution_count": 96,
   "metadata": {},
   "outputs": [
    {
     "data": {
      "text/html": [
       "<div>\n",
       "<style scoped>\n",
       "    .dataframe tbody tr th:only-of-type {\n",
       "        vertical-align: middle;\n",
       "    }\n",
       "\n",
       "    .dataframe tbody tr th {\n",
       "        vertical-align: top;\n",
       "    }\n",
       "\n",
       "    .dataframe thead th {\n",
       "        text-align: right;\n",
       "    }\n",
       "</style>\n",
       "<table border=\"1\" class=\"dataframe\">\n",
       "  <thead>\n",
       "    <tr style=\"text-align: right;\">\n",
       "      <th></th>\n",
       "      <th>month</th>\n",
       "      <th>overall</th>\n",
       "      <th>public_housing</th>\n",
       "      <th>1-room_2-room</th>\n",
       "      <th>3-room</th>\n",
       "      <th>4-room</th>\n",
       "      <th>5-room_and_executive</th>\n",
       "      <th>private_housing</th>\n",
       "      <th>private_apts_and_condo</th>\n",
       "      <th>landed_properties</th>\n",
       "      <th>others</th>\n",
       "      <th>year</th>\n",
       "    </tr>\n",
       "  </thead>\n",
       "  <tbody>\n",
       "    <tr>\n",
       "      <th>167</th>\n",
       "      <td>2018-12</td>\n",
       "      <td>563.5</td>\n",
       "      <td>330.8</td>\n",
       "      <td>11.1</td>\n",
       "      <td>58.9</td>\n",
       "      <td>137.6</td>\n",
       "      <td>123.3</td>\n",
       "      <td>232.0</td>\n",
       "      <td>153.6</td>\n",
       "      <td>78.4</td>\n",
       "      <td>0.7</td>\n",
       "      <td>2018</td>\n",
       "    </tr>\n",
       "    <tr>\n",
       "      <th>168</th>\n",
       "      <td>2019-01</td>\n",
       "      <td>594.1</td>\n",
       "      <td>343.4</td>\n",
       "      <td>11.5</td>\n",
       "      <td>61.1</td>\n",
       "      <td>143.3</td>\n",
       "      <td>127.4</td>\n",
       "      <td>249.8</td>\n",
       "      <td>163.0</td>\n",
       "      <td>86.9</td>\n",
       "      <td>0.8</td>\n",
       "      <td>2019</td>\n",
       "    </tr>\n",
       "    <tr>\n",
       "      <th>169</th>\n",
       "      <td>2019-02</td>\n",
       "      <td>613.6</td>\n",
       "      <td>356.0</td>\n",
       "      <td>11.7</td>\n",
       "      <td>62.3</td>\n",
       "      <td>148.5</td>\n",
       "      <td>133.4</td>\n",
       "      <td>256.7</td>\n",
       "      <td>167.6</td>\n",
       "      <td>89.1</td>\n",
       "      <td>0.8</td>\n",
       "      <td>2019</td>\n",
       "    </tr>\n",
       "    <tr>\n",
       "      <th>170</th>\n",
       "      <td>2019-03</td>\n",
       "      <td>598.2</td>\n",
       "      <td>340.9</td>\n",
       "      <td>11.2</td>\n",
       "      <td>59.6</td>\n",
       "      <td>142.0</td>\n",
       "      <td>128.0</td>\n",
       "      <td>256.5</td>\n",
       "      <td>167.8</td>\n",
       "      <td>88.7</td>\n",
       "      <td>0.8</td>\n",
       "      <td>2019</td>\n",
       "    </tr>\n",
       "    <tr>\n",
       "      <th>171</th>\n",
       "      <td>2019-04</td>\n",
       "      <td>653.1</td>\n",
       "      <td>374.6</td>\n",
       "      <td>12.3</td>\n",
       "      <td>66.2</td>\n",
       "      <td>155.9</td>\n",
       "      <td>140.2</td>\n",
       "      <td>277.6</td>\n",
       "      <td>183.6</td>\n",
       "      <td>94.0</td>\n",
       "      <td>0.9</td>\n",
       "      <td>2019</td>\n",
       "    </tr>\n",
       "    <tr>\n",
       "      <th>172</th>\n",
       "      <td>2019-05</td>\n",
       "      <td>670.5</td>\n",
       "      <td>385.9</td>\n",
       "      <td>12.8</td>\n",
       "      <td>68.3</td>\n",
       "      <td>160.7</td>\n",
       "      <td>144.0</td>\n",
       "      <td>283.7</td>\n",
       "      <td>190.0</td>\n",
       "      <td>93.7</td>\n",
       "      <td>0.9</td>\n",
       "      <td>2019</td>\n",
       "    </tr>\n",
       "    <tr>\n",
       "      <th>173</th>\n",
       "      <td>2019-06</td>\n",
       "      <td>692.3</td>\n",
       "      <td>400.5</td>\n",
       "      <td>13.4</td>\n",
       "      <td>70.3</td>\n",
       "      <td>167.1</td>\n",
       "      <td>149.6</td>\n",
       "      <td>290.9</td>\n",
       "      <td>194.9</td>\n",
       "      <td>96.0</td>\n",
       "      <td>0.9</td>\n",
       "      <td>2019</td>\n",
       "    </tr>\n",
       "    <tr>\n",
       "      <th>174</th>\n",
       "      <td>2019-07</td>\n",
       "      <td>647.5</td>\n",
       "      <td>379.0</td>\n",
       "      <td>12.8</td>\n",
       "      <td>66.4</td>\n",
       "      <td>158.5</td>\n",
       "      <td>141.3</td>\n",
       "      <td>267.7</td>\n",
       "      <td>178.1</td>\n",
       "      <td>89.6</td>\n",
       "      <td>0.8</td>\n",
       "      <td>2019</td>\n",
       "    </tr>\n",
       "    <tr>\n",
       "      <th>175</th>\n",
       "      <td>2019-08</td>\n",
       "      <td>667.2</td>\n",
       "      <td>389.6</td>\n",
       "      <td>13.2</td>\n",
       "      <td>68.8</td>\n",
       "      <td>162.6</td>\n",
       "      <td>145.0</td>\n",
       "      <td>276.7</td>\n",
       "      <td>183.2</td>\n",
       "      <td>93.5</td>\n",
       "      <td>0.8</td>\n",
       "      <td>2019</td>\n",
       "    </tr>\n",
       "    <tr>\n",
       "      <th>176</th>\n",
       "      <td>2019-09</td>\n",
       "      <td>688.5</td>\n",
       "      <td>397.3</td>\n",
       "      <td>13.3</td>\n",
       "      <td>69.6</td>\n",
       "      <td>165.7</td>\n",
       "      <td>148.6</td>\n",
       "      <td>290.3</td>\n",
       "      <td>192.1</td>\n",
       "      <td>98.2</td>\n",
       "      <td>0.9</td>\n",
       "      <td>2019</td>\n",
       "    </tr>\n",
       "    <tr>\n",
       "      <th>177</th>\n",
       "      <td>2019-10</td>\n",
       "      <td>664.9</td>\n",
       "      <td>380.2</td>\n",
       "      <td>13.0</td>\n",
       "      <td>66.6</td>\n",
       "      <td>158.5</td>\n",
       "      <td>142.1</td>\n",
       "      <td>283.9</td>\n",
       "      <td>188.8</td>\n",
       "      <td>95.1</td>\n",
       "      <td>0.9</td>\n",
       "      <td>2019</td>\n",
       "    </tr>\n",
       "    <tr>\n",
       "      <th>178</th>\n",
       "      <td>2019-11</td>\n",
       "      <td>639.7</td>\n",
       "      <td>367.5</td>\n",
       "      <td>12.8</td>\n",
       "      <td>64.5</td>\n",
       "      <td>153.4</td>\n",
       "      <td>136.7</td>\n",
       "      <td>271.4</td>\n",
       "      <td>180.7</td>\n",
       "      <td>90.7</td>\n",
       "      <td>0.9</td>\n",
       "      <td>2019</td>\n",
       "    </tr>\n",
       "    <tr>\n",
       "      <th>179</th>\n",
       "      <td>2019-12</td>\n",
       "      <td>588.9</td>\n",
       "      <td>340.1</td>\n",
       "      <td>12.0</td>\n",
       "      <td>60.0</td>\n",
       "      <td>141.8</td>\n",
       "      <td>126.2</td>\n",
       "      <td>248.0</td>\n",
       "      <td>165.1</td>\n",
       "      <td>82.9</td>\n",
       "      <td>0.8</td>\n",
       "      <td>2019</td>\n",
       "    </tr>\n",
       "    <tr>\n",
       "      <th>180</th>\n",
       "      <td>2020-01</td>\n",
       "      <td>565.5</td>\n",
       "      <td>328.3</td>\n",
       "      <td>11.7</td>\n",
       "      <td>58.1</td>\n",
       "      <td>137.7</td>\n",
       "      <td>120.8</td>\n",
       "      <td>236.4</td>\n",
       "      <td>155.0</td>\n",
       "      <td>81.4</td>\n",
       "      <td>0.7</td>\n",
       "      <td>2020</td>\n",
       "    </tr>\n",
       "    <tr>\n",
       "      <th>181</th>\n",
       "      <td>2020-02</td>\n",
       "      <td>599.5</td>\n",
       "      <td>346.8</td>\n",
       "      <td>12.1</td>\n",
       "      <td>61.2</td>\n",
       "      <td>145.0</td>\n",
       "      <td>128.6</td>\n",
       "      <td>251.8</td>\n",
       "      <td>163.9</td>\n",
       "      <td>87.9</td>\n",
       "      <td>0.8</td>\n",
       "      <td>2020</td>\n",
       "    </tr>\n",
       "    <tr>\n",
       "      <th>182</th>\n",
       "      <td>2020-03</td>\n",
       "      <td>620.6</td>\n",
       "      <td>354.6</td>\n",
       "      <td>12.3</td>\n",
       "      <td>62.0</td>\n",
       "      <td>148.2</td>\n",
       "      <td>132.1</td>\n",
       "      <td>265.2</td>\n",
       "      <td>175.3</td>\n",
       "      <td>90.0</td>\n",
       "      <td>0.8</td>\n",
       "      <td>2020</td>\n",
       "    </tr>\n",
       "    <tr>\n",
       "      <th>183</th>\n",
       "      <td>2020-04</td>\n",
       "      <td>669.9</td>\n",
       "      <td>383.4</td>\n",
       "      <td>13.3</td>\n",
       "      <td>66.8</td>\n",
       "      <td>160.6</td>\n",
       "      <td>142.6</td>\n",
       "      <td>285.7</td>\n",
       "      <td>187.7</td>\n",
       "      <td>97.9</td>\n",
       "      <td>0.9</td>\n",
       "      <td>2020</td>\n",
       "    </tr>\n",
       "    <tr>\n",
       "      <th>184</th>\n",
       "      <td>2020-05</td>\n",
       "      <td>663.3</td>\n",
       "      <td>381.9</td>\n",
       "      <td>13.7</td>\n",
       "      <td>67.4</td>\n",
       "      <td>160.2</td>\n",
       "      <td>140.6</td>\n",
       "      <td>280.5</td>\n",
       "      <td>183.9</td>\n",
       "      <td>96.6</td>\n",
       "      <td>1.0</td>\n",
       "      <td>2020</td>\n",
       "    </tr>\n",
       "    <tr>\n",
       "      <th>185</th>\n",
       "      <td>2020-06</td>\n",
       "      <td>869.7</td>\n",
       "      <td>501.6</td>\n",
       "      <td>17.3</td>\n",
       "      <td>86.8</td>\n",
       "      <td>209.3</td>\n",
       "      <td>188.2</td>\n",
       "      <td>367.0</td>\n",
       "      <td>253.3</td>\n",
       "      <td>113.7</td>\n",
       "      <td>1.1</td>\n",
       "      <td>2020</td>\n",
       "    </tr>\n",
       "    <tr>\n",
       "      <th>186</th>\n",
       "      <td>2020-07</td>\n",
       "      <td>886.7</td>\n",
       "      <td>515.2</td>\n",
       "      <td>18.1</td>\n",
       "      <td>87.1</td>\n",
       "      <td>215.2</td>\n",
       "      <td>194.8</td>\n",
       "      <td>370.6</td>\n",
       "      <td>259.6</td>\n",
       "      <td>111.0</td>\n",
       "      <td>1.0</td>\n",
       "      <td>2020</td>\n",
       "    </tr>\n",
       "  </tbody>\n",
       "</table>\n",
       "</div>"
      ],
      "text/plain": [
       "       month  overall  public_housing  1-room_2-room  3-room  4-room  \\\n",
       "167  2018-12    563.5           330.8           11.1    58.9   137.6   \n",
       "168  2019-01    594.1           343.4           11.5    61.1   143.3   \n",
       "169  2019-02    613.6           356.0           11.7    62.3   148.5   \n",
       "170  2019-03    598.2           340.9           11.2    59.6   142.0   \n",
       "171  2019-04    653.1           374.6           12.3    66.2   155.9   \n",
       "172  2019-05    670.5           385.9           12.8    68.3   160.7   \n",
       "173  2019-06    692.3           400.5           13.4    70.3   167.1   \n",
       "174  2019-07    647.5           379.0           12.8    66.4   158.5   \n",
       "175  2019-08    667.2           389.6           13.2    68.8   162.6   \n",
       "176  2019-09    688.5           397.3           13.3    69.6   165.7   \n",
       "177  2019-10    664.9           380.2           13.0    66.6   158.5   \n",
       "178  2019-11    639.7           367.5           12.8    64.5   153.4   \n",
       "179  2019-12    588.9           340.1           12.0    60.0   141.8   \n",
       "180  2020-01    565.5           328.3           11.7    58.1   137.7   \n",
       "181  2020-02    599.5           346.8           12.1    61.2   145.0   \n",
       "182  2020-03    620.6           354.6           12.3    62.0   148.2   \n",
       "183  2020-04    669.9           383.4           13.3    66.8   160.6   \n",
       "184  2020-05    663.3           381.9           13.7    67.4   160.2   \n",
       "185  2020-06    869.7           501.6           17.3    86.8   209.3   \n",
       "186  2020-07    886.7           515.2           18.1    87.1   215.2   \n",
       "\n",
       "     5-room_and_executive  private_housing  private_apts_and_condo  \\\n",
       "167                 123.3            232.0                   153.6   \n",
       "168                 127.4            249.8                   163.0   \n",
       "169                 133.4            256.7                   167.6   \n",
       "170                 128.0            256.5                   167.8   \n",
       "171                 140.2            277.6                   183.6   \n",
       "172                 144.0            283.7                   190.0   \n",
       "173                 149.6            290.9                   194.9   \n",
       "174                 141.3            267.7                   178.1   \n",
       "175                 145.0            276.7                   183.2   \n",
       "176                 148.6            290.3                   192.1   \n",
       "177                 142.1            283.9                   188.8   \n",
       "178                 136.7            271.4                   180.7   \n",
       "179                 126.2            248.0                   165.1   \n",
       "180                 120.8            236.4                   155.0   \n",
       "181                 128.6            251.8                   163.9   \n",
       "182                 132.1            265.2                   175.3   \n",
       "183                 142.6            285.7                   187.7   \n",
       "184                 140.6            280.5                   183.9   \n",
       "185                 188.2            367.0                   253.3   \n",
       "186                 194.8            370.6                   259.6   \n",
       "\n",
       "     landed_properties  others  year  \n",
       "167               78.4     0.7  2018  \n",
       "168               86.9     0.8  2019  \n",
       "169               89.1     0.8  2019  \n",
       "170               88.7     0.8  2019  \n",
       "171               94.0     0.9  2019  \n",
       "172               93.7     0.9  2019  \n",
       "173               96.0     0.9  2019  \n",
       "174               89.6     0.8  2019  \n",
       "175               93.5     0.8  2019  \n",
       "176               98.2     0.9  2019  \n",
       "177               95.1     0.9  2019  \n",
       "178               90.7     0.9  2019  \n",
       "179               82.9     0.8  2019  \n",
       "180               81.4     0.7  2020  \n",
       "181               87.9     0.8  2020  \n",
       "182               90.0     0.8  2020  \n",
       "183               97.9     0.9  2020  \n",
       "184               96.6     1.0  2020  \n",
       "185              113.7     1.1  2020  \n",
       "186              111.0     1.0  2020  "
      ]
     },
     "execution_count": 96,
     "metadata": {},
     "output_type": "execute_result"
    }
   ],
   "source": [
    "household  = household.sort_values('month')\n",
    "household = household.reset_index(drop=True)\n",
    "household.tail(20)"
   ]
  },
  {
   "cell_type": "code",
   "execution_count": 102,
   "metadata": {},
   "outputs": [
    {
     "data": {
      "text/plain": [
       "<AxesSubplot:>"
      ]
     },
     "execution_count": 102,
     "metadata": {},
     "output_type": "execute_result"
    },
    {
     "data": {
      "image/png": "[encoded data removed]",
      "text/plain": [
       "<Figure size 432x288 with 1 Axes>"
      ]
     },
     "metadata": {
      "needs_background": "light"
     },
     "output_type": "display_data"
    }
   ],
   "source": [
    "household['private_housing'].plot(marker='o')"
   ]
  },
  {
   "cell_type": "code",
   "execution_count": 104,
   "metadata": {},
   "outputs": [
    {
     "data": {
      "text/html": [
       "<div>\n",
       "<style scoped>\n",
       "    .dataframe tbody tr th:only-of-type {\n",
       "        vertical-align: middle;\n",
       "    }\n",
       "\n",
       "    .dataframe tbody tr th {\n",
       "        vertical-align: top;\n",
       "    }\n",
       "\n",
       "    .dataframe thead th {\n",
       "        text-align: right;\n",
       "    }\n",
       "</style>\n",
       "<table border=\"1\" class=\"dataframe\">\n",
       "  <thead>\n",
       "    <tr style=\"text-align: right;\">\n",
       "      <th></th>\n",
       "      <th>sector</th>\n",
       "      <th>subsector</th>\n",
       "      <th>electricity_consumption_gwh</th>\n",
       "      <th>mean_sunshine_hrs</th>\n",
       "      <th>overall</th>\n",
       "      <th>public_housing</th>\n",
       "      <th>1-room_2-room</th>\n",
       "      <th>3-room</th>\n",
       "      <th>4-room</th>\n",
       "      <th>5-room_and_executive</th>\n",
       "      <th>private_housing</th>\n",
       "      <th>private_apts_and_condo</th>\n",
       "      <th>landed_properties</th>\n",
       "      <th>others</th>\n",
       "    </tr>\n",
       "    <tr>\n",
       "      <th>year</th>\n",
       "      <th></th>\n",
       "      <th></th>\n",
       "      <th></th>\n",
       "      <th></th>\n",
       "      <th></th>\n",
       "      <th></th>\n",
       "      <th></th>\n",
       "      <th></th>\n",
       "      <th></th>\n",
       "      <th></th>\n",
       "      <th></th>\n",
       "      <th></th>\n",
       "      <th></th>\n",
       "      <th></th>\n",
       "    </tr>\n",
       "  </thead>\n",
       "  <tbody>\n",
       "    <tr>\n",
       "      <th>2020</th>\n",
       "      <td>Commercial-Related</td>\n",
       "      <td>Professional, Scientific</td>\n",
       "      <td>448.195719</td>\n",
       "      <td>6.13</td>\n",
       "      <td>4875.2</td>\n",
       "      <td>2811.8</td>\n",
       "      <td>98.5</td>\n",
       "      <td>489.4</td>\n",
       "      <td>1176.2</td>\n",
       "      <td>1047.7</td>\n",
       "      <td>2057.2</td>\n",
       "      <td>1378.7</td>\n",
       "      <td>678.5</td>\n",
       "      <td>6.3</td>\n",
       "    </tr>\n",
       "    <tr>\n",
       "      <th>2020</th>\n",
       "      <td>Commercial-Related</td>\n",
       "      <td>Other Commercial-Related</td>\n",
       "      <td>2558.787853</td>\n",
       "      <td>6.13</td>\n",
       "      <td>4875.2</td>\n",
       "      <td>2811.8</td>\n",
       "      <td>98.5</td>\n",
       "      <td>489.4</td>\n",
       "      <td>1176.2</td>\n",
       "      <td>1047.7</td>\n",
       "      <td>2057.2</td>\n",
       "      <td>1378.7</td>\n",
       "      <td>678.5</td>\n",
       "      <td>6.3</td>\n",
       "    </tr>\n",
       "    <tr>\n",
       "      <th>2020</th>\n",
       "      <td>Transport-Related</td>\n",
       "      <td>Transport-Related</td>\n",
       "      <td>1608.405576</td>\n",
       "      <td>6.13</td>\n",
       "      <td>4875.2</td>\n",
       "      <td>2811.8</td>\n",
       "      <td>98.5</td>\n",
       "      <td>489.4</td>\n",
       "      <td>1176.2</td>\n",
       "      <td>1047.7</td>\n",
       "      <td>2057.2</td>\n",
       "      <td>1378.7</td>\n",
       "      <td>678.5</td>\n",
       "      <td>6.3</td>\n",
       "    </tr>\n",
       "    <tr>\n",
       "      <th>2020</th>\n",
       "      <td>Households</td>\n",
       "      <td>Households</td>\n",
       "      <td>4861.229678</td>\n",
       "      <td>6.13</td>\n",
       "      <td>4875.2</td>\n",
       "      <td>2811.8</td>\n",
       "      <td>98.5</td>\n",
       "      <td>489.4</td>\n",
       "      <td>1176.2</td>\n",
       "      <td>1047.7</td>\n",
       "      <td>2057.2</td>\n",
       "      <td>1378.7</td>\n",
       "      <td>678.5</td>\n",
       "      <td>6.3</td>\n",
       "    </tr>\n",
       "    <tr>\n",
       "      <th>2020</th>\n",
       "      <td>Others</td>\n",
       "      <td>Others</td>\n",
       "      <td>129.865103</td>\n",
       "      <td>6.13</td>\n",
       "      <td>4875.2</td>\n",
       "      <td>2811.8</td>\n",
       "      <td>98.5</td>\n",
       "      <td>489.4</td>\n",
       "      <td>1176.2</td>\n",
       "      <td>1047.7</td>\n",
       "      <td>2057.2</td>\n",
       "      <td>1378.7</td>\n",
       "      <td>678.5</td>\n",
       "      <td>6.3</td>\n",
       "    </tr>\n",
       "  </tbody>\n",
       "</table>\n",
       "</div>"
      ],
      "text/plain": [
       "                  sector                 subsector  \\\n",
       "year                                                 \n",
       "2020  Commercial-Related  Professional, Scientific   \n",
       "2020  Commercial-Related  Other Commercial-Related   \n",
       "2020   Transport-Related         Transport-Related   \n",
       "2020          Households                Households   \n",
       "2020              Others                    Others   \n",
       "\n",
       "      electricity_consumption_gwh  mean_sunshine_hrs  overall  public_housing  \\\n",
       "year                                                                            \n",
       "2020                   448.195719               6.13   4875.2          2811.8   \n",
       "2020                  2558.787853               6.13   4875.2          2811.8   \n",
       "2020                  1608.405576               6.13   4875.2          2811.8   \n",
       "2020                  4861.229678               6.13   4875.2          2811.8   \n",
       "2020                   129.865103               6.13   4875.2          2811.8   \n",
       "\n",
       "      1-room_2-room  3-room  4-room  5-room_and_executive  private_housing  \\\n",
       "year                                                                         \n",
       "2020           98.5   489.4  1176.2                1047.7           2057.2   \n",
       "2020           98.5   489.4  1176.2                1047.7           2057.2   \n",
       "2020           98.5   489.4  1176.2                1047.7           2057.2   \n",
       "2020           98.5   489.4  1176.2                1047.7           2057.2   \n",
       "2020           98.5   489.4  1176.2                1047.7           2057.2   \n",
       "\n",
       "      private_apts_and_condo  landed_properties  others  \n",
       "year                                                     \n",
       "2020                  1378.7              678.5     6.3  \n",
       "2020                  1378.7              678.5     6.3  \n",
       "2020                  1378.7              678.5     6.3  \n",
       "2020                  1378.7              678.5     6.3  \n",
       "2020                  1378.7              678.5     6.3  "
      ]
     },
     "execution_count": 104,
     "metadata": {},
     "output_type": "execute_result"
    }
   ],
   "source": [
    "energy_final.tail()"
   ]
  },
  {
   "cell_type": "code",
   "execution_count": 117,
   "metadata": {},
   "outputs": [
    {
     "data": {
      "text/plain": [
       "<AxesSubplot:xlabel='year'>"
      ]
     },
     "execution_count": 117,
     "metadata": {},
     "output_type": "execute_result"
    },
    {
     "data": {
      "image/png": "[encoded data removed]",
      "text/plain": [
       "<Figure size 432x288 with 1 Axes>"
      ]
     },
     "metadata": {
      "needs_background": "light"
     },
     "output_type": "display_data"
    }
   ],
   "source": [
    "energy_final[(energy_final['sector']=='Commercial-Related') & (energy_final['subsector']=='Professional, Scientific')]['electricity_consumption_gwh'].plot()"
   ]
  },
  {
   "cell_type": "code",
   "execution_count": 95,
   "metadata": {},
   "outputs": [
    {
     "data": {
      "text/html": [
       "<div>\n",
       "<style scoped>\n",
       "    .dataframe tbody tr th:only-of-type {\n",
       "        vertical-align: middle;\n",
       "    }\n",
       "\n",
       "    .dataframe tbody tr th {\n",
       "        vertical-align: top;\n",
       "    }\n",
       "\n",
       "    .dataframe thead th {\n",
       "        text-align: right;\n",
       "    }\n",
       "</style>\n",
       "<table border=\"1\" class=\"dataframe\">\n",
       "  <thead>\n",
       "    <tr style=\"text-align: right;\">\n",
       "      <th></th>\n",
       "      <th>month</th>\n",
       "      <th>overall</th>\n",
       "      <th>public_housing</th>\n",
       "      <th>1-room_2-room</th>\n",
       "      <th>3-room</th>\n",
       "      <th>4-room</th>\n",
       "      <th>5-room_and_executive</th>\n",
       "      <th>private_housing</th>\n",
       "      <th>private_apts_and_condo</th>\n",
       "      <th>landed_properties</th>\n",
       "      <th>others</th>\n",
       "      <th>year</th>\n",
       "    </tr>\n",
       "  </thead>\n",
       "  <tbody>\n",
       "    <tr>\n",
       "      <th>179</th>\n",
       "      <td>2018-12</td>\n",
       "      <td>563.5</td>\n",
       "      <td>330.8</td>\n",
       "      <td>11.1</td>\n",
       "      <td>58.9</td>\n",
       "      <td>137.6</td>\n",
       "      <td>123.3</td>\n",
       "      <td>232.0</td>\n",
       "      <td>153.6</td>\n",
       "      <td>78.4</td>\n",
       "      <td>0.7</td>\n",
       "      <td>2018</td>\n",
       "    </tr>\n",
       "    <tr>\n",
       "      <th>0</th>\n",
       "      <td>2019-01</td>\n",
       "      <td>594.1</td>\n",
       "      <td>343.4</td>\n",
       "      <td>11.5</td>\n",
       "      <td>61.1</td>\n",
       "      <td>143.3</td>\n",
       "      <td>127.4</td>\n",
       "      <td>249.8</td>\n",
       "      <td>163.0</td>\n",
       "      <td>86.9</td>\n",
       "      <td>0.8</td>\n",
       "      <td>2019</td>\n",
       "    </tr>\n",
       "    <tr>\n",
       "      <th>1</th>\n",
       "      <td>2019-02</td>\n",
       "      <td>613.6</td>\n",
       "      <td>356.0</td>\n",
       "      <td>11.7</td>\n",
       "      <td>62.3</td>\n",
       "      <td>148.5</td>\n",
       "      <td>133.4</td>\n",
       "      <td>256.7</td>\n",
       "      <td>167.6</td>\n",
       "      <td>89.1</td>\n",
       "      <td>0.8</td>\n",
       "      <td>2019</td>\n",
       "    </tr>\n",
       "    <tr>\n",
       "      <th>2</th>\n",
       "      <td>2019-03</td>\n",
       "      <td>598.2</td>\n",
       "      <td>340.9</td>\n",
       "      <td>11.2</td>\n",
       "      <td>59.6</td>\n",
       "      <td>142.0</td>\n",
       "      <td>128.0</td>\n",
       "      <td>256.5</td>\n",
       "      <td>167.8</td>\n",
       "      <td>88.7</td>\n",
       "      <td>0.8</td>\n",
       "      <td>2019</td>\n",
       "    </tr>\n",
       "    <tr>\n",
       "      <th>3</th>\n",
       "      <td>2019-04</td>\n",
       "      <td>653.1</td>\n",
       "      <td>374.6</td>\n",
       "      <td>12.3</td>\n",
       "      <td>66.2</td>\n",
       "      <td>155.9</td>\n",
       "      <td>140.2</td>\n",
       "      <td>277.6</td>\n",
       "      <td>183.6</td>\n",
       "      <td>94.0</td>\n",
       "      <td>0.9</td>\n",
       "      <td>2019</td>\n",
       "    </tr>\n",
       "    <tr>\n",
       "      <th>4</th>\n",
       "      <td>2019-05</td>\n",
       "      <td>670.5</td>\n",
       "      <td>385.9</td>\n",
       "      <td>12.8</td>\n",
       "      <td>68.3</td>\n",
       "      <td>160.7</td>\n",
       "      <td>144.0</td>\n",
       "      <td>283.7</td>\n",
       "      <td>190.0</td>\n",
       "      <td>93.7</td>\n",
       "      <td>0.9</td>\n",
       "      <td>2019</td>\n",
       "    </tr>\n",
       "    <tr>\n",
       "      <th>5</th>\n",
       "      <td>2019-06</td>\n",
       "      <td>692.3</td>\n",
       "      <td>400.5</td>\n",
       "      <td>13.4</td>\n",
       "      <td>70.3</td>\n",
       "      <td>167.1</td>\n",
       "      <td>149.6</td>\n",
       "      <td>290.9</td>\n",
       "      <td>194.9</td>\n",
       "      <td>96.0</td>\n",
       "      <td>0.9</td>\n",
       "      <td>2019</td>\n",
       "    </tr>\n",
       "    <tr>\n",
       "      <th>6</th>\n",
       "      <td>2019-07</td>\n",
       "      <td>647.5</td>\n",
       "      <td>379.0</td>\n",
       "      <td>12.8</td>\n",
       "      <td>66.4</td>\n",
       "      <td>158.5</td>\n",
       "      <td>141.3</td>\n",
       "      <td>267.7</td>\n",
       "      <td>178.1</td>\n",
       "      <td>89.6</td>\n",
       "      <td>0.8</td>\n",
       "      <td>2019</td>\n",
       "    </tr>\n",
       "    <tr>\n",
       "      <th>7</th>\n",
       "      <td>2019-08</td>\n",
       "      <td>667.2</td>\n",
       "      <td>389.6</td>\n",
       "      <td>13.2</td>\n",
       "      <td>68.8</td>\n",
       "      <td>162.6</td>\n",
       "      <td>145.0</td>\n",
       "      <td>276.7</td>\n",
       "      <td>183.2</td>\n",
       "      <td>93.5</td>\n",
       "      <td>0.8</td>\n",
       "      <td>2019</td>\n",
       "    </tr>\n",
       "    <tr>\n",
       "      <th>8</th>\n",
       "      <td>2019-09</td>\n",
       "      <td>688.5</td>\n",
       "      <td>397.3</td>\n",
       "      <td>13.3</td>\n",
       "      <td>69.6</td>\n",
       "      <td>165.7</td>\n",
       "      <td>148.6</td>\n",
       "      <td>290.3</td>\n",
       "      <td>192.1</td>\n",
       "      <td>98.2</td>\n",
       "      <td>0.9</td>\n",
       "      <td>2019</td>\n",
       "    </tr>\n",
       "    <tr>\n",
       "      <th>9</th>\n",
       "      <td>2019-10</td>\n",
       "      <td>664.9</td>\n",
       "      <td>380.2</td>\n",
       "      <td>13.0</td>\n",
       "      <td>66.6</td>\n",
       "      <td>158.5</td>\n",
       "      <td>142.1</td>\n",
       "      <td>283.9</td>\n",
       "      <td>188.8</td>\n",
       "      <td>95.1</td>\n",
       "      <td>0.9</td>\n",
       "      <td>2019</td>\n",
       "    </tr>\n",
       "    <tr>\n",
       "      <th>10</th>\n",
       "      <td>2019-11</td>\n",
       "      <td>639.7</td>\n",
       "      <td>367.5</td>\n",
       "      <td>12.8</td>\n",
       "      <td>64.5</td>\n",
       "      <td>153.4</td>\n",
       "      <td>136.7</td>\n",
       "      <td>271.4</td>\n",
       "      <td>180.7</td>\n",
       "      <td>90.7</td>\n",
       "      <td>0.9</td>\n",
       "      <td>2019</td>\n",
       "    </tr>\n",
       "    <tr>\n",
       "      <th>11</th>\n",
       "      <td>2019-12</td>\n",
       "      <td>588.9</td>\n",
       "      <td>340.1</td>\n",
       "      <td>12.0</td>\n",
       "      <td>60.0</td>\n",
       "      <td>141.8</td>\n",
       "      <td>126.2</td>\n",
       "      <td>248.0</td>\n",
       "      <td>165.1</td>\n",
       "      <td>82.9</td>\n",
       "      <td>0.8</td>\n",
       "      <td>2019</td>\n",
       "    </tr>\n",
       "    <tr>\n",
       "      <th>180</th>\n",
       "      <td>2020-01</td>\n",
       "      <td>565.5</td>\n",
       "      <td>328.3</td>\n",
       "      <td>11.7</td>\n",
       "      <td>58.1</td>\n",
       "      <td>137.7</td>\n",
       "      <td>120.8</td>\n",
       "      <td>236.4</td>\n",
       "      <td>155.0</td>\n",
       "      <td>81.4</td>\n",
       "      <td>0.7</td>\n",
       "      <td>2020</td>\n",
       "    </tr>\n",
       "    <tr>\n",
       "      <th>181</th>\n",
       "      <td>2020-02</td>\n",
       "      <td>599.5</td>\n",
       "      <td>346.8</td>\n",
       "      <td>12.1</td>\n",
       "      <td>61.2</td>\n",
       "      <td>145.0</td>\n",
       "      <td>128.6</td>\n",
       "      <td>251.8</td>\n",
       "      <td>163.9</td>\n",
       "      <td>87.9</td>\n",
       "      <td>0.8</td>\n",
       "      <td>2020</td>\n",
       "    </tr>\n",
       "    <tr>\n",
       "      <th>182</th>\n",
       "      <td>2020-03</td>\n",
       "      <td>620.6</td>\n",
       "      <td>354.6</td>\n",
       "      <td>12.3</td>\n",
       "      <td>62.0</td>\n",
       "      <td>148.2</td>\n",
       "      <td>132.1</td>\n",
       "      <td>265.2</td>\n",
       "      <td>175.3</td>\n",
       "      <td>90.0</td>\n",
       "      <td>0.8</td>\n",
       "      <td>2020</td>\n",
       "    </tr>\n",
       "    <tr>\n",
       "      <th>183</th>\n",
       "      <td>2020-04</td>\n",
       "      <td>669.9</td>\n",
       "      <td>383.4</td>\n",
       "      <td>13.3</td>\n",
       "      <td>66.8</td>\n",
       "      <td>160.6</td>\n",
       "      <td>142.6</td>\n",
       "      <td>285.7</td>\n",
       "      <td>187.7</td>\n",
       "      <td>97.9</td>\n",
       "      <td>0.9</td>\n",
       "      <td>2020</td>\n",
       "    </tr>\n",
       "    <tr>\n",
       "      <th>184</th>\n",
       "      <td>2020-05</td>\n",
       "      <td>663.3</td>\n",
       "      <td>381.9</td>\n",
       "      <td>13.7</td>\n",
       "      <td>67.4</td>\n",
       "      <td>160.2</td>\n",
       "      <td>140.6</td>\n",
       "      <td>280.5</td>\n",
       "      <td>183.9</td>\n",
       "      <td>96.6</td>\n",
       "      <td>1.0</td>\n",
       "      <td>2020</td>\n",
       "    </tr>\n",
       "    <tr>\n",
       "      <th>185</th>\n",
       "      <td>2020-06</td>\n",
       "      <td>869.7</td>\n",
       "      <td>501.6</td>\n",
       "      <td>17.3</td>\n",
       "      <td>86.8</td>\n",
       "      <td>209.3</td>\n",
       "      <td>188.2</td>\n",
       "      <td>367.0</td>\n",
       "      <td>253.3</td>\n",
       "      <td>113.7</td>\n",
       "      <td>1.1</td>\n",
       "      <td>2020</td>\n",
       "    </tr>\n",
       "    <tr>\n",
       "      <th>186</th>\n",
       "      <td>2020-07</td>\n",
       "      <td>886.7</td>\n",
       "      <td>515.2</td>\n",
       "      <td>18.1</td>\n",
       "      <td>87.1</td>\n",
       "      <td>215.2</td>\n",
       "      <td>194.8</td>\n",
       "      <td>370.6</td>\n",
       "      <td>259.6</td>\n",
       "      <td>111.0</td>\n",
       "      <td>1.0</td>\n",
       "      <td>2020</td>\n",
       "    </tr>\n",
       "  </tbody>\n",
       "</table>\n",
       "</div>"
      ],
      "text/plain": [
       "       month  overall  public_housing  1-room_2-room  3-room  4-room  \\\n",
       "179  2018-12    563.5           330.8           11.1    58.9   137.6   \n",
       "0    2019-01    594.1           343.4           11.5    61.1   143.3   \n",
       "1    2019-02    613.6           356.0           11.7    62.3   148.5   \n",
       "2    2019-03    598.2           340.9           11.2    59.6   142.0   \n",
       "3    2019-04    653.1           374.6           12.3    66.2   155.9   \n",
       "4    2019-05    670.5           385.9           12.8    68.3   160.7   \n",
       "5    2019-06    692.3           400.5           13.4    70.3   167.1   \n",
       "6    2019-07    647.5           379.0           12.8    66.4   158.5   \n",
       "7    2019-08    667.2           389.6           13.2    68.8   162.6   \n",
       "8    2019-09    688.5           397.3           13.3    69.6   165.7   \n",
       "9    2019-10    664.9           380.2           13.0    66.6   158.5   \n",
       "10   2019-11    639.7           367.5           12.8    64.5   153.4   \n",
       "11   2019-12    588.9           340.1           12.0    60.0   141.8   \n",
       "180  2020-01    565.5           328.3           11.7    58.1   137.7   \n",
       "181  2020-02    599.5           346.8           12.1    61.2   145.0   \n",
       "182  2020-03    620.6           354.6           12.3    62.0   148.2   \n",
       "183  2020-04    669.9           383.4           13.3    66.8   160.6   \n",
       "184  2020-05    663.3           381.9           13.7    67.4   160.2   \n",
       "185  2020-06    869.7           501.6           17.3    86.8   209.3   \n",
       "186  2020-07    886.7           515.2           18.1    87.1   215.2   \n",
       "\n",
       "     5-room_and_executive  private_housing  private_apts_and_condo  \\\n",
       "179                 123.3            232.0                   153.6   \n",
       "0                   127.4            249.8                   163.0   \n",
       "1                   133.4            256.7                   167.6   \n",
       "2                   128.0            256.5                   167.8   \n",
       "3                   140.2            277.6                   183.6   \n",
       "4                   144.0            283.7                   190.0   \n",
       "5                   149.6            290.9                   194.9   \n",
       "6                   141.3            267.7                   178.1   \n",
       "7                   145.0            276.7                   183.2   \n",
       "8                   148.6            290.3                   192.1   \n",
       "9                   142.1            283.9                   188.8   \n",
       "10                  136.7            271.4                   180.7   \n",
       "11                  126.2            248.0                   165.1   \n",
       "180                 120.8            236.4                   155.0   \n",
       "181                 128.6            251.8                   163.9   \n",
       "182                 132.1            265.2                   175.3   \n",
       "183                 142.6            285.7                   187.7   \n",
       "184                 140.6            280.5                   183.9   \n",
       "185                 188.2            367.0                   253.3   \n",
       "186                 194.8            370.6                   259.6   \n",
       "\n",
       "     landed_properties  others  year  \n",
       "179               78.4     0.7  2018  \n",
       "0                 86.9     0.8  2019  \n",
       "1                 89.1     0.8  2019  \n",
       "2                 88.7     0.8  2019  \n",
       "3                 94.0     0.9  2019  \n",
       "4                 93.7     0.9  2019  \n",
       "5                 96.0     0.9  2019  \n",
       "6                 89.6     0.8  2019  \n",
       "7                 93.5     0.8  2019  \n",
       "8                 98.2     0.9  2019  \n",
       "9                 95.1     0.9  2019  \n",
       "10                90.7     0.9  2019  \n",
       "11                82.9     0.8  2019  \n",
       "180               81.4     0.7  2020  \n",
       "181               87.9     0.8  2020  \n",
       "182               90.0     0.8  2020  \n",
       "183               97.9     0.9  2020  \n",
       "184               96.6     1.0  2020  \n",
       "185              113.7     1.1  2020  \n",
       "186              111.0     1.0  2020  "
      ]
     },
     "execution_count": 95,
     "metadata": {},
     "output_type": "execute_result"
    }
   ],
   "source": [
    "household.tail(20)"
   ]
  },
  {
   "cell_type": "markdown",
   "metadata": {},
   "source": [
    "#### 4.7.4. Analyze Household: 5 room & executive data\n",
    "[top](#Contents)"
   ]
  },
  {
   "cell_type": "code",
   "execution_count": 71,
   "metadata": {},
   "outputs": [
    {
     "data": {
      "text/plain": [
       "[<matplotlib.lines.Line2D at 0x7f980db19eb0>]"
      ]
     },
     "execution_count": 71,
     "metadata": {},
     "output_type": "execute_result"
    },
    {
     "data": {
      "image/png": "[encoded data removed]",
      "text/plain": [
       "<Figure size 648x432 with 1 Axes>"
      ]
     },
     "metadata": {
      "needs_background": "light"
     },
     "output_type": "display_data"
    }
   ],
   "source": [
    "plt.figure(figsize=(9, 6))\n",
    "plt.plot(energy_final['5-room_and_executive'])"
   ]
  },
  {
   "cell_type": "markdown",
   "metadata": {},
   "source": [
    "#### 4.7.5. Analyze Household: private apts & condo data\n",
    "[top](#Contents)"
   ]
  },
  {
   "cell_type": "code",
   "execution_count": 72,
   "metadata": {},
   "outputs": [
    {
     "data": {
      "text/plain": [
       "[<matplotlib.lines.Line2D at 0x7f980ddec790>]"
      ]
     },
     "execution_count": 72,
     "metadata": {},
     "output_type": "execute_result"
    },
    {
     "data": {
      "image/png": "[encoded data removed]",
      "text/plain": [
       "<Figure size 648x432 with 1 Axes>"
      ]
     },
     "metadata": {
      "needs_background": "light"
     },
     "output_type": "display_data"
    }
   ],
   "source": [
    "plt.figure(figsize=(9, 6))\n",
    "plt.plot(energy_final['private_apts_and_condo'])"
   ]
  },
  {
   "cell_type": "markdown",
   "metadata": {},
   "source": [
    "#### 4.7.6. Analyze Household: landed properties data\n",
    "[top](#Contents)"
   ]
  },
  {
   "cell_type": "code",
   "execution_count": 73,
   "metadata": {},
   "outputs": [
    {
     "data": {
      "text/plain": [
       "[<matplotlib.lines.Line2D at 0x7f980de4f310>]"
      ]
     },
     "execution_count": 73,
     "metadata": {},
     "output_type": "execute_result"
    },
    {
     "data": {
      "image/png": "[encoded data removed]",
      "text/plain": [
       "<Figure size 648x432 with 1 Axes>"
      ]
     },
     "metadata": {
      "needs_background": "light"
     },
     "output_type": "display_data"
    }
   ],
   "source": [
    "plt.figure(figsize=(9, 6))\n",
    "plt.plot(energy_final['landed_properties'])"
   ]
  },
  {
   "cell_type": "markdown",
   "metadata": {},
   "source": [
    "#### 4.7.7. Analyze Household: other data\n",
    "[top](#Contents)"
   ]
  },
  {
   "cell_type": "code",
   "execution_count": 74,
   "metadata": {},
   "outputs": [
    {
     "data": {
      "text/plain": [
       "[<matplotlib.lines.Line2D at 0x7f980df809a0>]"
      ]
     },
     "execution_count": 74,
     "metadata": {},
     "output_type": "execute_result"
    },
    {
     "data": {
      "image/png": "[encoded data removed]",
      "text/plain": [
       "<Figure size 648x432 with 1 Axes>"
      ]
     },
     "metadata": {
      "needs_background": "light"
     },
     "output_type": "display_data"
    }
   ],
   "source": [
    "plt.figure(figsize=(9, 6))\n",
    "plt.plot(energy_final['others'])"
   ]
  },
  {
   "cell_type": "markdown",
   "metadata": {},
   "source": [
    "### 4.8. Analyze Others sector\n",
    "[top](#Contents)"
   ]
  },
  {
   "cell_type": "code",
   "execution_count": 75,
   "metadata": {},
   "outputs": [
    {
     "data": {
      "text/html": [
       "<div>\n",
       "<style scoped>\n",
       "    .dataframe tbody tr th:only-of-type {\n",
       "        vertical-align: middle;\n",
       "    }\n",
       "\n",
       "    .dataframe tbody tr th {\n",
       "        vertical-align: top;\n",
       "    }\n",
       "\n",
       "    .dataframe thead th {\n",
       "        text-align: right;\n",
       "    }\n",
       "</style>\n",
       "<table border=\"1\" class=\"dataframe\">\n",
       "  <thead>\n",
       "    <tr style=\"text-align: right;\">\n",
       "      <th></th>\n",
       "      <th>electricity_consumption_gwh</th>\n",
       "    </tr>\n",
       "    <tr>\n",
       "      <th>year</th>\n",
       "      <th></th>\n",
       "    </tr>\n",
       "  </thead>\n",
       "  <tbody>\n",
       "    <tr>\n",
       "      <th>2005</th>\n",
       "      <td>612.139760</td>\n",
       "    </tr>\n",
       "    <tr>\n",
       "      <th>2006</th>\n",
       "      <td>546.186656</td>\n",
       "    </tr>\n",
       "    <tr>\n",
       "      <th>2007</th>\n",
       "      <td>501.469327</td>\n",
       "    </tr>\n",
       "    <tr>\n",
       "      <th>2008</th>\n",
       "      <td>457.585496</td>\n",
       "    </tr>\n",
       "    <tr>\n",
       "      <th>2009</th>\n",
       "      <td>413.940564</td>\n",
       "    </tr>\n",
       "    <tr>\n",
       "      <th>2010</th>\n",
       "      <td>384.805705</td>\n",
       "    </tr>\n",
       "    <tr>\n",
       "      <th>2011</th>\n",
       "      <td>346.507704</td>\n",
       "    </tr>\n",
       "    <tr>\n",
       "      <th>2012</th>\n",
       "      <td>303.968869</td>\n",
       "    </tr>\n",
       "    <tr>\n",
       "      <th>2013</th>\n",
       "      <td>263.382732</td>\n",
       "    </tr>\n",
       "    <tr>\n",
       "      <th>2014</th>\n",
       "      <td>237.700663</td>\n",
       "    </tr>\n",
       "    <tr>\n",
       "      <th>2015</th>\n",
       "      <td>279.139058</td>\n",
       "    </tr>\n",
       "    <tr>\n",
       "      <th>2016</th>\n",
       "      <td>280.065965</td>\n",
       "    </tr>\n",
       "    <tr>\n",
       "      <th>2017</th>\n",
       "      <td>276.482275</td>\n",
       "    </tr>\n",
       "    <tr>\n",
       "      <th>2018</th>\n",
       "      <td>270.703648</td>\n",
       "    </tr>\n",
       "    <tr>\n",
       "      <th>2019</th>\n",
       "      <td>251.670277</td>\n",
       "    </tr>\n",
       "    <tr>\n",
       "      <th>2020</th>\n",
       "      <td>129.865103</td>\n",
       "    </tr>\n",
       "  </tbody>\n",
       "</table>\n",
       "</div>"
      ],
      "text/plain": [
       "      electricity_consumption_gwh\n",
       "year                             \n",
       "2005                   612.139760\n",
       "2006                   546.186656\n",
       "2007                   501.469327\n",
       "2008                   457.585496\n",
       "2009                   413.940564\n",
       "2010                   384.805705\n",
       "2011                   346.507704\n",
       "2012                   303.968869\n",
       "2013                   263.382732\n",
       "2014                   237.700663\n",
       "2015                   279.139058\n",
       "2016                   280.065965\n",
       "2017                   276.482275\n",
       "2018                   270.703648\n",
       "2019                   251.670277\n",
       "2020                   129.865103"
      ]
     },
     "execution_count": 75,
     "metadata": {},
     "output_type": "execute_result"
    }
   ],
   "source": [
    "oth = energy_final[energy_final['sector'] == 'Others'][['electricity_consumption_gwh']]\n",
    "oth"
   ]
  },
  {
   "cell_type": "code",
   "execution_count": 76,
   "metadata": {},
   "outputs": [
    {
     "data": {
      "text/plain": [
       "[<matplotlib.lines.Line2D at 0x7f980d7307c0>]"
      ]
     },
     "execution_count": 76,
     "metadata": {},
     "output_type": "execute_result"
    },
    {
     "data": {
      "image/png": "[encoded data removed]",
      "text/plain": [
       "<Figure size 648x432 with 1 Axes>"
      ]
     },
     "metadata": {
      "needs_background": "light"
     },
     "output_type": "display_data"
    }
   ],
   "source": [
    "plt.figure(figsize=(9, 6))\n",
    "plt.plot(oth['electricity_consumption_gwh'])"
   ]
  },
  {
   "cell_type": "code",
   "execution_count": null,
   "metadata": {},
   "outputs": [],
   "source": []
  },
  {
   "cell_type": "code",
   "execution_count": null,
   "metadata": {},
   "outputs": [],
   "source": []
  },
  {
   "cell_type": "markdown",
   "metadata": {},
   "source": [
    "## 7. Conclusions and Recommendations \n",
    "[top](#Contents)"
   ]
  },
  {
   "cell_type": "markdown",
   "metadata": {},
   "source": [
    "As Singapore enters phase 3, the pace of economic recovery is slow as many people still Work from Home and the Home-Based Learning.\n",
    "\n",
    "We foresee the rate of energy-consumption of 2021 is lower than usual, and it is quite difficult to predict the actual energy-consumption because of the amount of Industry-related activities and the amount of Commerical-related activities is lower than usual. "
   ]
  },
  {
   "cell_type": "markdown",
   "metadata": {},
   "source": [
    "## 8. References\n",
    "[top](#Contents)"
   ]
  },
  {
   "cell_type": "markdown",
   "metadata": {},
   "source": [
    "[1] Sunshine duration. https://en.wikipedia.org/wiki/Sunshine_duration\n",
    "\n",
    "[2] List of cities by sunshine duration https://en.wikipedia.org/wiki/List_of_cities_by_sunshine_duration"
   ]
  },
  {
   "cell_type": "code",
   "execution_count": null,
   "metadata": {},
   "outputs": [],
   "source": []
  }
 ],
 "metadata": {
  "kernelspec": {
   "display_name": "Python 3",
   "language": "python",
   "name": "python3"
  },
  "language_info": {
   "codemirror_mode": {
    "name": "ipython",
    "version": 3
   },
   "file_extension": ".py",
   "mimetype": "text/x-python",
   "name": "python",
   "nbconvert_exporter": "python",
   "pygments_lexer": "ipython3",
   "version": "3.8.5"
  }
 },
 "nbformat": 4,
 "nbformat_minor": 4
}
